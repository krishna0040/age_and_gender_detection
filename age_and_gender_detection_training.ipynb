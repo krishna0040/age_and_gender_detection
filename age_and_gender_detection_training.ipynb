{
  "nbformat": 4,
  "nbformat_minor": 0,
  "metadata": {
    "colab": {
      "provenance": [],
      "gpuType": "T4"
    },
    "kernelspec": {
      "name": "python3",
      "display_name": "Python 3"
    },
    "language_info": {
      "name": "python"
    },
    "accelerator": "GPU"
  },
  "cells": [
    {
      "cell_type": "code",
      "source": [
        "!mkdir -p ~/.kaggle\n",
        "!cp kaggle.json ~/.kaggle(1)/"
      ],
      "metadata": {
        "colab": {
          "base_uri": "https://localhost:8080/"
        },
        "id": "PYSrafzhvFRO",
        "outputId": "2892beec-8dd4-4e1b-e41c-690765b6b199"
      },
      "execution_count": 1,
      "outputs": [
        {
          "output_type": "stream",
          "name": "stdout",
          "text": [
            "/bin/bash: -c: line 1: syntax error near unexpected token `('\n",
            "/bin/bash: -c: line 1: `cp kaggle.json ~/.kaggle(1)/'\n"
          ]
        }
      ]
    },
    {
      "cell_type": "code",
      "source": [
        "!kaggle datasets download -d jangedoo/utkface-new"
      ],
      "metadata": {
        "colab": {
          "base_uri": "https://localhost:8080/"
        },
        "id": "ZNkSDN9ovdtl",
        "outputId": "0eec3a69-451b-44fd-ca8f-de4a21cdde85"
      },
      "execution_count": 2,
      "outputs": [
        {
          "output_type": "stream",
          "name": "stdout",
          "text": [
            "Dataset URL: https://www.kaggle.com/datasets/jangedoo/utkface-new\n",
            "License(s): copyright-authors\n",
            "Downloading utkface-new.zip to /content\n",
            " 94% 312M/331M [00:01<00:00, 225MB/s]\n",
            "100% 331M/331M [00:03<00:00, 87.5MB/s]\n"
          ]
        }
      ]
    },
    {
      "cell_type": "code",
      "source": [
        "import zipfile\n",
        "zip_ref = zipfile.ZipFile('/content/utkface-new.zip', 'r')\n",
        "zip_ref.extractall('/content')\n",
        "zip_ref.close()"
      ],
      "metadata": {
        "id": "bAt46KfJvnuW"
      },
      "execution_count": 3,
      "outputs": []
    },
    {
      "cell_type": "code",
      "execution_count": 1,
      "metadata": {
        "id": "Yuqf_fx782Sx"
      },
      "outputs": [],
      "source": [
        "import tensorflow as tf\n",
        "import cv2\n",
        "import numpy as np\n",
        "import matplotlib.pyplot as plt\n",
        "from tensorflow import keras\n",
        "from keras.layers import Dropout, Flatten, Conv2D,MaxPooling2D, BatchNormalization, Dense\n",
        "from keras.layers import Input,Activation,Add\n",
        "from keras.regularizers import l2\n",
        "from keras.optimizers import Adam, Adagrad,Adadelta,Adamax, RMSprop\n",
        "from keras.models import Model\n",
        "\n"
      ]
    },
    {
      "cell_type": "code",
      "source": [
        "fildr = '/content/UTKFace'"
      ],
      "metadata": {
        "id": "luSyo9XWt-Bg"
      },
      "execution_count": 2,
      "outputs": []
    },
    {
      "cell_type": "code",
      "source": [
        "import os\n",
        "files = os.listdir(fildr)"
      ],
      "metadata": {
        "id": "0Rcfq33cuJsO"
      },
      "execution_count": 3,
      "outputs": []
    },
    {
      "cell_type": "code",
      "source": [
        "ages=[]\n",
        "genders = []\n",
        "images =[]\n",
        "\n",
        "for i in files:\n",
        "  age = i.split('_')[0]\n",
        "  gender = i.split('_')[1]\n",
        "  total = fildr +'/'+ i\n",
        "\n",
        "  image = cv2.imread(total)\n",
        "  image = cv2.cvtColor(image,cv2.COLOR_BGR2GRAY)\n",
        "  image = cv2.resize(image,(70,70))\n",
        "\n",
        "  images.append(image)\n",
        "  ages.append(int(age))\n",
        "  genders.append(int(gender))"
      ],
      "metadata": {
        "id": "efoy8oWAwKkp",
        "collapsed": true
      },
      "execution_count": 5,
      "outputs": []
    },
    {
      "cell_type": "code",
      "source": [
        "len(images)"
      ],
      "metadata": {
        "colab": {
          "base_uri": "https://localhost:8080/"
        },
        "id": "g9HoEorz8ADN",
        "outputId": "7ab47225-4265-4749-b64d-b92b49e6e818"
      },
      "execution_count": 6,
      "outputs": [
        {
          "output_type": "execute_result",
          "data": {
            "text/plain": [
              "23708"
            ]
          },
          "metadata": {},
          "execution_count": 6
        }
      ]
    },
    {
      "cell_type": "code",
      "source": [
        "index=  1000\n",
        "plt.imshow(images[index],cmap='gray')\n",
        "print(ages[index],genders[index])"
      ],
      "metadata": {
        "id": "R_b7Q1ccxzP4",
        "colab": {
          "base_uri": "https://localhost:8080/",
          "height": 450
        },
        "outputId": "7d4b5549-05ba-45db-dca4-27baf77d1f22"
      },
      "execution_count": 33,
      "outputs": [
        {
          "output_type": "stream",
          "name": "stdout",
          "text": [
            "21 0\n"
          ]
        },
        {
          "output_type": "display_data",
          "data": {
            "text/plain": [
              "<Figure size 640x480 with 1 Axes>"
            ],
            "image/png": "[encoded data removed]"
          },
          "metadata": {}
        }
      ]
    },
    {
      "cell_type": "code",
      "source": [
        "images_f = np.array(images)\n",
        "ages_f= np.array(ages)\n",
        "genders_f= np.array(genders)"
      ],
      "metadata": {
        "id": "ESZQ72_7x_JN"
      },
      "execution_count": 8,
      "outputs": []
    },
    {
      "cell_type": "code",
      "source": [
        "values , counts = np.unique(genders_f,return_counts = True)\n",
        "print(counts)                 ###balanced dataset\n",
        "print(values)"
      ],
      "metadata": {
        "id": "4xOqeszX0UVh",
        "colab": {
          "base_uri": "https://localhost:8080/"
        },
        "outputId": "826bf79b-1468-4fea-c217-c1bc6c948e9d"
      },
      "execution_count": 9,
      "outputs": [
        {
          "output_type": "stream",
          "name": "stdout",
          "text": [
            "[12391 11317]\n",
            "[0 1]\n"
          ]
        }
      ]
    },
    {
      "cell_type": "code",
      "source": [
        "values , counts = np.unique(ages_f,return_counts = True)\n",
        "print(counts)\n",
        "print(values)"
      ],
      "metadata": {
        "id": "I8i09J1m0mFS",
        "colab": {
          "base_uri": "https://localhost:8080/"
        },
        "outputId": "e4984538-e2fe-401e-d519-73a8ec177048"
      },
      "execution_count": 10,
      "outputs": [
        {
          "output_type": "stream",
          "name": "stdout",
          "text": [
            "[1123  482  289  273  196  131  139  263  166  156   65  130   81  157\n",
            "  177  247  158  262   98  284  346  395  426  859  734 2197  615  918\n",
            "  570  724  350  664  143  409  880  483  293  325  266  526  132  266\n",
            "  157  100  440  153  170  153  148  381  138  232  241  353  268  236\n",
            "   97  271   82  293  161  125  103   50  259   77   94  100   56  147\n",
            "   33   98   63   32  148   58   28   69   23  133   22   40   18   24\n",
            "  155   35   10   34   33   82    2   13    5    9   17    9   11    2\n",
            "    1    5    5    1    3    4]\n",
            "[  1   2   3   4   5   6   7   8   9  10  11  12  13  14  15  16  17  18\n",
            "  19  20  21  22  23  24  25  26  27  28  29  30  31  32  33  34  35  36\n",
            "  37  38  39  40  41  42  43  44  45  46  47  48  49  50  51  52  53  54\n",
            "  55  56  57  58  59  60  61  62  63  64  65  66  67  68  69  70  71  72\n",
            "  73  74  75  76  77  78  79  80  81  82  83  84  85  86  87  88  89  90\n",
            "  91  92  93  95  96  99 100 101 103 105 110 111 115 116]\n"
          ]
        }
      ]
    },
    {
      "cell_type": "code",
      "source": [
        "plt.plot(values,counts)\n",
        "plt.title('age_distribution {almost normal distribution}')\n",
        "plt.xlabel('age')\n",
        "plt.ylabel('number of people (values)')\n",
        "plt.show()"
      ],
      "metadata": {
        "colab": {
          "base_uri": "https://localhost:8080/",
          "height": 472
        },
        "id": "OWfgUqNcbt3S",
        "outputId": "a4090a1b-e287-4489-c1d2-7a568e447776"
      },
      "execution_count": 11,
      "outputs": [
        {
          "output_type": "display_data",
          "data": {
            "text/plain": [
              "<Figure size 640x480 with 1 Axes>"
            ],
            "image/png": "[encoded data removed]"
          },
          "metadata": {}
        }
      ]
    },
    {
      "cell_type": "code",
      "source": [
        "print(\"age\",np.argmax(counts),\" \",\"max counts = \",np.max(counts))"
      ],
      "metadata": {
        "colab": {
          "base_uri": "https://localhost:8080/"
        },
        "id": "-P6mcuWab8-Y",
        "outputId": "9f880759-91f9-46c4-dc5c-85b7f622d786"
      },
      "execution_count": 12,
      "outputs": [
        {
          "output_type": "stream",
          "name": "stdout",
          "text": [
            "age 25   max counts =  2197\n"
          ]
        }
      ]
    },
    {
      "cell_type": "code",
      "source": [
        "labels = []\n",
        "for i in range(len(ages)):\n",
        "  labels.append([ages[i],genders[i]])\n"
      ],
      "metadata": {
        "id": "bR2-DRtbekOW"
      },
      "execution_count": 13,
      "outputs": []
    },
    {
      "cell_type": "code",
      "source": [
        "labels"
      ],
      "metadata": {
        "colab": {
          "base_uri": "https://localhost:8080/"
        },
        "collapsed": true,
        "id": "Vx5O4PjkfPr-",
        "outputId": "5bdce803-6a4e-48af-f703-3f89a31cf905"
      },
      "execution_count": 14,
      "outputs": [
        {
          "output_type": "execute_result",
          "data": {
            "text/plain": [
              "[[66, 1],\n",
              " [35, 0],\n",
              " [28, 0],\n",
              " [1, 0],\n",
              " [45, 0],\n",
              " [70, 0],\n",
              " [26, 1],\n",
              " [1, 1],\n",
              " [1, 1],\n",
              " [51, 0],\n",
              " [36, 0],\n",
              " [30, 0],\n",
              " [32, 1],\n",
              " [36, 1],\n",
              " [45, 0],\n",
              " [41, 0],\n",
              " [26, 1],\n",
              " [1, 0],\n",
              " [14, 0],\n",
              " [29, 1],\n",
              " [9, 1],\n",
              " [1, 0],\n",
              " [41, 0],\n",
              " [7, 0],\n",
              " [30, 0],\n",
              " [66, 1],\n",
              " [44, 0],\n",
              " [1, 1],\n",
              " [35, 0],\n",
              " [12, 0],\n",
              " [82, 1],\n",
              " [29, 0],\n",
              " [24, 0],\n",
              " [1, 1],\n",
              " [46, 0],\n",
              " [31, 1],\n",
              " [65, 0],\n",
              " [26, 0],\n",
              " [3, 0],\n",
              " [26, 1],\n",
              " [34, 0],\n",
              " [1, 1],\n",
              " [52, 0],\n",
              " [22, 1],\n",
              " [30, 0],\n",
              " [95, 1],\n",
              " [32, 0],\n",
              " [26, 0],\n",
              " [7, 0],\n",
              " [22, 0],\n",
              " [47, 0],\n",
              " [48, 0],\n",
              " [28, 1],\n",
              " [30, 1],\n",
              " [4, 1],\n",
              " [26, 1],\n",
              " [20, 0],\n",
              " [20, 1],\n",
              " [30, 0],\n",
              " [40, 0],\n",
              " [25, 1],\n",
              " [8, 1],\n",
              " [16, 1],\n",
              " [25, 1],\n",
              " [72, 0],\n",
              " [82, 0],\n",
              " [36, 0],\n",
              " [76, 0],\n",
              " [29, 1],\n",
              " [24, 1],\n",
              " [1, 1],\n",
              " [1, 0],\n",
              " [1, 0],\n",
              " [9, 0],\n",
              " [57, 0],\n",
              " [19, 0],\n",
              " [27, 1],\n",
              " [23, 1],\n",
              " [25, 0],\n",
              " [70, 1],\n",
              " [38, 0],\n",
              " [58, 0],\n",
              " [53, 0],\n",
              " [56, 1],\n",
              " [14, 0],\n",
              " [28, 0],\n",
              " [20, 1],\n",
              " [54, 0],\n",
              " [1, 1],\n",
              " [40, 0],\n",
              " [24, 0],\n",
              " [14, 1],\n",
              " [17, 0],\n",
              " [25, 0],\n",
              " [2, 1],\n",
              " [4, 0],\n",
              " [34, 0],\n",
              " [25, 1],\n",
              " [32, 1],\n",
              " [26, 1],\n",
              " [26, 1],\n",
              " [38, 1],\n",
              " [1, 0],\n",
              " [14, 1],\n",
              " [39, 0],\n",
              " [65, 1],\n",
              " [24, 0],\n",
              " [61, 0],\n",
              " [36, 0],\n",
              " [58, 0],\n",
              " [24, 1],\n",
              " [49, 0],\n",
              " [1, 1],\n",
              " [24, 1],\n",
              " [26, 0],\n",
              " [7, 0],\n",
              " [35, 0],\n",
              " [20, 0],\n",
              " [26, 0],\n",
              " [26, 1],\n",
              " [28, 0],\n",
              " [27, 0],\n",
              " [40, 0],\n",
              " [27, 0],\n",
              " [28, 1],\n",
              " [17, 0],\n",
              " [42, 0],\n",
              " [6, 0],\n",
              " [35, 1],\n",
              " [8, 1],\n",
              " [26, 1],\n",
              " [8, 1],\n",
              " [28, 1],\n",
              " [45, 0],\n",
              " [19, 0],\n",
              " [36, 1],\n",
              " [75, 0],\n",
              " [55, 0],\n",
              " [41, 1],\n",
              " [42, 0],\n",
              " [1, 0],\n",
              " [29, 0],\n",
              " [40, 1],\n",
              " [88, 1],\n",
              " [30, 0],\n",
              " [5, 0],\n",
              " [65, 0],\n",
              " [34, 1],\n",
              " [69, 0],\n",
              " [55, 0],\n",
              " [35, 0],\n",
              " [6, 1],\n",
              " [56, 0],\n",
              " [36, 1],\n",
              " [24, 0],\n",
              " [28, 0],\n",
              " [29, 1],\n",
              " [43, 1],\n",
              " [50, 0],\n",
              " [54, 0],\n",
              " [32, 0],\n",
              " [33, 1],\n",
              " [58, 0],\n",
              " [21, 0],\n",
              " [78, 1],\n",
              " [38, 1],\n",
              " [4, 0],\n",
              " [25, 1],\n",
              " [20, 1],\n",
              " [26, 0],\n",
              " [37, 1],\n",
              " [45, 1],\n",
              " [35, 0],\n",
              " [4, 0],\n",
              " [74, 0],\n",
              " [35, 0],\n",
              " [50, 1],\n",
              " [27, 1],\n",
              " [48, 0],\n",
              " [26, 0],\n",
              " [3, 1],\n",
              " [55, 0],\n",
              " [27, 1],\n",
              " [54, 1],\n",
              " [21, 0],\n",
              " [1, 0],\n",
              " [56, 0],\n",
              " [27, 1],\n",
              " [44, 1],\n",
              " [30, 1],\n",
              " [1, 0],\n",
              " [43, 1],\n",
              " [1, 0],\n",
              " [46, 0],\n",
              " [66, 0],\n",
              " [31, 0],\n",
              " [26, 1],\n",
              " [29, 0],\n",
              " [26, 0],\n",
              " [38, 0],\n",
              " [60, 1],\n",
              " [1, 0],\n",
              " [53, 0],\n",
              " [26, 0],\n",
              " [30, 0],\n",
              " [25, 1],\n",
              " [29, 1],\n",
              " [24, 1],\n",
              " [12, 0],\n",
              " [30, 0],\n",
              " [90, 0],\n",
              " [58, 0],\n",
              " [15, 1],\n",
              " [31, 0],\n",
              " [3, 0],\n",
              " [34, 0],\n",
              " [24, 1],\n",
              " [28, 1],\n",
              " [31, 1],\n",
              " [76, 1],\n",
              " [25, 1],\n",
              " [26, 1],\n",
              " [49, 0],\n",
              " [35, 0],\n",
              " [24, 1],\n",
              " [40, 0],\n",
              " [59, 0],\n",
              " [65, 0],\n",
              " [55, 1],\n",
              " [24, 0],\n",
              " [35, 0],\n",
              " [18, 1],\n",
              " [20, 0],\n",
              " [71, 1],\n",
              " [26, 0],\n",
              " [28, 0],\n",
              " [26, 1],\n",
              " [1, 1],\n",
              " [1, 0],\n",
              " [2, 0],\n",
              " [31, 0],\n",
              " [24, 0],\n",
              " [24, 1],\n",
              " [1, 1],\n",
              " [32, 1],\n",
              " [24, 1],\n",
              " [8, 0],\n",
              " [34, 0],\n",
              " [52, 0],\n",
              " [60, 0],\n",
              " [8, 1],\n",
              " [32, 1],\n",
              " [1, 1],\n",
              " [18, 1],\n",
              " [18, 1],\n",
              " [54, 0],\n",
              " [54, 0],\n",
              " [34, 0],\n",
              " [35, 1],\n",
              " [60, 0],\n",
              " [27, 1],\n",
              " [48, 0],\n",
              " [2, 0],\n",
              " [40, 0],\n",
              " [30, 0],\n",
              " [2, 1],\n",
              " [80, 1],\n",
              " [41, 1],\n",
              " [18, 1],\n",
              " [48, 0],\n",
              " [40, 1],\n",
              " [63, 1],\n",
              " [25, 0],\n",
              " [1, 1],\n",
              " [21, 1],\n",
              " [39, 0],\n",
              " [51, 0],\n",
              " [52, 0],\n",
              " [25, 0],\n",
              " [40, 0],\n",
              " [32, 0],\n",
              " [80, 0],\n",
              " [35, 1],\n",
              " [29, 0],\n",
              " [28, 0],\n",
              " [26, 1],\n",
              " [26, 0],\n",
              " [15, 0],\n",
              " [46, 0],\n",
              " [35, 1],\n",
              " [19, 1],\n",
              " [26, 1],\n",
              " [10, 0],\n",
              " [26, 1],\n",
              " [34, 1],\n",
              " [48, 0],\n",
              " [55, 0],\n",
              " [34, 0],\n",
              " [31, 1],\n",
              " [57, 0],\n",
              " [55, 0],\n",
              " [24, 1],\n",
              " [2, 1],\n",
              " [80, 1],\n",
              " [3, 1],\n",
              " [70, 0],\n",
              " [56, 0],\n",
              " [47, 0],\n",
              " [1, 0],\n",
              " [52, 0],\n",
              " [15, 1],\n",
              " [43, 1],\n",
              " [22, 0],\n",
              " [10, 1],\n",
              " [26, 0],\n",
              " [47, 1],\n",
              " [24, 0],\n",
              " [32, 1],\n",
              " [1, 0],\n",
              " [35, 1],\n",
              " [10, 0],\n",
              " [31, 0],\n",
              " [2, 0],\n",
              " [21, 1],\n",
              " [53, 0],\n",
              " [25, 1],\n",
              " [28, 0],\n",
              " [35, 1],\n",
              " [29, 0],\n",
              " [22, 0],\n",
              " [54, 0],\n",
              " [60, 0],\n",
              " [57, 0],\n",
              " [61, 0],\n",
              " [54, 0],\n",
              " [45, 0],\n",
              " [37, 1],\n",
              " [47, 0],\n",
              " [10, 0],\n",
              " [26, 1],\n",
              " [59, 0],\n",
              " [46, 1],\n",
              " [29, 1],\n",
              " [21, 1],\n",
              " [26, 0],\n",
              " [30, 0],\n",
              " [28, 1],\n",
              " [1, 0],\n",
              " [55, 0],\n",
              " [26, 0],\n",
              " [41, 0],\n",
              " [17, 1],\n",
              " [26, 1],\n",
              " [40, 0],\n",
              " [2, 1],\n",
              " [29, 0],\n",
              " [60, 1],\n",
              " [18, 0],\n",
              " [60, 0],\n",
              " [4, 1],\n",
              " [2, 0],\n",
              " [78, 1],\n",
              " [82, 0],\n",
              " [1, 0],\n",
              " [54, 1],\n",
              " [43, 1],\n",
              " [35, 0],\n",
              " [19, 1],\n",
              " [19, 1],\n",
              " [27, 1],\n",
              " [32, 0],\n",
              " [28, 1],\n",
              " [30, 1],\n",
              " [28, 1],\n",
              " [58, 0],\n",
              " [54, 0],\n",
              " [22, 0],\n",
              " [24, 1],\n",
              " [30, 1],\n",
              " [39, 0],\n",
              " [26, 0],\n",
              " [26, 0],\n",
              " [39, 0],\n",
              " [26, 0],\n",
              " [20, 0],\n",
              " [18, 1],\n",
              " [26, 1],\n",
              " [29, 1],\n",
              " [40, 0],\n",
              " [8, 1],\n",
              " [30, 0],\n",
              " [50, 0],\n",
              " [55, 0],\n",
              " [20, 0],\n",
              " [26, 0],\n",
              " [40, 1],\n",
              " [20, 0],\n",
              " [26, 0],\n",
              " [2, 0],\n",
              " [80, 1],\n",
              " [26, 0],\n",
              " [15, 0],\n",
              " [80, 0],\n",
              " [28, 0],\n",
              " [61, 0],\n",
              " [14, 0],\n",
              " [27, 0],\n",
              " [58, 0],\n",
              " [26, 1],\n",
              " [3, 1],\n",
              " [35, 1],\n",
              " [46, 0],\n",
              " [7, 0],\n",
              " [28, 0],\n",
              " [68, 1],\n",
              " [17, 1],\n",
              " [18, 1],\n",
              " [56, 1],\n",
              " [24, 1],\n",
              " [40, 0],\n",
              " [24, 0],\n",
              " [4, 1],\n",
              " [12, 1],\n",
              " [18, 1],\n",
              " [80, 0],\n",
              " [24, 1],\n",
              " [35, 0],\n",
              " [25, 1],\n",
              " [35, 1],\n",
              " [39, 0],\n",
              " [28, 0],\n",
              " [65, 1],\n",
              " [72, 0],\n",
              " [47, 0],\n",
              " [50, 0],\n",
              " [73, 1],\n",
              " [26, 1],\n",
              " [24, 1],\n",
              " [41, 0],\n",
              " [26, 0],\n",
              " [1, 0],\n",
              " [39, 0],\n",
              " [26, 1],\n",
              " [47, 1],\n",
              " [57, 0],\n",
              " [27, 1],\n",
              " [22, 0],\n",
              " [26, 1],\n",
              " [26, 0],\n",
              " [87, 0],\n",
              " [1, 0],\n",
              " [60, 0],\n",
              " [29, 1],\n",
              " [25, 0],\n",
              " [52, 0],\n",
              " [28, 0],\n",
              " [32, 1],\n",
              " [9, 0],\n",
              " [13, 0],\n",
              " [52, 1],\n",
              " [75, 0],\n",
              " [28, 0],\n",
              " [31, 0],\n",
              " [39, 1],\n",
              " [32, 1],\n",
              " [56, 1],\n",
              " [1, 1],\n",
              " [27, 1],\n",
              " [30, 1],\n",
              " [57, 0],\n",
              " [18, 1],\n",
              " [37, 0],\n",
              " [28, 0],\n",
              " [29, 0],\n",
              " [51, 1],\n",
              " [40, 1],\n",
              " [28, 0],\n",
              " [25, 1],\n",
              " [29, 1],\n",
              " [16, 1],\n",
              " [40, 1],\n",
              " [24, 0],\n",
              " [27, 0],\n",
              " [27, 1],\n",
              " [1, 0],\n",
              " [50, 0],\n",
              " [35, 0],\n",
              " [34, 1],\n",
              " [32, 0],\n",
              " [23, 1],\n",
              " [44, 0],\n",
              " [50, 1],\n",
              " [31, 0],\n",
              " [58, 0],\n",
              " [39, 0],\n",
              " [39, 0],\n",
              " [26, 0],\n",
              " [50, 0],\n",
              " [44, 0],\n",
              " [69, 1],\n",
              " [27, 1],\n",
              " [61, 0],\n",
              " [26, 0],\n",
              " [44, 0],\n",
              " [26, 0],\n",
              " [38, 1],\n",
              " [30, 1],\n",
              " [37, 1],\n",
              " [35, 0],\n",
              " [26, 0],\n",
              " [35, 1],\n",
              " [2, 1],\n",
              " [10, 0],\n",
              " [47, 1],\n",
              " [4, 1],\n",
              " [34, 0],\n",
              " [37, 1],\n",
              " [28, 1],\n",
              " [33, 1],\n",
              " [26, 0],\n",
              " [58, 0],\n",
              " [45, 0],\n",
              " [76, 0],\n",
              " [26, 0],\n",
              " [8, 0],\n",
              " [70, 0],\n",
              " [35, 0],\n",
              " [22, 0],\n",
              " [26, 1],\n",
              " [31, 1],\n",
              " [27, 0],\n",
              " [26, 1],\n",
              " [24, 1],\n",
              " [55, 0],\n",
              " [60, 0],\n",
              " [26, 0],\n",
              " [61, 1],\n",
              " [10, 1],\n",
              " [26, 0],\n",
              " [17, 0],\n",
              " [8, 0],\n",
              " [32, 0],\n",
              " [1, 0],\n",
              " [8, 1],\n",
              " [21, 1],\n",
              " [28, 0],\n",
              " [1, 1],\n",
              " [14, 0],\n",
              " [3, 1],\n",
              " [22, 1],\n",
              " [41, 0],\n",
              " [40, 1],\n",
              " [40, 1],\n",
              " [26, 0],\n",
              " [31, 1],\n",
              " [24, 0],\n",
              " [14, 0],\n",
              " [55, 0],\n",
              " [40, 0],\n",
              " [60, 0],\n",
              " [25, 0],\n",
              " [31, 1],\n",
              " [5, 1],\n",
              " [28, 0],\n",
              " [2, 1],\n",
              " [27, 0],\n",
              " [24, 1],\n",
              " [24, 0],\n",
              " [24, 0],\n",
              " [8, 1],\n",
              " [45, 1],\n",
              " [29, 1],\n",
              " [72, 1],\n",
              " [30, 1],\n",
              " [22, 1],\n",
              " [32, 1],\n",
              " [81, 0],\n",
              " [35, 0],\n",
              " [70, 1],\n",
              " [27, 1],\n",
              " [37, 1],\n",
              " [1, 0],\n",
              " [24, 1],\n",
              " [15, 0],\n",
              " [46, 0],\n",
              " [73, 0],\n",
              " [24, 0],\n",
              " [26, 0],\n",
              " [32, 0],\n",
              " [24, 0],\n",
              " [47, 0],\n",
              " [30, 0],\n",
              " [30, 1],\n",
              " [1, 1],\n",
              " [59, 1],\n",
              " [73, 0],\n",
              " [65, 0],\n",
              " [24, 1],\n",
              " [29, 1],\n",
              " [13, 0],\n",
              " [10, 0],\n",
              " [22, 1],\n",
              " [55, 0],\n",
              " [22, 1],\n",
              " [17, 1],\n",
              " [26, 0],\n",
              " [55, 0],\n",
              " [26, 1],\n",
              " [50, 0],\n",
              " [25, 1],\n",
              " [27, 1],\n",
              " [32, 1],\n",
              " [64, 0],\n",
              " [64, 0],\n",
              " [61, 0],\n",
              " [61, 1],\n",
              " [62, 1],\n",
              " [24, 1],\n",
              " [38, 1],\n",
              " [34, 1],\n",
              " [100, 1],\n",
              " [10, 0],\n",
              " [35, 0],\n",
              " [37, 0],\n",
              " [49, 0],\n",
              " [35, 0],\n",
              " [26, 1],\n",
              " [7, 0],\n",
              " [35, 0],\n",
              " [42, 0],\n",
              " [35, 0],\n",
              " [29, 1],\n",
              " [24, 1],\n",
              " [1, 0],\n",
              " [31, 0],\n",
              " [55, 1],\n",
              " [35, 0],\n",
              " [35, 0],\n",
              " [80, 1],\n",
              " [26, 1],\n",
              " [1, 1],\n",
              " [41, 0],\n",
              " [55, 1],\n",
              " [10, 0],\n",
              " [2, 0],\n",
              " [26, 1],\n",
              " [39, 0],\n",
              " [1, 0],\n",
              " [25, 0],\n",
              " [65, 0],\n",
              " [40, 0],\n",
              " [82, 0],\n",
              " [24, 1],\n",
              " [83, 1],\n",
              " [1, 0],\n",
              " [34, 1],\n",
              " [54, 0],\n",
              " [57, 1],\n",
              " [34, 1],\n",
              " [33, 0],\n",
              " [8, 1],\n",
              " [27, 1],\n",
              " [10, 1],\n",
              " [60, 1],\n",
              " [35, 0],\n",
              " [17, 0],\n",
              " [25, 0],\n",
              " [60, 1],\n",
              " [28, 1],\n",
              " [57, 0],\n",
              " [60, 0],\n",
              " [21, 1],\n",
              " [25, 1],\n",
              " [50, 0],\n",
              " [39, 0],\n",
              " [24, 1],\n",
              " [27, 0],\n",
              " [26, 0],\n",
              " [24, 0],\n",
              " [32, 0],\n",
              " [6, 1],\n",
              " [75, 0],\n",
              " [34, 1],\n",
              " [35, 0],\n",
              " [33, 0],\n",
              " [70, 0],\n",
              " [55, 0],\n",
              " [52, 0],\n",
              " [5, 0],\n",
              " [48, 0],\n",
              " [27, 1],\n",
              " [30, 0],\n",
              " [37, 1],\n",
              " [10, 0],\n",
              " [25, 1],\n",
              " [28, 1],\n",
              " [31, 0],\n",
              " [6, 1],\n",
              " [56, 1],\n",
              " [27, 0],\n",
              " [3, 1],\n",
              " [34, 0],\n",
              " [80, 0],\n",
              " [50, 0],\n",
              " [35, 1],\n",
              " [36, 1],\n",
              " [34, 1],\n",
              " [27, 1],\n",
              " [27, 1],\n",
              " [43, 1],\n",
              " [80, 0],\n",
              " [65, 1],\n",
              " [18, 1],\n",
              " [1, 0],\n",
              " [49, 1],\n",
              " [3, 1],\n",
              " [42, 1],\n",
              " [1, 1],\n",
              " [78, 0],\n",
              " [56, 0],\n",
              " [36, 0],\n",
              " [26, 0],\n",
              " [85, 1],\n",
              " [67, 0],\n",
              " [53, 0],\n",
              " [28, 0],\n",
              " [56, 0],\n",
              " [54, 1],\n",
              " [25, 1],\n",
              " [54, 0],\n",
              " [1, 0],\n",
              " [26, 0],\n",
              " [23, 0],\n",
              " [72, 1],\n",
              " [47, 0],\n",
              " [60, 1],\n",
              " [12, 1],\n",
              " [29, 0],\n",
              " [67, 0],\n",
              " [78, 0],\n",
              " [40, 0],\n",
              " [45, 0],\n",
              " [23, 0],\n",
              " [69, 1],\n",
              " [26, 1],\n",
              " [24, 1],\n",
              " [26, 1],\n",
              " [35, 1],\n",
              " [1, 1],\n",
              " [46, 0],\n",
              " [27, 1],\n",
              " [43, 0],\n",
              " [24, 1],\n",
              " [1, 0],\n",
              " [26, 1],\n",
              " [2, 1],\n",
              " [20, 1],\n",
              " [10, 1],\n",
              " [76, 0],\n",
              " [50, 0],\n",
              " [20, 1],\n",
              " [1, 0],\n",
              " [35, 1],\n",
              " [57, 0],\n",
              " [26, 1],\n",
              " [22, 0],\n",
              " [36, 0],\n",
              " [32, 1],\n",
              " [28, 1],\n",
              " [56, 1],\n",
              " [2, 0],\n",
              " [18, 0],\n",
              " [37, 0],\n",
              " [1, 1],\n",
              " [25, 1],\n",
              " [38, 1],\n",
              " [26, 0],\n",
              " [58, 0],\n",
              " [38, 0],\n",
              " [74, 1],\n",
              " [29, 0],\n",
              " [54, 1],\n",
              " [15, 0],\n",
              " [85, 1],\n",
              " [54, 0],\n",
              " [40, 0],\n",
              " [2, 1],\n",
              " [23, 1],\n",
              " [29, 0],\n",
              " [30, 0],\n",
              " [40, 0],\n",
              " [27, 0],\n",
              " [32, 1],\n",
              " [2, 0],\n",
              " [34, 0],\n",
              " [37, 1],\n",
              " [58, 0],\n",
              " [49, 1],\n",
              " [24, 0],\n",
              " [23, 1],\n",
              " [18, 1],\n",
              " [32, 1],\n",
              " [26, 1],\n",
              " [35, 0],\n",
              " [5, 0],\n",
              " [31, 0],\n",
              " [75, 0],\n",
              " [28, 1],\n",
              " [30, 1],\n",
              " [45, 0],\n",
              " [23, 0],\n",
              " [22, 1],\n",
              " [17, 1],\n",
              " [60, 0],\n",
              " [26, 1],\n",
              " [32, 0],\n",
              " [53, 0],\n",
              " [28, 0],\n",
              " [50, 0],\n",
              " [1, 1],\n",
              " [26, 0],\n",
              " [26, 1],\n",
              " [60, 0],\n",
              " [42, 1],\n",
              " [36, 1],\n",
              " [26, 1],\n",
              " [63, 0],\n",
              " [35, 0],\n",
              " [47, 0],\n",
              " [57, 0],\n",
              " [32, 1],\n",
              " [1, 0],\n",
              " [18, 1],\n",
              " [99, 1],\n",
              " [32, 0],\n",
              " [45, 0],\n",
              " [28, 0],\n",
              " [18, 0],\n",
              " [44, 0],\n",
              " [26, 1],\n",
              " [37, 0],\n",
              " [33, 0],\n",
              " [7, 0],\n",
              " [26, 1],\n",
              " [71, 0],\n",
              " [24, 1],\n",
              " [24, 0],\n",
              " [28, 0],\n",
              " [5, 0],\n",
              " [17, 1],\n",
              " [29, 1],\n",
              " [22, 0],\n",
              " [32, 1],\n",
              " [61, 1],\n",
              " [85, 0],\n",
              " [40, 1],\n",
              " [66, 1],\n",
              " [51, 0],\n",
              " [18, 0],\n",
              " [24, 1],\n",
              " [40, 1],\n",
              " [35, 0],\n",
              " [60, 1],\n",
              " [26, 1],\n",
              " [50, 0],\n",
              " [22, 0],\n",
              " [45, 0],\n",
              " [63, 0],\n",
              " [62, 1],\n",
              " [22, 1],\n",
              " [26, 0],\n",
              " [35, 0],\n",
              " [25, 1],\n",
              " [69, 1],\n",
              " [84, 1],\n",
              " [45, 0],\n",
              " [32, 0],\n",
              " [26, 1],\n",
              " [25, 0],\n",
              " [11, 1],\n",
              " [17, 0],\n",
              " [70, 0],\n",
              " [52, 0],\n",
              " [1, 1],\n",
              " [35, 1],\n",
              " [28, 0],\n",
              " [60, 0],\n",
              " [17, 0],\n",
              " [24, 1],\n",
              " [50, 0],\n",
              " [24, 0],\n",
              " [32, 1],\n",
              " [24, 1],\n",
              " [45, 0],\n",
              " [4, 0],\n",
              " [28, 0],\n",
              " [65, 0],\n",
              " [1, 0],\n",
              " [50, 0],\n",
              " [10, 0],\n",
              " [45, 0],\n",
              " [55, 1],\n",
              " [30, 1],\n",
              " [27, 1],\n",
              " [26, 0],\n",
              " [46, 1],\n",
              " [54, 0],\n",
              " [16, 1],\n",
              " [28, 0],\n",
              " [18, 1],\n",
              " [21, 1],\n",
              " [38, 0],\n",
              " [48, 1],\n",
              " [16, 0],\n",
              " [29, 0],\n",
              " [10, 0],\n",
              " [74, 0],\n",
              " [29, 1],\n",
              " [34, 0],\n",
              " [24, 1],\n",
              " [12, 1],\n",
              " [30, 1],\n",
              " [24, 1],\n",
              " [32, 1],\n",
              " [19, 0],\n",
              " [35, 0],\n",
              " [30, 0],\n",
              " [90, 0],\n",
              " [9, 0],\n",
              " [25, 1],\n",
              " [33, 0],\n",
              " [9, 0],\n",
              " [30, 1],\n",
              " [15, 0],\n",
              " [67, 0],\n",
              " [7, 1],\n",
              " [26, 1],\n",
              " [18, 1],\n",
              " [1, 0],\n",
              " [17, 0],\n",
              " [27, 0],\n",
              " [27, 1],\n",
              " [32, 1],\n",
              " [30, 1],\n",
              " [65, 0],\n",
              " [54, 0],\n",
              " [25, 1],\n",
              " [26, 1],\n",
              " [24, 1],\n",
              " [22, 0],\n",
              " [30, 0],\n",
              " [75, 0],\n",
              " [7, 0],\n",
              " [1, 0],\n",
              " [35, 0],\n",
              " [28, 0],\n",
              " [25, 0],\n",
              " [67, 0],\n",
              " [2, 1],\n",
              " [44, 0],\n",
              " [22, 0],\n",
              " [32, 0],\n",
              " [56, 0],\n",
              " [75, 1],\n",
              " [60, 1],\n",
              " [28, 0],\n",
              " [22, 0],\n",
              " [35, 0],\n",
              " [62, 0],\n",
              " [42, 0],\n",
              " [18, 1],\n",
              " [30, 1],\n",
              " [45, 0],\n",
              " [53, 0],\n",
              " [56, 1],\n",
              " [1, 0],\n",
              " [29, 1],\n",
              " [16, 1],\n",
              " [28, 1],\n",
              " [30, 1],\n",
              " [51, 0],\n",
              " [29, 0],\n",
              " [23, 1],\n",
              " [35, 1],\n",
              " [55, 0],\n",
              " [26, 1],\n",
              " [53, 0],\n",
              " [9, 0],\n",
              " [55, 0],\n",
              " [35, 0],\n",
              " [29, 0],\n",
              " [22, 0],\n",
              " [27, 0],\n",
              " [26, 0],\n",
              " [28, 1],\n",
              " [27, 1],\n",
              " [26, 1],\n",
              " [45, 0],\n",
              " [35, 1],\n",
              " [46, 0],\n",
              " ...]"
            ]
          },
          "metadata": {},
          "execution_count": 14
        }
      ]
    },
    {
      "cell_type": "code",
      "source": [
        "images_f_2 = images_f/ 255.0\n",
        "labels_f = np.array(labels)"
      ],
      "metadata": {
        "id": "1UpjbQv0ffl3"
      },
      "execution_count": 15,
      "outputs": []
    },
    {
      "cell_type": "code",
      "source": [
        "print(images_f_2.shape,labels_f.shape)"
      ],
      "metadata": {
        "colab": {
          "base_uri": "https://localhost:8080/"
        },
        "id": "wLHVkHaDf4cw",
        "outputId": "59e6c0cc-48b4-45e2-96b1-a759fcf43d42"
      },
      "execution_count": 16,
      "outputs": [
        {
          "output_type": "stream",
          "name": "stdout",
          "text": [
            "(23708, 70, 70) (23708, 2)\n"
          ]
        }
      ]
    },
    {
      "cell_type": "code",
      "source": [
        "from sklearn.model_selection import train_test_split\n",
        "\n",
        "x_train,x_test,y_train,y_test = train_test_split(images_f_2,labels_f,test_size = 0.2,random_state = 42)"
      ],
      "metadata": {
        "id": "gPK7hMGjgE3y"
      },
      "execution_count": 17,
      "outputs": []
    },
    {
      "cell_type": "code",
      "source": [
        "print(x_train.shape,y_train.shape)"
      ],
      "metadata": {
        "colab": {
          "base_uri": "https://localhost:8080/"
        },
        "id": "OWq6OFgFgVGL",
        "outputId": "7f99c934-7234-482a-d8ce-9e2aaacae4e3"
      },
      "execution_count": 18,
      "outputs": [
        {
          "output_type": "stream",
          "name": "stdout",
          "text": [
            "(18966, 70, 70) (18966, 2)\n"
          ]
        }
      ]
    },
    {
      "cell_type": "code",
      "source": [
        "y_train_2 = [y_train[:,1],y_train[:,0]]\n",
        "y_test_2 = [y_test[:,1],y_test[:,0]]"
      ],
      "metadata": {
        "id": "YnrHhzbfhBwq"
      },
      "execution_count": 19,
      "outputs": []
    },
    {
      "cell_type": "code",
      "source": [
        "def Convulation(input_tensor, filters):\n",
        "  x=Conv2D(filters=filters, kernel_size=(3,3),padding = 'same',strides=(1,1),kernel_regularizer=l2(0.0001))(input_tensor)\n",
        "  x=Dropout(0.1)(x)\n",
        "  x=Activation('relu')(x)\n",
        "  return x"
      ],
      "metadata": {
        "id": "IFu_xsbVKM3K"
      },
      "execution_count": 20,
      "outputs": []
    },
    {
      "cell_type": "code",
      "source": [
        "def model(input_shape):\n",
        "  input = Input((input_shape))\n",
        "  conv1 = Convulation(input,32)\n",
        "  pool1 = MaxPooling2D(pool_size = (2,2))(conv1)\n",
        "\n",
        "  conv2 = Convulation(pool1,64)\n",
        "  pool2 = MaxPooling2D(pool_size=(2,2))(conv2)\n",
        "\n",
        "  conv3 = Convulation(pool2,128)\n",
        "  pool3 = MaxPooling2D(pool_size=(2,2))(conv3)\n",
        "\n",
        "  conv4 = Convulation(pool3,256)\n",
        "  pool4 = MaxPooling2D(pool_size=(2,2))(conv4)\n",
        "\n",
        "  conv5 = Convulation(pool4, 512)\n",
        "  pool5 = MaxPooling2D(pool_size=(2,2))(conv5)\n",
        "\n",
        "  conv6 = Convulation(pool5, 512)\n",
        "  pool6 = MaxPooling2D(pool_size=(2,2))(conv6)\n",
        "\n",
        "  flatten = Flatten()(pool6)\n",
        "\n",
        "  dense1 = Dense(64,activation = 'relu')(flatten)\n",
        "  dense2 = Dense(64,activation = 'relu')(flatten)\n",
        "\n",
        "  drop_1 = Dropout(0.2)(dense1)\n",
        "  drop_2 = Dropout(0.2)(dense2)\n",
        "\n",
        "  output_1 = Dense(1,activation = 'sigmoid',name='sex_out')(drop_1)     ## gender_output\n",
        "  output_2 = Dense(1,activation = 'relu', name ='age_out')(drop_2)      ## age_output\n",
        "\n",
        "  x = Model(inputs = [input], outputs = [output_1,output_2])\n",
        "  x.compile(\n",
        "        loss={'sex_out': 'binary_crossentropy', 'age_out': 'mae'},\n",
        "        optimizer=\"rmsprop\",\n",
        "        metrics={'sex_out': ['accuracy'], 'age_out': ['mae']}\n",
        "    )\n",
        "\n",
        "  return x"
      ],
      "metadata": {
        "id": "SPfi1SL5hZX1"
      },
      "execution_count": 26,
      "outputs": []
    },
    {
      "cell_type": "code",
      "source": [
        "m = model((70,70,1))"
      ],
      "metadata": {
        "id": "LqR6q76SNQ5l"
      },
      "execution_count": 27,
      "outputs": []
    },
    {
      "cell_type": "code",
      "source": [
        "m.summary()"
      ],
      "metadata": {
        "colab": {
          "base_uri": "https://localhost:8080/",
          "height": 1000
        },
        "id": "oOgir59WO7vn",
        "outputId": "0b7e0471-7b65-45e1-912f-784ead059a84",
        "collapsed": true
      },
      "execution_count": 28,
      "outputs": [
        {
          "output_type": "display_data",
          "data": {
            "text/plain": [
              "\u001b[1mModel: \"functional_1\"\u001b[0m\n"
            ],
            "text/html": [
              "<pre style=\"white-space:pre;overflow-x:auto;line-height:normal;font-family:Menlo,'DejaVu Sans Mono',consolas,'Courier New',monospace\"><span style=\"font-weight: bold\">Model: \"functional_1\"</span>\n",
              "</pre>\n"
            ]
          },
          "metadata": {}
        },
        {
          "output_type": "display_data",
          "data": {
            "text/plain": [
              "┏━━━━━━━━━━━━━━━━━━━━━━━━━━━┳━━━━━━━━━━━━━━━━━━━━━━━━┳━━━━━━━━━━━━━━━━┳━━━━━━━━━━━━━━━━━━━━━━━━┓\n",
              "┃\u001b[1m \u001b[0m\u001b[1mLayer (type)             \u001b[0m\u001b[1m \u001b[0m┃\u001b[1m \u001b[0m\u001b[1mOutput Shape          \u001b[0m\u001b[1m \u001b[0m┃\u001b[1m \u001b[0m\u001b[1m       Param #\u001b[0m\u001b[1m \u001b[0m┃\u001b[1m \u001b[0m\u001b[1mConnected to          \u001b[0m\u001b[1m \u001b[0m┃\n",
              "┡━━━━━━━━━━━━━━━━━━━━━━━━━━━╇━━━━━━━━━━━━━━━━━━━━━━━━╇━━━━━━━━━━━━━━━━╇━━━━━━━━━━━━━━━━━━━━━━━━┩\n",
              "│ input_layer_1             │ (\u001b[38;5;45mNone\u001b[0m, \u001b[38;5;34m70\u001b[0m, \u001b[38;5;34m70\u001b[0m, \u001b[38;5;34m1\u001b[0m)      │              \u001b[38;5;34m0\u001b[0m │ -                      │\n",
              "│ (\u001b[38;5;33mInputLayer\u001b[0m)              │                        │                │                        │\n",
              "├───────────────────────────┼────────────────────────┼────────────────┼────────────────────────┤\n",
              "│ conv2d_6 (\u001b[38;5;33mConv2D\u001b[0m)         │ (\u001b[38;5;45mNone\u001b[0m, \u001b[38;5;34m70\u001b[0m, \u001b[38;5;34m70\u001b[0m, \u001b[38;5;34m32\u001b[0m)     │            \u001b[38;5;34m320\u001b[0m │ input_layer_1[\u001b[38;5;34m0\u001b[0m][\u001b[38;5;34m0\u001b[0m]    │\n",
              "├───────────────────────────┼────────────────────────┼────────────────┼────────────────────────┤\n",
              "│ dropout_8 (\u001b[38;5;33mDropout\u001b[0m)       │ (\u001b[38;5;45mNone\u001b[0m, \u001b[38;5;34m70\u001b[0m, \u001b[38;5;34m70\u001b[0m, \u001b[38;5;34m32\u001b[0m)     │              \u001b[38;5;34m0\u001b[0m │ conv2d_6[\u001b[38;5;34m0\u001b[0m][\u001b[38;5;34m0\u001b[0m]         │\n",
              "├───────────────────────────┼────────────────────────┼────────────────┼────────────────────────┤\n",
              "│ activation_6 (\u001b[38;5;33mActivation\u001b[0m) │ (\u001b[38;5;45mNone\u001b[0m, \u001b[38;5;34m70\u001b[0m, \u001b[38;5;34m70\u001b[0m, \u001b[38;5;34m32\u001b[0m)     │              \u001b[38;5;34m0\u001b[0m │ dropout_8[\u001b[38;5;34m0\u001b[0m][\u001b[38;5;34m0\u001b[0m]        │\n",
              "├───────────────────────────┼────────────────────────┼────────────────┼────────────────────────┤\n",
              "│ max_pooling2d_6           │ (\u001b[38;5;45mNone\u001b[0m, \u001b[38;5;34m35\u001b[0m, \u001b[38;5;34m35\u001b[0m, \u001b[38;5;34m32\u001b[0m)     │              \u001b[38;5;34m0\u001b[0m │ activation_6[\u001b[38;5;34m0\u001b[0m][\u001b[38;5;34m0\u001b[0m]     │\n",
              "│ (\u001b[38;5;33mMaxPooling2D\u001b[0m)            │                        │                │                        │\n",
              "├───────────────────────────┼────────────────────────┼────────────────┼────────────────────────┤\n",
              "│ conv2d_7 (\u001b[38;5;33mConv2D\u001b[0m)         │ (\u001b[38;5;45mNone\u001b[0m, \u001b[38;5;34m35\u001b[0m, \u001b[38;5;34m35\u001b[0m, \u001b[38;5;34m64\u001b[0m)     │         \u001b[38;5;34m18,496\u001b[0m │ max_pooling2d_6[\u001b[38;5;34m0\u001b[0m][\u001b[38;5;34m0\u001b[0m]  │\n",
              "├───────────────────────────┼────────────────────────┼────────────────┼────────────────────────┤\n",
              "│ dropout_9 (\u001b[38;5;33mDropout\u001b[0m)       │ (\u001b[38;5;45mNone\u001b[0m, \u001b[38;5;34m35\u001b[0m, \u001b[38;5;34m35\u001b[0m, \u001b[38;5;34m64\u001b[0m)     │              \u001b[38;5;34m0\u001b[0m │ conv2d_7[\u001b[38;5;34m0\u001b[0m][\u001b[38;5;34m0\u001b[0m]         │\n",
              "├───────────────────────────┼────────────────────────┼────────────────┼────────────────────────┤\n",
              "│ activation_7 (\u001b[38;5;33mActivation\u001b[0m) │ (\u001b[38;5;45mNone\u001b[0m, \u001b[38;5;34m35\u001b[0m, \u001b[38;5;34m35\u001b[0m, \u001b[38;5;34m64\u001b[0m)     │              \u001b[38;5;34m0\u001b[0m │ dropout_9[\u001b[38;5;34m0\u001b[0m][\u001b[38;5;34m0\u001b[0m]        │\n",
              "├───────────────────────────┼────────────────────────┼────────────────┼────────────────────────┤\n",
              "│ max_pooling2d_7           │ (\u001b[38;5;45mNone\u001b[0m, \u001b[38;5;34m17\u001b[0m, \u001b[38;5;34m17\u001b[0m, \u001b[38;5;34m64\u001b[0m)     │              \u001b[38;5;34m0\u001b[0m │ activation_7[\u001b[38;5;34m0\u001b[0m][\u001b[38;5;34m0\u001b[0m]     │\n",
              "│ (\u001b[38;5;33mMaxPooling2D\u001b[0m)            │                        │                │                        │\n",
              "├───────────────────────────┼────────────────────────┼────────────────┼────────────────────────┤\n",
              "│ conv2d_8 (\u001b[38;5;33mConv2D\u001b[0m)         │ (\u001b[38;5;45mNone\u001b[0m, \u001b[38;5;34m17\u001b[0m, \u001b[38;5;34m17\u001b[0m, \u001b[38;5;34m128\u001b[0m)    │         \u001b[38;5;34m73,856\u001b[0m │ max_pooling2d_7[\u001b[38;5;34m0\u001b[0m][\u001b[38;5;34m0\u001b[0m]  │\n",
              "├───────────────────────────┼────────────────────────┼────────────────┼────────────────────────┤\n",
              "│ dropout_10 (\u001b[38;5;33mDropout\u001b[0m)      │ (\u001b[38;5;45mNone\u001b[0m, \u001b[38;5;34m17\u001b[0m, \u001b[38;5;34m17\u001b[0m, \u001b[38;5;34m128\u001b[0m)    │              \u001b[38;5;34m0\u001b[0m │ conv2d_8[\u001b[38;5;34m0\u001b[0m][\u001b[38;5;34m0\u001b[0m]         │\n",
              "├───────────────────────────┼────────────────────────┼────────────────┼────────────────────────┤\n",
              "│ activation_8 (\u001b[38;5;33mActivation\u001b[0m) │ (\u001b[38;5;45mNone\u001b[0m, \u001b[38;5;34m17\u001b[0m, \u001b[38;5;34m17\u001b[0m, \u001b[38;5;34m128\u001b[0m)    │              \u001b[38;5;34m0\u001b[0m │ dropout_10[\u001b[38;5;34m0\u001b[0m][\u001b[38;5;34m0\u001b[0m]       │\n",
              "├───────────────────────────┼────────────────────────┼────────────────┼────────────────────────┤\n",
              "│ max_pooling2d_8           │ (\u001b[38;5;45mNone\u001b[0m, \u001b[38;5;34m8\u001b[0m, \u001b[38;5;34m8\u001b[0m, \u001b[38;5;34m128\u001b[0m)      │              \u001b[38;5;34m0\u001b[0m │ activation_8[\u001b[38;5;34m0\u001b[0m][\u001b[38;5;34m0\u001b[0m]     │\n",
              "│ (\u001b[38;5;33mMaxPooling2D\u001b[0m)            │                        │                │                        │\n",
              "├───────────────────────────┼────────────────────────┼────────────────┼────────────────────────┤\n",
              "│ conv2d_9 (\u001b[38;5;33mConv2D\u001b[0m)         │ (\u001b[38;5;45mNone\u001b[0m, \u001b[38;5;34m8\u001b[0m, \u001b[38;5;34m8\u001b[0m, \u001b[38;5;34m256\u001b[0m)      │        \u001b[38;5;34m295,168\u001b[0m │ max_pooling2d_8[\u001b[38;5;34m0\u001b[0m][\u001b[38;5;34m0\u001b[0m]  │\n",
              "├───────────────────────────┼────────────────────────┼────────────────┼────────────────────────┤\n",
              "│ dropout_11 (\u001b[38;5;33mDropout\u001b[0m)      │ (\u001b[38;5;45mNone\u001b[0m, \u001b[38;5;34m8\u001b[0m, \u001b[38;5;34m8\u001b[0m, \u001b[38;5;34m256\u001b[0m)      │              \u001b[38;5;34m0\u001b[0m │ conv2d_9[\u001b[38;5;34m0\u001b[0m][\u001b[38;5;34m0\u001b[0m]         │\n",
              "├───────────────────────────┼────────────────────────┼────────────────┼────────────────────────┤\n",
              "│ activation_9 (\u001b[38;5;33mActivation\u001b[0m) │ (\u001b[38;5;45mNone\u001b[0m, \u001b[38;5;34m8\u001b[0m, \u001b[38;5;34m8\u001b[0m, \u001b[38;5;34m256\u001b[0m)      │              \u001b[38;5;34m0\u001b[0m │ dropout_11[\u001b[38;5;34m0\u001b[0m][\u001b[38;5;34m0\u001b[0m]       │\n",
              "├───────────────────────────┼────────────────────────┼────────────────┼────────────────────────┤\n",
              "│ max_pooling2d_9           │ (\u001b[38;5;45mNone\u001b[0m, \u001b[38;5;34m4\u001b[0m, \u001b[38;5;34m4\u001b[0m, \u001b[38;5;34m256\u001b[0m)      │              \u001b[38;5;34m0\u001b[0m │ activation_9[\u001b[38;5;34m0\u001b[0m][\u001b[38;5;34m0\u001b[0m]     │\n",
              "│ (\u001b[38;5;33mMaxPooling2D\u001b[0m)            │                        │                │                        │\n",
              "├───────────────────────────┼────────────────────────┼────────────────┼────────────────────────┤\n",
              "│ conv2d_10 (\u001b[38;5;33mConv2D\u001b[0m)        │ (\u001b[38;5;45mNone\u001b[0m, \u001b[38;5;34m4\u001b[0m, \u001b[38;5;34m4\u001b[0m, \u001b[38;5;34m512\u001b[0m)      │      \u001b[38;5;34m1,180,160\u001b[0m │ max_pooling2d_9[\u001b[38;5;34m0\u001b[0m][\u001b[38;5;34m0\u001b[0m]  │\n",
              "├───────────────────────────┼────────────────────────┼────────────────┼────────────────────────┤\n",
              "│ dropout_12 (\u001b[38;5;33mDropout\u001b[0m)      │ (\u001b[38;5;45mNone\u001b[0m, \u001b[38;5;34m4\u001b[0m, \u001b[38;5;34m4\u001b[0m, \u001b[38;5;34m512\u001b[0m)      │              \u001b[38;5;34m0\u001b[0m │ conv2d_10[\u001b[38;5;34m0\u001b[0m][\u001b[38;5;34m0\u001b[0m]        │\n",
              "├───────────────────────────┼────────────────────────┼────────────────┼────────────────────────┤\n",
              "│ activation_10             │ (\u001b[38;5;45mNone\u001b[0m, \u001b[38;5;34m4\u001b[0m, \u001b[38;5;34m4\u001b[0m, \u001b[38;5;34m512\u001b[0m)      │              \u001b[38;5;34m0\u001b[0m │ dropout_12[\u001b[38;5;34m0\u001b[0m][\u001b[38;5;34m0\u001b[0m]       │\n",
              "│ (\u001b[38;5;33mActivation\u001b[0m)              │                        │                │                        │\n",
              "├───────────────────────────┼────────────────────────┼────────────────┼────────────────────────┤\n",
              "│ max_pooling2d_10          │ (\u001b[38;5;45mNone\u001b[0m, \u001b[38;5;34m2\u001b[0m, \u001b[38;5;34m2\u001b[0m, \u001b[38;5;34m512\u001b[0m)      │              \u001b[38;5;34m0\u001b[0m │ activation_10[\u001b[38;5;34m0\u001b[0m][\u001b[38;5;34m0\u001b[0m]    │\n",
              "│ (\u001b[38;5;33mMaxPooling2D\u001b[0m)            │                        │                │                        │\n",
              "├───────────────────────────┼────────────────────────┼────────────────┼────────────────────────┤\n",
              "│ conv2d_11 (\u001b[38;5;33mConv2D\u001b[0m)        │ (\u001b[38;5;45mNone\u001b[0m, \u001b[38;5;34m2\u001b[0m, \u001b[38;5;34m2\u001b[0m, \u001b[38;5;34m512\u001b[0m)      │      \u001b[38;5;34m2,359,808\u001b[0m │ max_pooling2d_10[\u001b[38;5;34m0\u001b[0m][\u001b[38;5;34m0\u001b[0m] │\n",
              "├───────────────────────────┼────────────────────────┼────────────────┼────────────────────────┤\n",
              "│ dropout_13 (\u001b[38;5;33mDropout\u001b[0m)      │ (\u001b[38;5;45mNone\u001b[0m, \u001b[38;5;34m2\u001b[0m, \u001b[38;5;34m2\u001b[0m, \u001b[38;5;34m512\u001b[0m)      │              \u001b[38;5;34m0\u001b[0m │ conv2d_11[\u001b[38;5;34m0\u001b[0m][\u001b[38;5;34m0\u001b[0m]        │\n",
              "├───────────────────────────┼────────────────────────┼────────────────┼────────────────────────┤\n",
              "│ activation_11             │ (\u001b[38;5;45mNone\u001b[0m, \u001b[38;5;34m2\u001b[0m, \u001b[38;5;34m2\u001b[0m, \u001b[38;5;34m512\u001b[0m)      │              \u001b[38;5;34m0\u001b[0m │ dropout_13[\u001b[38;5;34m0\u001b[0m][\u001b[38;5;34m0\u001b[0m]       │\n",
              "│ (\u001b[38;5;33mActivation\u001b[0m)              │                        │                │                        │\n",
              "├───────────────────────────┼────────────────────────┼────────────────┼────────────────────────┤\n",
              "│ max_pooling2d_11          │ (\u001b[38;5;45mNone\u001b[0m, \u001b[38;5;34m1\u001b[0m, \u001b[38;5;34m1\u001b[0m, \u001b[38;5;34m512\u001b[0m)      │              \u001b[38;5;34m0\u001b[0m │ activation_11[\u001b[38;5;34m0\u001b[0m][\u001b[38;5;34m0\u001b[0m]    │\n",
              "│ (\u001b[38;5;33mMaxPooling2D\u001b[0m)            │                        │                │                        │\n",
              "├───────────────────────────┼────────────────────────┼────────────────┼────────────────────────┤\n",
              "│ flatten_1 (\u001b[38;5;33mFlatten\u001b[0m)       │ (\u001b[38;5;45mNone\u001b[0m, \u001b[38;5;34m512\u001b[0m)            │              \u001b[38;5;34m0\u001b[0m │ max_pooling2d_11[\u001b[38;5;34m0\u001b[0m][\u001b[38;5;34m0\u001b[0m] │\n",
              "├───────────────────────────┼────────────────────────┼────────────────┼────────────────────────┤\n",
              "│ dense_2 (\u001b[38;5;33mDense\u001b[0m)           │ (\u001b[38;5;45mNone\u001b[0m, \u001b[38;5;34m64\u001b[0m)             │         \u001b[38;5;34m32,832\u001b[0m │ flatten_1[\u001b[38;5;34m0\u001b[0m][\u001b[38;5;34m0\u001b[0m]        │\n",
              "├───────────────────────────┼────────────────────────┼────────────────┼────────────────────────┤\n",
              "│ dense_3 (\u001b[38;5;33mDense\u001b[0m)           │ (\u001b[38;5;45mNone\u001b[0m, \u001b[38;5;34m64\u001b[0m)             │         \u001b[38;5;34m32,832\u001b[0m │ flatten_1[\u001b[38;5;34m0\u001b[0m][\u001b[38;5;34m0\u001b[0m]        │\n",
              "├───────────────────────────┼────────────────────────┼────────────────┼────────────────────────┤\n",
              "│ dropout_14 (\u001b[38;5;33mDropout\u001b[0m)      │ (\u001b[38;5;45mNone\u001b[0m, \u001b[38;5;34m64\u001b[0m)             │              \u001b[38;5;34m0\u001b[0m │ dense_2[\u001b[38;5;34m0\u001b[0m][\u001b[38;5;34m0\u001b[0m]          │\n",
              "├───────────────────────────┼────────────────────────┼────────────────┼────────────────────────┤\n",
              "│ dropout_15 (\u001b[38;5;33mDropout\u001b[0m)      │ (\u001b[38;5;45mNone\u001b[0m, \u001b[38;5;34m64\u001b[0m)             │              \u001b[38;5;34m0\u001b[0m │ dense_3[\u001b[38;5;34m0\u001b[0m][\u001b[38;5;34m0\u001b[0m]          │\n",
              "├───────────────────────────┼────────────────────────┼────────────────┼────────────────────────┤\n",
              "│ sex_out (\u001b[38;5;33mDense\u001b[0m)           │ (\u001b[38;5;45mNone\u001b[0m, \u001b[38;5;34m1\u001b[0m)              │             \u001b[38;5;34m65\u001b[0m │ dropout_14[\u001b[38;5;34m0\u001b[0m][\u001b[38;5;34m0\u001b[0m]       │\n",
              "├───────────────────────────┼────────────────────────┼────────────────┼────────────────────────┤\n",
              "│ age_out (\u001b[38;5;33mDense\u001b[0m)           │ (\u001b[38;5;45mNone\u001b[0m, \u001b[38;5;34m1\u001b[0m)              │             \u001b[38;5;34m65\u001b[0m │ dropout_15[\u001b[38;5;34m0\u001b[0m][\u001b[38;5;34m0\u001b[0m]       │\n",
              "└───────────────────────────┴────────────────────────┴────────────────┴────────────────────────┘\n"
            ],
            "text/html": [
              "<pre style=\"white-space:pre;overflow-x:auto;line-height:normal;font-family:Menlo,'DejaVu Sans Mono',consolas,'Courier New',monospace\">┏━━━━━━━━━━━━━━━━━━━━━━━━━━━┳━━━━━━━━━━━━━━━━━━━━━━━━┳━━━━━━━━━━━━━━━━┳━━━━━━━━━━━━━━━━━━━━━━━━┓\n",
              "┃<span style=\"font-weight: bold\"> Layer (type)              </span>┃<span style=\"font-weight: bold\"> Output Shape           </span>┃<span style=\"font-weight: bold\">        Param # </span>┃<span style=\"font-weight: bold\"> Connected to           </span>┃\n",
              "┡━━━━━━━━━━━━━━━━━━━━━━━━━━━╇━━━━━━━━━━━━━━━━━━━━━━━━╇━━━━━━━━━━━━━━━━╇━━━━━━━━━━━━━━━━━━━━━━━━┩\n",
              "│ input_layer_1             │ (<span style=\"color: #00d7ff; text-decoration-color: #00d7ff\">None</span>, <span style=\"color: #00af00; text-decoration-color: #00af00\">70</span>, <span style=\"color: #00af00; text-decoration-color: #00af00\">70</span>, <span style=\"color: #00af00; text-decoration-color: #00af00\">1</span>)      │              <span style=\"color: #00af00; text-decoration-color: #00af00\">0</span> │ -                      │\n",
              "│ (<span style=\"color: #0087ff; text-decoration-color: #0087ff\">InputLayer</span>)              │                        │                │                        │\n",
              "├───────────────────────────┼────────────────────────┼────────────────┼────────────────────────┤\n",
              "│ conv2d_6 (<span style=\"color: #0087ff; text-decoration-color: #0087ff\">Conv2D</span>)         │ (<span style=\"color: #00d7ff; text-decoration-color: #00d7ff\">None</span>, <span style=\"color: #00af00; text-decoration-color: #00af00\">70</span>, <span style=\"color: #00af00; text-decoration-color: #00af00\">70</span>, <span style=\"color: #00af00; text-decoration-color: #00af00\">32</span>)     │            <span style=\"color: #00af00; text-decoration-color: #00af00\">320</span> │ input_layer_1[<span style=\"color: #00af00; text-decoration-color: #00af00\">0</span>][<span style=\"color: #00af00; text-decoration-color: #00af00\">0</span>]    │\n",
              "├───────────────────────────┼────────────────────────┼────────────────┼────────────────────────┤\n",
              "│ dropout_8 (<span style=\"color: #0087ff; text-decoration-color: #0087ff\">Dropout</span>)       │ (<span style=\"color: #00d7ff; text-decoration-color: #00d7ff\">None</span>, <span style=\"color: #00af00; text-decoration-color: #00af00\">70</span>, <span style=\"color: #00af00; text-decoration-color: #00af00\">70</span>, <span style=\"color: #00af00; text-decoration-color: #00af00\">32</span>)     │              <span style=\"color: #00af00; text-decoration-color: #00af00\">0</span> │ conv2d_6[<span style=\"color: #00af00; text-decoration-color: #00af00\">0</span>][<span style=\"color: #00af00; text-decoration-color: #00af00\">0</span>]         │\n",
              "├───────────────────────────┼────────────────────────┼────────────────┼────────────────────────┤\n",
              "│ activation_6 (<span style=\"color: #0087ff; text-decoration-color: #0087ff\">Activation</span>) │ (<span style=\"color: #00d7ff; text-decoration-color: #00d7ff\">None</span>, <span style=\"color: #00af00; text-decoration-color: #00af00\">70</span>, <span style=\"color: #00af00; text-decoration-color: #00af00\">70</span>, <span style=\"color: #00af00; text-decoration-color: #00af00\">32</span>)     │              <span style=\"color: #00af00; text-decoration-color: #00af00\">0</span> │ dropout_8[<span style=\"color: #00af00; text-decoration-color: #00af00\">0</span>][<span style=\"color: #00af00; text-decoration-color: #00af00\">0</span>]        │\n",
              "├───────────────────────────┼────────────────────────┼────────────────┼────────────────────────┤\n",
              "│ max_pooling2d_6           │ (<span style=\"color: #00d7ff; text-decoration-color: #00d7ff\">None</span>, <span style=\"color: #00af00; text-decoration-color: #00af00\">35</span>, <span style=\"color: #00af00; text-decoration-color: #00af00\">35</span>, <span style=\"color: #00af00; text-decoration-color: #00af00\">32</span>)     │              <span style=\"color: #00af00; text-decoration-color: #00af00\">0</span> │ activation_6[<span style=\"color: #00af00; text-decoration-color: #00af00\">0</span>][<span style=\"color: #00af00; text-decoration-color: #00af00\">0</span>]     │\n",
              "│ (<span style=\"color: #0087ff; text-decoration-color: #0087ff\">MaxPooling2D</span>)            │                        │                │                        │\n",
              "├───────────────────────────┼────────────────────────┼────────────────┼────────────────────────┤\n",
              "│ conv2d_7 (<span style=\"color: #0087ff; text-decoration-color: #0087ff\">Conv2D</span>)         │ (<span style=\"color: #00d7ff; text-decoration-color: #00d7ff\">None</span>, <span style=\"color: #00af00; text-decoration-color: #00af00\">35</span>, <span style=\"color: #00af00; text-decoration-color: #00af00\">35</span>, <span style=\"color: #00af00; text-decoration-color: #00af00\">64</span>)     │         <span style=\"color: #00af00; text-decoration-color: #00af00\">18,496</span> │ max_pooling2d_6[<span style=\"color: #00af00; text-decoration-color: #00af00\">0</span>][<span style=\"color: #00af00; text-decoration-color: #00af00\">0</span>]  │\n",
              "├───────────────────────────┼────────────────────────┼────────────────┼────────────────────────┤\n",
              "│ dropout_9 (<span style=\"color: #0087ff; text-decoration-color: #0087ff\">Dropout</span>)       │ (<span style=\"color: #00d7ff; text-decoration-color: #00d7ff\">None</span>, <span style=\"color: #00af00; text-decoration-color: #00af00\">35</span>, <span style=\"color: #00af00; text-decoration-color: #00af00\">35</span>, <span style=\"color: #00af00; text-decoration-color: #00af00\">64</span>)     │              <span style=\"color: #00af00; text-decoration-color: #00af00\">0</span> │ conv2d_7[<span style=\"color: #00af00; text-decoration-color: #00af00\">0</span>][<span style=\"color: #00af00; text-decoration-color: #00af00\">0</span>]         │\n",
              "├───────────────────────────┼────────────────────────┼────────────────┼────────────────────────┤\n",
              "│ activation_7 (<span style=\"color: #0087ff; text-decoration-color: #0087ff\">Activation</span>) │ (<span style=\"color: #00d7ff; text-decoration-color: #00d7ff\">None</span>, <span style=\"color: #00af00; text-decoration-color: #00af00\">35</span>, <span style=\"color: #00af00; text-decoration-color: #00af00\">35</span>, <span style=\"color: #00af00; text-decoration-color: #00af00\">64</span>)     │              <span style=\"color: #00af00; text-decoration-color: #00af00\">0</span> │ dropout_9[<span style=\"color: #00af00; text-decoration-color: #00af00\">0</span>][<span style=\"color: #00af00; text-decoration-color: #00af00\">0</span>]        │\n",
              "├───────────────────────────┼────────────────────────┼────────────────┼────────────────────────┤\n",
              "│ max_pooling2d_7           │ (<span style=\"color: #00d7ff; text-decoration-color: #00d7ff\">None</span>, <span style=\"color: #00af00; text-decoration-color: #00af00\">17</span>, <span style=\"color: #00af00; text-decoration-color: #00af00\">17</span>, <span style=\"color: #00af00; text-decoration-color: #00af00\">64</span>)     │              <span style=\"color: #00af00; text-decoration-color: #00af00\">0</span> │ activation_7[<span style=\"color: #00af00; text-decoration-color: #00af00\">0</span>][<span style=\"color: #00af00; text-decoration-color: #00af00\">0</span>]     │\n",
              "│ (<span style=\"color: #0087ff; text-decoration-color: #0087ff\">MaxPooling2D</span>)            │                        │                │                        │\n",
              "├───────────────────────────┼────────────────────────┼────────────────┼────────────────────────┤\n",
              "│ conv2d_8 (<span style=\"color: #0087ff; text-decoration-color: #0087ff\">Conv2D</span>)         │ (<span style=\"color: #00d7ff; text-decoration-color: #00d7ff\">None</span>, <span style=\"color: #00af00; text-decoration-color: #00af00\">17</span>, <span style=\"color: #00af00; text-decoration-color: #00af00\">17</span>, <span style=\"color: #00af00; text-decoration-color: #00af00\">128</span>)    │         <span style=\"color: #00af00; text-decoration-color: #00af00\">73,856</span> │ max_pooling2d_7[<span style=\"color: #00af00; text-decoration-color: #00af00\">0</span>][<span style=\"color: #00af00; text-decoration-color: #00af00\">0</span>]  │\n",
              "├───────────────────────────┼────────────────────────┼────────────────┼────────────────────────┤\n",
              "│ dropout_10 (<span style=\"color: #0087ff; text-decoration-color: #0087ff\">Dropout</span>)      │ (<span style=\"color: #00d7ff; text-decoration-color: #00d7ff\">None</span>, <span style=\"color: #00af00; text-decoration-color: #00af00\">17</span>, <span style=\"color: #00af00; text-decoration-color: #00af00\">17</span>, <span style=\"color: #00af00; text-decoration-color: #00af00\">128</span>)    │              <span style=\"color: #00af00; text-decoration-color: #00af00\">0</span> │ conv2d_8[<span style=\"color: #00af00; text-decoration-color: #00af00\">0</span>][<span style=\"color: #00af00; text-decoration-color: #00af00\">0</span>]         │\n",
              "├───────────────────────────┼────────────────────────┼────────────────┼────────────────────────┤\n",
              "│ activation_8 (<span style=\"color: #0087ff; text-decoration-color: #0087ff\">Activation</span>) │ (<span style=\"color: #00d7ff; text-decoration-color: #00d7ff\">None</span>, <span style=\"color: #00af00; text-decoration-color: #00af00\">17</span>, <span style=\"color: #00af00; text-decoration-color: #00af00\">17</span>, <span style=\"color: #00af00; text-decoration-color: #00af00\">128</span>)    │              <span style=\"color: #00af00; text-decoration-color: #00af00\">0</span> │ dropout_10[<span style=\"color: #00af00; text-decoration-color: #00af00\">0</span>][<span style=\"color: #00af00; text-decoration-color: #00af00\">0</span>]       │\n",
              "├───────────────────────────┼────────────────────────┼────────────────┼────────────────────────┤\n",
              "│ max_pooling2d_8           │ (<span style=\"color: #00d7ff; text-decoration-color: #00d7ff\">None</span>, <span style=\"color: #00af00; text-decoration-color: #00af00\">8</span>, <span style=\"color: #00af00; text-decoration-color: #00af00\">8</span>, <span style=\"color: #00af00; text-decoration-color: #00af00\">128</span>)      │              <span style=\"color: #00af00; text-decoration-color: #00af00\">0</span> │ activation_8[<span style=\"color: #00af00; text-decoration-color: #00af00\">0</span>][<span style=\"color: #00af00; text-decoration-color: #00af00\">0</span>]     │\n",
              "│ (<span style=\"color: #0087ff; text-decoration-color: #0087ff\">MaxPooling2D</span>)            │                        │                │                        │\n",
              "├───────────────────────────┼────────────────────────┼────────────────┼────────────────────────┤\n",
              "│ conv2d_9 (<span style=\"color: #0087ff; text-decoration-color: #0087ff\">Conv2D</span>)         │ (<span style=\"color: #00d7ff; text-decoration-color: #00d7ff\">None</span>, <span style=\"color: #00af00; text-decoration-color: #00af00\">8</span>, <span style=\"color: #00af00; text-decoration-color: #00af00\">8</span>, <span style=\"color: #00af00; text-decoration-color: #00af00\">256</span>)      │        <span style=\"color: #00af00; text-decoration-color: #00af00\">295,168</span> │ max_pooling2d_8[<span style=\"color: #00af00; text-decoration-color: #00af00\">0</span>][<span style=\"color: #00af00; text-decoration-color: #00af00\">0</span>]  │\n",
              "├───────────────────────────┼────────────────────────┼────────────────┼────────────────────────┤\n",
              "│ dropout_11 (<span style=\"color: #0087ff; text-decoration-color: #0087ff\">Dropout</span>)      │ (<span style=\"color: #00d7ff; text-decoration-color: #00d7ff\">None</span>, <span style=\"color: #00af00; text-decoration-color: #00af00\">8</span>, <span style=\"color: #00af00; text-decoration-color: #00af00\">8</span>, <span style=\"color: #00af00; text-decoration-color: #00af00\">256</span>)      │              <span style=\"color: #00af00; text-decoration-color: #00af00\">0</span> │ conv2d_9[<span style=\"color: #00af00; text-decoration-color: #00af00\">0</span>][<span style=\"color: #00af00; text-decoration-color: #00af00\">0</span>]         │\n",
              "├───────────────────────────┼────────────────────────┼────────────────┼────────────────────────┤\n",
              "│ activation_9 (<span style=\"color: #0087ff; text-decoration-color: #0087ff\">Activation</span>) │ (<span style=\"color: #00d7ff; text-decoration-color: #00d7ff\">None</span>, <span style=\"color: #00af00; text-decoration-color: #00af00\">8</span>, <span style=\"color: #00af00; text-decoration-color: #00af00\">8</span>, <span style=\"color: #00af00; text-decoration-color: #00af00\">256</span>)      │              <span style=\"color: #00af00; text-decoration-color: #00af00\">0</span> │ dropout_11[<span style=\"color: #00af00; text-decoration-color: #00af00\">0</span>][<span style=\"color: #00af00; text-decoration-color: #00af00\">0</span>]       │\n",
              "├───────────────────────────┼────────────────────────┼────────────────┼────────────────────────┤\n",
              "│ max_pooling2d_9           │ (<span style=\"color: #00d7ff; text-decoration-color: #00d7ff\">None</span>, <span style=\"color: #00af00; text-decoration-color: #00af00\">4</span>, <span style=\"color: #00af00; text-decoration-color: #00af00\">4</span>, <span style=\"color: #00af00; text-decoration-color: #00af00\">256</span>)      │              <span style=\"color: #00af00; text-decoration-color: #00af00\">0</span> │ activation_9[<span style=\"color: #00af00; text-decoration-color: #00af00\">0</span>][<span style=\"color: #00af00; text-decoration-color: #00af00\">0</span>]     │\n",
              "│ (<span style=\"color: #0087ff; text-decoration-color: #0087ff\">MaxPooling2D</span>)            │                        │                │                        │\n",
              "├───────────────────────────┼────────────────────────┼────────────────┼────────────────────────┤\n",
              "│ conv2d_10 (<span style=\"color: #0087ff; text-decoration-color: #0087ff\">Conv2D</span>)        │ (<span style=\"color: #00d7ff; text-decoration-color: #00d7ff\">None</span>, <span style=\"color: #00af00; text-decoration-color: #00af00\">4</span>, <span style=\"color: #00af00; text-decoration-color: #00af00\">4</span>, <span style=\"color: #00af00; text-decoration-color: #00af00\">512</span>)      │      <span style=\"color: #00af00; text-decoration-color: #00af00\">1,180,160</span> │ max_pooling2d_9[<span style=\"color: #00af00; text-decoration-color: #00af00\">0</span>][<span style=\"color: #00af00; text-decoration-color: #00af00\">0</span>]  │\n",
              "├───────────────────────────┼────────────────────────┼────────────────┼────────────────────────┤\n",
              "│ dropout_12 (<span style=\"color: #0087ff; text-decoration-color: #0087ff\">Dropout</span>)      │ (<span style=\"color: #00d7ff; text-decoration-color: #00d7ff\">None</span>, <span style=\"color: #00af00; text-decoration-color: #00af00\">4</span>, <span style=\"color: #00af00; text-decoration-color: #00af00\">4</span>, <span style=\"color: #00af00; text-decoration-color: #00af00\">512</span>)      │              <span style=\"color: #00af00; text-decoration-color: #00af00\">0</span> │ conv2d_10[<span style=\"color: #00af00; text-decoration-color: #00af00\">0</span>][<span style=\"color: #00af00; text-decoration-color: #00af00\">0</span>]        │\n",
              "├───────────────────────────┼────────────────────────┼────────────────┼────────────────────────┤\n",
              "│ activation_10             │ (<span style=\"color: #00d7ff; text-decoration-color: #00d7ff\">None</span>, <span style=\"color: #00af00; text-decoration-color: #00af00\">4</span>, <span style=\"color: #00af00; text-decoration-color: #00af00\">4</span>, <span style=\"color: #00af00; text-decoration-color: #00af00\">512</span>)      │              <span style=\"color: #00af00; text-decoration-color: #00af00\">0</span> │ dropout_12[<span style=\"color: #00af00; text-decoration-color: #00af00\">0</span>][<span style=\"color: #00af00; text-decoration-color: #00af00\">0</span>]       │\n",
              "│ (<span style=\"color: #0087ff; text-decoration-color: #0087ff\">Activation</span>)              │                        │                │                        │\n",
              "├───────────────────────────┼────────────────────────┼────────────────┼────────────────────────┤\n",
              "│ max_pooling2d_10          │ (<span style=\"color: #00d7ff; text-decoration-color: #00d7ff\">None</span>, <span style=\"color: #00af00; text-decoration-color: #00af00\">2</span>, <span style=\"color: #00af00; text-decoration-color: #00af00\">2</span>, <span style=\"color: #00af00; text-decoration-color: #00af00\">512</span>)      │              <span style=\"color: #00af00; text-decoration-color: #00af00\">0</span> │ activation_10[<span style=\"color: #00af00; text-decoration-color: #00af00\">0</span>][<span style=\"color: #00af00; text-decoration-color: #00af00\">0</span>]    │\n",
              "│ (<span style=\"color: #0087ff; text-decoration-color: #0087ff\">MaxPooling2D</span>)            │                        │                │                        │\n",
              "├───────────────────────────┼────────────────────────┼────────────────┼────────────────────────┤\n",
              "│ conv2d_11 (<span style=\"color: #0087ff; text-decoration-color: #0087ff\">Conv2D</span>)        │ (<span style=\"color: #00d7ff; text-decoration-color: #00d7ff\">None</span>, <span style=\"color: #00af00; text-decoration-color: #00af00\">2</span>, <span style=\"color: #00af00; text-decoration-color: #00af00\">2</span>, <span style=\"color: #00af00; text-decoration-color: #00af00\">512</span>)      │      <span style=\"color: #00af00; text-decoration-color: #00af00\">2,359,808</span> │ max_pooling2d_10[<span style=\"color: #00af00; text-decoration-color: #00af00\">0</span>][<span style=\"color: #00af00; text-decoration-color: #00af00\">0</span>] │\n",
              "├───────────────────────────┼────────────────────────┼────────────────┼────────────────────────┤\n",
              "│ dropout_13 (<span style=\"color: #0087ff; text-decoration-color: #0087ff\">Dropout</span>)      │ (<span style=\"color: #00d7ff; text-decoration-color: #00d7ff\">None</span>, <span style=\"color: #00af00; text-decoration-color: #00af00\">2</span>, <span style=\"color: #00af00; text-decoration-color: #00af00\">2</span>, <span style=\"color: #00af00; text-decoration-color: #00af00\">512</span>)      │              <span style=\"color: #00af00; text-decoration-color: #00af00\">0</span> │ conv2d_11[<span style=\"color: #00af00; text-decoration-color: #00af00\">0</span>][<span style=\"color: #00af00; text-decoration-color: #00af00\">0</span>]        │\n",
              "├───────────────────────────┼────────────────────────┼────────────────┼────────────────────────┤\n",
              "│ activation_11             │ (<span style=\"color: #00d7ff; text-decoration-color: #00d7ff\">None</span>, <span style=\"color: #00af00; text-decoration-color: #00af00\">2</span>, <span style=\"color: #00af00; text-decoration-color: #00af00\">2</span>, <span style=\"color: #00af00; text-decoration-color: #00af00\">512</span>)      │              <span style=\"color: #00af00; text-decoration-color: #00af00\">0</span> │ dropout_13[<span style=\"color: #00af00; text-decoration-color: #00af00\">0</span>][<span style=\"color: #00af00; text-decoration-color: #00af00\">0</span>]       │\n",
              "│ (<span style=\"color: #0087ff; text-decoration-color: #0087ff\">Activation</span>)              │                        │                │                        │\n",
              "├───────────────────────────┼────────────────────────┼────────────────┼────────────────────────┤\n",
              "│ max_pooling2d_11          │ (<span style=\"color: #00d7ff; text-decoration-color: #00d7ff\">None</span>, <span style=\"color: #00af00; text-decoration-color: #00af00\">1</span>, <span style=\"color: #00af00; text-decoration-color: #00af00\">1</span>, <span style=\"color: #00af00; text-decoration-color: #00af00\">512</span>)      │              <span style=\"color: #00af00; text-decoration-color: #00af00\">0</span> │ activation_11[<span style=\"color: #00af00; text-decoration-color: #00af00\">0</span>][<span style=\"color: #00af00; text-decoration-color: #00af00\">0</span>]    │\n",
              "│ (<span style=\"color: #0087ff; text-decoration-color: #0087ff\">MaxPooling2D</span>)            │                        │                │                        │\n",
              "├───────────────────────────┼────────────────────────┼────────────────┼────────────────────────┤\n",
              "│ flatten_1 (<span style=\"color: #0087ff; text-decoration-color: #0087ff\">Flatten</span>)       │ (<span style=\"color: #00d7ff; text-decoration-color: #00d7ff\">None</span>, <span style=\"color: #00af00; text-decoration-color: #00af00\">512</span>)            │              <span style=\"color: #00af00; text-decoration-color: #00af00\">0</span> │ max_pooling2d_11[<span style=\"color: #00af00; text-decoration-color: #00af00\">0</span>][<span style=\"color: #00af00; text-decoration-color: #00af00\">0</span>] │\n",
              "├───────────────────────────┼────────────────────────┼────────────────┼────────────────────────┤\n",
              "│ dense_2 (<span style=\"color: #0087ff; text-decoration-color: #0087ff\">Dense</span>)           │ (<span style=\"color: #00d7ff; text-decoration-color: #00d7ff\">None</span>, <span style=\"color: #00af00; text-decoration-color: #00af00\">64</span>)             │         <span style=\"color: #00af00; text-decoration-color: #00af00\">32,832</span> │ flatten_1[<span style=\"color: #00af00; text-decoration-color: #00af00\">0</span>][<span style=\"color: #00af00; text-decoration-color: #00af00\">0</span>]        │\n",
              "├───────────────────────────┼────────────────────────┼────────────────┼────────────────────────┤\n",
              "│ dense_3 (<span style=\"color: #0087ff; text-decoration-color: #0087ff\">Dense</span>)           │ (<span style=\"color: #00d7ff; text-decoration-color: #00d7ff\">None</span>, <span style=\"color: #00af00; text-decoration-color: #00af00\">64</span>)             │         <span style=\"color: #00af00; text-decoration-color: #00af00\">32,832</span> │ flatten_1[<span style=\"color: #00af00; text-decoration-color: #00af00\">0</span>][<span style=\"color: #00af00; text-decoration-color: #00af00\">0</span>]        │\n",
              "├───────────────────────────┼────────────────────────┼────────────────┼────────────────────────┤\n",
              "│ dropout_14 (<span style=\"color: #0087ff; text-decoration-color: #0087ff\">Dropout</span>)      │ (<span style=\"color: #00d7ff; text-decoration-color: #00d7ff\">None</span>, <span style=\"color: #00af00; text-decoration-color: #00af00\">64</span>)             │              <span style=\"color: #00af00; text-decoration-color: #00af00\">0</span> │ dense_2[<span style=\"color: #00af00; text-decoration-color: #00af00\">0</span>][<span style=\"color: #00af00; text-decoration-color: #00af00\">0</span>]          │\n",
              "├───────────────────────────┼────────────────────────┼────────────────┼────────────────────────┤\n",
              "│ dropout_15 (<span style=\"color: #0087ff; text-decoration-color: #0087ff\">Dropout</span>)      │ (<span style=\"color: #00d7ff; text-decoration-color: #00d7ff\">None</span>, <span style=\"color: #00af00; text-decoration-color: #00af00\">64</span>)             │              <span style=\"color: #00af00; text-decoration-color: #00af00\">0</span> │ dense_3[<span style=\"color: #00af00; text-decoration-color: #00af00\">0</span>][<span style=\"color: #00af00; text-decoration-color: #00af00\">0</span>]          │\n",
              "├───────────────────────────┼────────────────────────┼────────────────┼────────────────────────┤\n",
              "│ sex_out (<span style=\"color: #0087ff; text-decoration-color: #0087ff\">Dense</span>)           │ (<span style=\"color: #00d7ff; text-decoration-color: #00d7ff\">None</span>, <span style=\"color: #00af00; text-decoration-color: #00af00\">1</span>)              │             <span style=\"color: #00af00; text-decoration-color: #00af00\">65</span> │ dropout_14[<span style=\"color: #00af00; text-decoration-color: #00af00\">0</span>][<span style=\"color: #00af00; text-decoration-color: #00af00\">0</span>]       │\n",
              "├───────────────────────────┼────────────────────────┼────────────────┼────────────────────────┤\n",
              "│ age_out (<span style=\"color: #0087ff; text-decoration-color: #0087ff\">Dense</span>)           │ (<span style=\"color: #00d7ff; text-decoration-color: #00d7ff\">None</span>, <span style=\"color: #00af00; text-decoration-color: #00af00\">1</span>)              │             <span style=\"color: #00af00; text-decoration-color: #00af00\">65</span> │ dropout_15[<span style=\"color: #00af00; text-decoration-color: #00af00\">0</span>][<span style=\"color: #00af00; text-decoration-color: #00af00\">0</span>]       │\n",
              "└───────────────────────────┴────────────────────────┴────────────────┴────────────────────────┘\n",
              "</pre>\n"
            ]
          },
          "metadata": {}
        },
        {
          "output_type": "display_data",
          "data": {
            "text/plain": [
              "\u001b[1m Total params: \u001b[0m\u001b[38;5;34m3,993,602\u001b[0m (15.23 MB)\n"
            ],
            "text/html": [
              "<pre style=\"white-space:pre;overflow-x:auto;line-height:normal;font-family:Menlo,'DejaVu Sans Mono',consolas,'Courier New',monospace\"><span style=\"font-weight: bold\"> Total params: </span><span style=\"color: #00af00; text-decoration-color: #00af00\">3,993,602</span> (15.23 MB)\n",
              "</pre>\n"
            ]
          },
          "metadata": {}
        },
        {
          "output_type": "display_data",
          "data": {
            "text/plain": [
              "\u001b[1m Trainable params: \u001b[0m\u001b[38;5;34m3,993,602\u001b[0m (15.23 MB)\n"
            ],
            "text/html": [
              "<pre style=\"white-space:pre;overflow-x:auto;line-height:normal;font-family:Menlo,'DejaVu Sans Mono',consolas,'Courier New',monospace\"><span style=\"font-weight: bold\"> Trainable params: </span><span style=\"color: #00af00; text-decoration-color: #00af00\">3,993,602</span> (15.23 MB)\n",
              "</pre>\n"
            ]
          },
          "metadata": {}
        },
        {
          "output_type": "display_data",
          "data": {
            "text/plain": [
              "\u001b[1m Non-trainable params: \u001b[0m\u001b[38;5;34m0\u001b[0m (0.00 B)\n"
            ],
            "text/html": [
              "<pre style=\"white-space:pre;overflow-x:auto;line-height:normal;font-family:Menlo,'DejaVu Sans Mono',consolas,'Courier New',monospace\"><span style=\"font-weight: bold\"> Non-trainable params: </span><span style=\"color: #00af00; text-decoration-color: #00af00\">0</span> (0.00 B)\n",
              "</pre>\n"
            ]
          },
          "metadata": {}
        }
      ]
    },
    {
      "cell_type": "code",
      "source": [
        "from tensorflow.keras.callbacks import ModelCheckpoint\n",
        "file_s = 'age_sex_detection_rmsprop.keras'\n",
        "checkpoint = ModelCheckpoint(file_s,monitor = 'val_loss',verbose = 1,save_best_only = True,mode = 'auto',save_freq='epoch')\n",
        "early_stop = tf.keras.callbacks.EarlyStopping(patience = 75,monitor ='val_loss',restore_best_weights=True)\n",
        "callback_list = [checkpoint,early_stop]"
      ],
      "metadata": {
        "id": "-94bB-JFPWEW"
      },
      "execution_count": 31,
      "outputs": []
    },
    {
      "cell_type": "code",
      "source": [
        "history =m.fit(x_train,y_train_2,batch_size = 64, epochs=100,validation_data=[x_test,y_test_2],callbacks = callback_list)"
      ],
      "metadata": {
        "colab": {
          "base_uri": "https://localhost:8080/"
        },
        "id": "qPDhagd2QY8E",
        "outputId": "8efc5823-e9c7-4d4f-8924-26e3b5c128f0",
        "collapsed": true
      },
      "execution_count": 32,
      "outputs": [
        {
          "output_type": "stream",
          "name": "stdout",
          "text": [
            "Epoch 1/100\n",
            "\u001b[1m297/297\u001b[0m \u001b[32m━━━━━━━━━━━━━━━━━━━━\u001b[0m\u001b[37m\u001b[0m \u001b[1m0s\u001b[0m 22ms/step - age_out_loss: 10.7693 - age_out_mae: 10.7693 - loss: 11.4947 - sex_out_accuracy: 0.6374 - sex_out_loss: 0.6406\n",
            "Epoch 1: val_loss improved from inf to 11.97035, saving model to age_sex_detection_rmsprop.keras\n",
            "\u001b[1m297/297\u001b[0m \u001b[32m━━━━━━━━━━━━━━━━━━━━\u001b[0m\u001b[37m\u001b[0m \u001b[1m8s\u001b[0m 26ms/step - age_out_loss: 10.7684 - age_out_mae: 10.7684 - loss: 11.4938 - sex_out_accuracy: 0.6375 - sex_out_loss: 0.6405 - val_age_out_loss: 11.2715 - val_age_out_mae: 11.2741 - val_loss: 11.9704 - val_sex_out_accuracy: 0.6894 - val_sex_out_loss: 0.6098\n",
            "Epoch 2/100\n",
            "\u001b[1m297/297\u001b[0m \u001b[32m━━━━━━━━━━━━━━━━━━━━\u001b[0m\u001b[37m\u001b[0m \u001b[1m0s\u001b[0m 20ms/step - age_out_loss: 9.5909 - age_out_mae: 9.5909 - loss: 10.2769 - sex_out_accuracy: 0.6922 - sex_out_loss: 0.5974\n",
            "Epoch 2: val_loss improved from 11.97035 to 9.72396, saving model to age_sex_detection_rmsprop.keras\n",
            "\u001b[1m297/297\u001b[0m \u001b[32m━━━━━━━━━━━━━━━━━━━━\u001b[0m\u001b[37m\u001b[0m \u001b[1m7s\u001b[0m 24ms/step - age_out_loss: 9.5908 - age_out_mae: 9.5908 - loss: 10.2767 - sex_out_accuracy: 0.6922 - sex_out_loss: 0.5973 - val_age_out_loss: 9.0505 - val_age_out_mae: 9.0589 - val_loss: 9.7240 - val_sex_out_accuracy: 0.7117 - val_sex_out_loss: 0.5754\n",
            "Epoch 3/100\n",
            "\u001b[1m295/297\u001b[0m \u001b[32m━━━━━━━━━━━━━━━━━━━\u001b[0m\u001b[37m━\u001b[0m \u001b[1m0s\u001b[0m 21ms/step - age_out_loss: 8.7769 - age_out_mae: 8.7769 - loss: 9.3939 - sex_out_accuracy: 0.7469 - sex_out_loss: 0.5226\n",
            "Epoch 3: val_loss did not improve from 9.72396\n",
            "\u001b[1m297/297\u001b[0m \u001b[32m━━━━━━━━━━━━━━━━━━━━\u001b[0m\u001b[37m\u001b[0m \u001b[1m7s\u001b[0m 23ms/step - age_out_loss: 8.7772 - age_out_mae: 8.7773 - loss: 9.3942 - sex_out_accuracy: 0.7470 - sex_out_loss: 0.5224 - val_age_out_loss: 12.1290 - val_age_out_mae: 12.1734 - val_loss: 12.7298 - val_sex_out_accuracy: 0.7963 - val_sex_out_loss: 0.4598\n",
            "Epoch 4/100\n",
            "\u001b[1m295/297\u001b[0m \u001b[32m━━━━━━━━━━━━━━━━━━━\u001b[0m\u001b[37m━\u001b[0m \u001b[1m0s\u001b[0m 20ms/step - age_out_loss: 8.3381 - age_out_mae: 8.3381 - loss: 8.8914 - sex_out_accuracy: 0.7833 - sex_out_loss: 0.4508\n",
            "Epoch 4: val_loss improved from 9.72396 to 8.75740, saving model to age_sex_detection_rmsprop.keras\n",
            "\u001b[1m297/297\u001b[0m \u001b[32m━━━━━━━━━━━━━━━━━━━━\u001b[0m\u001b[37m\u001b[0m \u001b[1m7s\u001b[0m 22ms/step - age_out_loss: 8.3379 - age_out_mae: 8.3379 - loss: 8.8911 - sex_out_accuracy: 0.7834 - sex_out_loss: 0.4506 - val_age_out_loss: 8.1481 - val_age_out_mae: 8.1378 - val_loss: 8.7574 - val_sex_out_accuracy: 0.7484 - val_sex_out_loss: 0.5174\n",
            "Epoch 5/100\n",
            "\u001b[1m296/297\u001b[0m \u001b[32m━━━━━━━━━━━━━━━━━━━\u001b[0m\u001b[37m━\u001b[0m \u001b[1m0s\u001b[0m 21ms/step - age_out_loss: 7.9637 - age_out_mae: 7.9637 - loss: 8.4727 - sex_out_accuracy: 0.8214 - sex_out_loss: 0.3983\n",
            "Epoch 5: val_loss did not improve from 8.75740\n",
            "\u001b[1m297/297\u001b[0m \u001b[32m━━━━━━━━━━━━━━━━━━━━\u001b[0m\u001b[37m\u001b[0m \u001b[1m10s\u001b[0m 23ms/step - age_out_loss: 7.9638 - age_out_mae: 7.9638 - loss: 8.4728 - sex_out_accuracy: 0.8214 - sex_out_loss: 0.3983 - val_age_out_loss: 9.3431 - val_age_out_mae: 9.3347 - val_loss: 9.8963 - val_sex_out_accuracy: 0.7744 - val_sex_out_loss: 0.4490\n",
            "Epoch 6/100\n",
            "\u001b[1m297/297\u001b[0m \u001b[32m━━━━━━━━━━━━━━━━━━━━\u001b[0m\u001b[37m\u001b[0m \u001b[1m0s\u001b[0m 21ms/step - age_out_loss: 7.6742 - age_out_mae: 7.6742 - loss: 8.1773 - sex_out_accuracy: 0.8249 - sex_out_loss: 0.3836\n",
            "Epoch 6: val_loss improved from 8.75740 to 7.84609, saving model to age_sex_detection_rmsprop.keras\n",
            "\u001b[1m297/297\u001b[0m \u001b[32m━━━━━━━━━━━━━━━━━━━━\u001b[0m\u001b[37m\u001b[0m \u001b[1m10s\u001b[0m 23ms/step - age_out_loss: 7.6740 - age_out_mae: 7.6741 - loss: 8.1771 - sex_out_accuracy: 0.8249 - sex_out_loss: 0.3836 - val_age_out_loss: 7.2282 - val_age_out_mae: 7.2224 - val_loss: 7.8461 - val_sex_out_accuracy: 0.7554 - val_sex_out_loss: 0.5068\n",
            "Epoch 7/100\n",
            "\u001b[1m295/297\u001b[0m \u001b[32m━━━━━━━━━━━━━━━━━━━\u001b[0m\u001b[37m━\u001b[0m \u001b[1m0s\u001b[0m 20ms/step - age_out_loss: 7.5102 - age_out_mae: 7.5102 - loss: 7.9754 - sex_out_accuracy: 0.8501 - sex_out_loss: 0.3364\n",
            "Epoch 7: val_loss improved from 7.84609 to 7.19854, saving model to age_sex_detection_rmsprop.keras\n",
            "\u001b[1m297/297\u001b[0m \u001b[32m━━━━━━━━━━━━━━━━━━━━\u001b[0m\u001b[37m\u001b[0m \u001b[1m7s\u001b[0m 23ms/step - age_out_loss: 7.5088 - age_out_mae: 7.5088 - loss: 7.9741 - sex_out_accuracy: 0.8500 - sex_out_loss: 0.3365 - val_age_out_loss: 6.6773 - val_age_out_mae: 6.6828 - val_loss: 7.1985 - val_sex_out_accuracy: 0.8083 - val_sex_out_loss: 0.3845\n",
            "Epoch 8/100\n",
            "\u001b[1m295/297\u001b[0m \u001b[32m━━━━━━━━━━━━━━━━━━━\u001b[0m\u001b[37m━\u001b[0m \u001b[1m0s\u001b[0m 21ms/step - age_out_loss: 7.2000 - age_out_mae: 7.2000 - loss: 7.6723 - sex_out_accuracy: 0.8511 - sex_out_loss: 0.3348\n",
            "Epoch 8: val_loss did not improve from 7.19854\n",
            "\u001b[1m297/297\u001b[0m \u001b[32m━━━━━━━━━━━━━━━━━━━━\u001b[0m\u001b[37m\u001b[0m \u001b[1m7s\u001b[0m 23ms/step - age_out_loss: 7.1985 - age_out_mae: 7.1985 - loss: 7.6708 - sex_out_accuracy: 0.8511 - sex_out_loss: 0.3348 - val_age_out_loss: 8.4899 - val_age_out_mae: 8.5230 - val_loss: 9.0001 - val_sex_out_accuracy: 0.8376 - val_sex_out_loss: 0.3360\n",
            "Epoch 9/100\n",
            "\u001b[1m297/297\u001b[0m \u001b[32m━━━━━━━━━━━━━━━━━━━━\u001b[0m\u001b[37m\u001b[0m \u001b[1m0s\u001b[0m 21ms/step - age_out_loss: 7.0450 - age_out_mae: 7.0450 - loss: 7.5215 - sex_out_accuracy: 0.8549 - sex_out_loss: 0.3296\n",
            "Epoch 9: val_loss did not improve from 7.19854\n",
            "\u001b[1m297/297\u001b[0m \u001b[32m━━━━━━━━━━━━━━━━━━━━\u001b[0m\u001b[37m\u001b[0m \u001b[1m10s\u001b[0m 23ms/step - age_out_loss: 7.0447 - age_out_mae: 7.0447 - loss: 7.5212 - sex_out_accuracy: 0.8549 - sex_out_loss: 0.3296 - val_age_out_loss: 10.7984 - val_age_out_mae: 10.8190 - val_loss: 11.3059 - val_sex_out_accuracy: 0.8490 - val_sex_out_loss: 0.3380\n",
            "Epoch 10/100\n",
            "\u001b[1m295/297\u001b[0m \u001b[32m━━━━━━━━━━━━━━━━━━━\u001b[0m\u001b[37m━\u001b[0m \u001b[1m0s\u001b[0m 20ms/step - age_out_loss: 6.7004 - age_out_mae: 6.7004 - loss: 7.1593 - sex_out_accuracy: 0.8615 - sex_out_loss: 0.3046\n",
            "Epoch 10: val_loss did not improve from 7.19854\n",
            "\u001b[1m297/297\u001b[0m \u001b[32m━━━━━━━━━━━━━━━━━━━━\u001b[0m\u001b[37m\u001b[0m \u001b[1m6s\u001b[0m 22ms/step - age_out_loss: 6.7004 - age_out_mae: 6.7003 - loss: 7.1592 - sex_out_accuracy: 0.8615 - sex_out_loss: 0.3046 - val_age_out_loss: 6.6895 - val_age_out_mae: 6.7028 - val_loss: 7.2115 - val_sex_out_accuracy: 0.8283 - val_sex_out_loss: 0.3533\n",
            "Epoch 11/100\n",
            "\u001b[1m295/297\u001b[0m \u001b[32m━━━━━━━━━━━━━━━━━━━\u001b[0m\u001b[37m━\u001b[0m \u001b[1m0s\u001b[0m 21ms/step - age_out_loss: 6.4753 - age_out_mae: 6.4753 - loss: 6.9406 - sex_out_accuracy: 0.8650 - sex_out_loss: 0.3025\n",
            "Epoch 11: val_loss did not improve from 7.19854\n",
            "\u001b[1m297/297\u001b[0m \u001b[32m━━━━━━━━━━━━━━━━━━━━\u001b[0m\u001b[37m\u001b[0m \u001b[1m7s\u001b[0m 23ms/step - age_out_loss: 6.4755 - age_out_mae: 6.4756 - loss: 6.9408 - sex_out_accuracy: 0.8650 - sex_out_loss: 0.3025 - val_age_out_loss: 7.0423 - val_age_out_mae: 7.0610 - val_loss: 7.5278 - val_sex_out_accuracy: 0.8612 - val_sex_out_loss: 0.3006\n",
            "Epoch 12/100\n",
            "\u001b[1m295/297\u001b[0m \u001b[32m━━━━━━━━━━━━━━━━━━━\u001b[0m\u001b[37m━\u001b[0m \u001b[1m0s\u001b[0m 20ms/step - age_out_loss: 6.4484 - age_out_mae: 6.4484 - loss: 6.9119 - sex_out_accuracy: 0.8702 - sex_out_loss: 0.2928\n",
            "Epoch 12: val_loss did not improve from 7.19854\n",
            "\u001b[1m297/297\u001b[0m \u001b[32m━━━━━━━━━━━━━━━━━━━━\u001b[0m\u001b[37m\u001b[0m \u001b[1m7s\u001b[0m 22ms/step - age_out_loss: 6.4475 - age_out_mae: 6.4475 - loss: 6.9110 - sex_out_accuracy: 0.8702 - sex_out_loss: 0.2928 - val_age_out_loss: 9.0208 - val_age_out_mae: 9.0254 - val_loss: 9.5633 - val_sex_out_accuracy: 0.8427 - val_sex_out_loss: 0.3679\n",
            "Epoch 13/100\n",
            "\u001b[1m295/297\u001b[0m \u001b[32m━━━━━━━━━━━━━━━━━━━\u001b[0m\u001b[37m━\u001b[0m \u001b[1m0s\u001b[0m 21ms/step - age_out_loss: 6.3375 - age_out_mae: 6.3375 - loss: 6.8062 - sex_out_accuracy: 0.8713 - sex_out_loss: 0.2897\n",
            "Epoch 13: val_loss did not improve from 7.19854\n",
            "\u001b[1m297/297\u001b[0m \u001b[32m━━━━━━━━━━━━━━━━━━━━\u001b[0m\u001b[37m\u001b[0m \u001b[1m11s\u001b[0m 23ms/step - age_out_loss: 6.3368 - age_out_mae: 6.3368 - loss: 6.8055 - sex_out_accuracy: 0.8714 - sex_out_loss: 0.2897 - val_age_out_loss: 7.3591 - val_age_out_mae: 7.3676 - val_loss: 7.8525 - val_sex_out_accuracy: 0.8585 - val_sex_out_loss: 0.3055\n",
            "Epoch 14/100\n",
            "\u001b[1m297/297\u001b[0m \u001b[32m━━━━━━━━━━━━━━━━━━━━\u001b[0m\u001b[37m\u001b[0m \u001b[1m0s\u001b[0m 21ms/step - age_out_loss: 6.1109 - age_out_mae: 6.1109 - loss: 6.5777 - sex_out_accuracy: 0.8778 - sex_out_loss: 0.2802\n",
            "Epoch 14: val_loss improved from 7.19854 to 6.92013, saving model to age_sex_detection_rmsprop.keras\n",
            "\u001b[1m297/297\u001b[0m \u001b[32m━━━━━━━━━━━━━━━━━━━━\u001b[0m\u001b[37m\u001b[0m \u001b[1m10s\u001b[0m 24ms/step - age_out_loss: 6.1110 - age_out_mae: 6.1110 - loss: 6.5778 - sex_out_accuracy: 0.8778 - sex_out_loss: 0.2802 - val_age_out_loss: 6.4182 - val_age_out_mae: 6.4525 - val_loss: 6.9201 - val_sex_out_accuracy: 0.8747 - val_sex_out_loss: 0.2794\n",
            "Epoch 15/100\n",
            "\u001b[1m297/297\u001b[0m \u001b[32m━━━━━━━━━━━━━━━━━━━━\u001b[0m\u001b[37m\u001b[0m \u001b[1m0s\u001b[0m 21ms/step - age_out_loss: 6.0041 - age_out_mae: 6.0041 - loss: 6.4742 - sex_out_accuracy: 0.8746 - sex_out_loss: 0.2756\n",
            "Epoch 15: val_loss did not improve from 6.92013\n",
            "\u001b[1m297/297\u001b[0m \u001b[32m━━━━━━━━━━━━━━━━━━━━\u001b[0m\u001b[37m\u001b[0m \u001b[1m10s\u001b[0m 23ms/step - age_out_loss: 6.0042 - age_out_mae: 6.0042 - loss: 6.4743 - sex_out_accuracy: 0.8746 - sex_out_loss: 0.2756 - val_age_out_loss: 6.4334 - val_age_out_mae: 6.4730 - val_loss: 6.9748 - val_sex_out_accuracy: 0.8693 - val_sex_out_loss: 0.3044\n",
            "Epoch 16/100\n",
            "\u001b[1m297/297\u001b[0m \u001b[32m━━━━━━━━━━━━━━━━━━━━\u001b[0m\u001b[37m\u001b[0m \u001b[1m0s\u001b[0m 20ms/step - age_out_loss: 5.8533 - age_out_mae: 5.8533 - loss: 6.3302 - sex_out_accuracy: 0.8755 - sex_out_loss: 0.2758\n",
            "Epoch 16: val_loss did not improve from 6.92013\n",
            "\u001b[1m297/297\u001b[0m \u001b[32m━━━━━━━━━━━━━━━━━━━━\u001b[0m\u001b[37m\u001b[0m \u001b[1m7s\u001b[0m 22ms/step - age_out_loss: 5.8536 - age_out_mae: 5.8536 - loss: 6.3305 - sex_out_accuracy: 0.8755 - sex_out_loss: 0.2757 - val_age_out_loss: 8.5885 - val_age_out_mae: 8.6104 - val_loss: 9.1185 - val_sex_out_accuracy: 0.8536 - val_sex_out_loss: 0.3089\n",
            "Epoch 17/100\n",
            "\u001b[1m296/297\u001b[0m \u001b[32m━━━━━━━━━━━━━━━━━━━\u001b[0m\u001b[37m━\u001b[0m \u001b[1m0s\u001b[0m 21ms/step - age_out_loss: 5.9195 - age_out_mae: 5.9195 - loss: 6.3890 - sex_out_accuracy: 0.8831 - sex_out_loss: 0.2617\n",
            "Epoch 17: val_loss did not improve from 6.92013\n",
            "\u001b[1m297/297\u001b[0m \u001b[32m━━━━━━━━━━━━━━━━━━━━\u001b[0m\u001b[37m\u001b[0m \u001b[1m11s\u001b[0m 23ms/step - age_out_loss: 5.9197 - age_out_mae: 5.9197 - loss: 6.3892 - sex_out_accuracy: 0.8831 - sex_out_loss: 0.2617 - val_age_out_loss: 10.1429 - val_age_out_mae: 10.1670 - val_loss: 10.6705 - val_sex_out_accuracy: 0.8593 - val_sex_out_loss: 0.2947\n",
            "Epoch 18/100\n",
            "\u001b[1m295/297\u001b[0m \u001b[32m━━━━━━━━━━━━━━━━━━━\u001b[0m\u001b[37m━\u001b[0m \u001b[1m0s\u001b[0m 20ms/step - age_out_loss: 5.6770 - age_out_mae: 5.6770 - loss: 6.1478 - sex_out_accuracy: 0.8857 - sex_out_loss: 0.2554\n",
            "Epoch 18: val_loss did not improve from 6.92013\n",
            "\u001b[1m297/297\u001b[0m \u001b[32m━━━━━━━━━━━━━━━━━━━━\u001b[0m\u001b[37m\u001b[0m \u001b[1m7s\u001b[0m 22ms/step - age_out_loss: 5.6774 - age_out_mae: 5.6774 - loss: 6.1483 - sex_out_accuracy: 0.8857 - sex_out_loss: 0.2555 - val_age_out_loss: 7.6385 - val_age_out_mae: 7.6431 - val_loss: 8.1434 - val_sex_out_accuracy: 0.8741 - val_sex_out_loss: 0.2873\n",
            "Epoch 19/100\n",
            "\u001b[1m295/297\u001b[0m \u001b[32m━━━━━━━━━━━━━━━━━━━\u001b[0m\u001b[37m━\u001b[0m \u001b[1m0s\u001b[0m 21ms/step - age_out_loss: 5.6392 - age_out_mae: 5.6392 - loss: 6.1103 - sex_out_accuracy: 0.8927 - sex_out_loss: 0.2482\n",
            "Epoch 19: val_loss did not improve from 6.92013\n",
            "\u001b[1m297/297\u001b[0m \u001b[32m━━━━━━━━━━━━━━━━━━━━\u001b[0m\u001b[37m\u001b[0m \u001b[1m10s\u001b[0m 22ms/step - age_out_loss: 5.6392 - age_out_mae: 5.6392 - loss: 6.1104 - sex_out_accuracy: 0.8927 - sex_out_loss: 0.2483 - val_age_out_loss: 8.4904 - val_age_out_mae: 8.5183 - val_loss: 9.0119 - val_sex_out_accuracy: 0.8804 - val_sex_out_loss: 0.2709\n",
            "Epoch 20/100\n",
            "\u001b[1m297/297\u001b[0m \u001b[32m━━━━━━━━━━━━━━━━━━━━\u001b[0m\u001b[37m\u001b[0m \u001b[1m0s\u001b[0m 21ms/step - age_out_loss: 5.5783 - age_out_mae: 5.5783 - loss: 6.0595 - sex_out_accuracy: 0.8926 - sex_out_loss: 0.2505\n",
            "Epoch 20: val_loss did not improve from 6.92013\n",
            "\u001b[1m297/297\u001b[0m \u001b[32m━━━━━━━━━━━━━━━━━━━━\u001b[0m\u001b[37m\u001b[0m \u001b[1m7s\u001b[0m 24ms/step - age_out_loss: 5.5783 - age_out_mae: 5.5784 - loss: 6.0595 - sex_out_accuracy: 0.8926 - sex_out_loss: 0.2505 - val_age_out_loss: 6.7698 - val_age_out_mae: 6.7860 - val_loss: 7.3586 - val_sex_out_accuracy: 0.8465 - val_sex_out_loss: 0.3391\n",
            "Epoch 21/100\n",
            "\u001b[1m297/297\u001b[0m \u001b[32m━━━━━━━━━━━━━━━━━━━━\u001b[0m\u001b[37m\u001b[0m \u001b[1m0s\u001b[0m 21ms/step - age_out_loss: 5.4825 - age_out_mae: 5.4825 - loss: 5.9745 - sex_out_accuracy: 0.8904 - sex_out_loss: 0.2538\n",
            "Epoch 21: val_loss did not improve from 6.92013\n",
            "\u001b[1m297/297\u001b[0m \u001b[32m━━━━━━━━━━━━━━━━━━━━\u001b[0m\u001b[37m\u001b[0m \u001b[1m10s\u001b[0m 24ms/step - age_out_loss: 5.4825 - age_out_mae: 5.4825 - loss: 5.9745 - sex_out_accuracy: 0.8904 - sex_out_loss: 0.2538 - val_age_out_loss: 6.7072 - val_age_out_mae: 6.7224 - val_loss: 7.2424 - val_sex_out_accuracy: 0.8716 - val_sex_out_loss: 0.2845\n",
            "Epoch 22/100\n",
            "\u001b[1m296/297\u001b[0m \u001b[32m━━━━━━━━━━━━━━━━━━━\u001b[0m\u001b[37m━\u001b[0m \u001b[1m0s\u001b[0m 21ms/step - age_out_loss: 5.3562 - age_out_mae: 5.3562 - loss: 5.8382 - sex_out_accuracy: 0.8949 - sex_out_loss: 0.2368\n",
            "Epoch 22: val_loss did not improve from 6.92013\n",
            "\u001b[1m297/297\u001b[0m \u001b[32m━━━━━━━━━━━━━━━━━━━━\u001b[0m\u001b[37m\u001b[0m \u001b[1m10s\u001b[0m 23ms/step - age_out_loss: 5.3564 - age_out_mae: 5.3564 - loss: 5.8384 - sex_out_accuracy: 0.8949 - sex_out_loss: 0.2368 - val_age_out_loss: 7.2042 - val_age_out_mae: 7.2150 - val_loss: 7.7694 - val_sex_out_accuracy: 0.8583 - val_sex_out_loss: 0.3110\n",
            "Epoch 23/100\n",
            "\u001b[1m297/297\u001b[0m \u001b[32m━━━━━━━━━━━━━━━━━━━━\u001b[0m\u001b[37m\u001b[0m \u001b[1m0s\u001b[0m 21ms/step - age_out_loss: 5.3807 - age_out_mae: 5.3807 - loss: 5.8763 - sex_out_accuracy: 0.8925 - sex_out_loss: 0.2433\n",
            "Epoch 23: val_loss did not improve from 6.92013\n",
            "\u001b[1m297/297\u001b[0m \u001b[32m━━━━━━━━━━━━━━━━━━━━\u001b[0m\u001b[37m\u001b[0m \u001b[1m7s\u001b[0m 23ms/step - age_out_loss: 5.3806 - age_out_mae: 5.3806 - loss: 5.8763 - sex_out_accuracy: 0.8925 - sex_out_loss: 0.2433 - val_age_out_loss: 9.9038 - val_age_out_mae: 9.9475 - val_loss: 10.4923 - val_sex_out_accuracy: 0.8712 - val_sex_out_loss: 0.2942\n",
            "Epoch 24/100\n",
            "\u001b[1m297/297\u001b[0m \u001b[32m━━━━━━━━━━━━━━━━━━━━\u001b[0m\u001b[37m\u001b[0m \u001b[1m0s\u001b[0m 22ms/step - age_out_loss: 5.2757 - age_out_mae: 5.2757 - loss: 5.7647 - sex_out_accuracy: 0.9021 - sex_out_loss: 0.2292\n",
            "Epoch 24: val_loss did not improve from 6.92013\n",
            "\u001b[1m297/297\u001b[0m \u001b[32m━━━━━━━━━━━━━━━━━━━━\u001b[0m\u001b[37m\u001b[0m \u001b[1m10s\u001b[0m 24ms/step - age_out_loss: 5.2757 - age_out_mae: 5.2757 - loss: 5.7648 - sex_out_accuracy: 0.9021 - sex_out_loss: 0.2292 - val_age_out_loss: 6.8450 - val_age_out_mae: 6.8498 - val_loss: 7.4489 - val_sex_out_accuracy: 0.8484 - val_sex_out_loss: 0.3425\n",
            "Epoch 25/100\n",
            "\u001b[1m296/297\u001b[0m \u001b[32m━━━━━━━━━━━━━━━━━━━\u001b[0m\u001b[37m━\u001b[0m \u001b[1m0s\u001b[0m 21ms/step - age_out_loss: 5.1921 - age_out_mae: 5.1921 - loss: 5.6913 - sex_out_accuracy: 0.8986 - sex_out_loss: 0.2322\n",
            "Epoch 25: val_loss did not improve from 6.92013\n",
            "\u001b[1m297/297\u001b[0m \u001b[32m━━━━━━━━━━━━━━━━━━━━\u001b[0m\u001b[37m\u001b[0m \u001b[1m7s\u001b[0m 23ms/step - age_out_loss: 5.1925 - age_out_mae: 5.1925 - loss: 5.6917 - sex_out_accuracy: 0.8986 - sex_out_loss: 0.2322 - val_age_out_loss: 6.4050 - val_age_out_mae: 6.4432 - val_loss: 7.0337 - val_sex_out_accuracy: 0.8488 - val_sex_out_loss: 0.3241\n",
            "Epoch 26/100\n",
            "\u001b[1m297/297\u001b[0m \u001b[32m━━━━━━━━━━━━━━━━━━━━\u001b[0m\u001b[37m\u001b[0m \u001b[1m0s\u001b[0m 21ms/step - age_out_loss: 5.1299 - age_out_mae: 5.1299 - loss: 5.6260 - sex_out_accuracy: 0.9021 - sex_out_loss: 0.2217\n",
            "Epoch 26: val_loss did not improve from 6.92013\n",
            "\u001b[1m297/297\u001b[0m \u001b[32m━━━━━━━━━━━━━━━━━━━━\u001b[0m\u001b[37m\u001b[0m \u001b[1m7s\u001b[0m 23ms/step - age_out_loss: 5.1301 - age_out_mae: 5.1301 - loss: 5.6263 - sex_out_accuracy: 0.9021 - sex_out_loss: 0.2217 - val_age_out_loss: 6.8262 - val_age_out_mae: 6.8424 - val_loss: 7.3954 - val_sex_out_accuracy: 0.8806 - val_sex_out_loss: 0.2795\n",
            "Epoch 27/100\n",
            "\u001b[1m295/297\u001b[0m \u001b[32m━━━━━━━━━━━━━━━━━━━\u001b[0m\u001b[37m━\u001b[0m \u001b[1m0s\u001b[0m 20ms/step - age_out_loss: 5.0058 - age_out_mae: 5.0058 - loss: 5.5140 - sex_out_accuracy: 0.9045 - sex_out_loss: 0.2268\n",
            "Epoch 27: val_loss did not improve from 6.92013\n",
            "\u001b[1m297/297\u001b[0m \u001b[32m━━━━━━━━━━━━━━━━━━━━\u001b[0m\u001b[37m\u001b[0m \u001b[1m6s\u001b[0m 22ms/step - age_out_loss: 5.0067 - age_out_mae: 5.0067 - loss: 5.5148 - sex_out_accuracy: 0.9045 - sex_out_loss: 0.2267 - val_age_out_loss: 7.2212 - val_age_out_mae: 7.2540 - val_loss: 7.8284 - val_sex_out_accuracy: 0.8714 - val_sex_out_loss: 0.2919\n",
            "Epoch 28/100\n",
            "\u001b[1m295/297\u001b[0m \u001b[32m━━━━━━━━━━━━━━━━━━━\u001b[0m\u001b[37m━\u001b[0m \u001b[1m0s\u001b[0m 21ms/step - age_out_loss: 4.9961 - age_out_mae: 4.9961 - loss: 5.5196 - sex_out_accuracy: 0.9014 - sex_out_loss: 0.2341\n",
            "Epoch 28: val_loss did not improve from 6.92013\n",
            "\u001b[1m297/297\u001b[0m \u001b[32m━━━━━━━━━━━━━━━━━━━━\u001b[0m\u001b[37m\u001b[0m \u001b[1m7s\u001b[0m 23ms/step - age_out_loss: 4.9966 - age_out_mae: 4.9967 - loss: 5.5201 - sex_out_accuracy: 0.9014 - sex_out_loss: 0.2340 - val_age_out_loss: 7.1586 - val_age_out_mae: 7.1802 - val_loss: 7.7858 - val_sex_out_accuracy: 0.8612 - val_sex_out_loss: 0.3139\n",
            "Epoch 29/100\n",
            "\u001b[1m297/297\u001b[0m \u001b[32m━━━━━━━━━━━━━━━━━━━━\u001b[0m\u001b[37m\u001b[0m \u001b[1m0s\u001b[0m 20ms/step - age_out_loss: 4.9240 - age_out_mae: 4.9240 - loss: 5.4501 - sex_out_accuracy: 0.9009 - sex_out_loss: 0.2292\n",
            "Epoch 29: val_loss did not improve from 6.92013\n",
            "\u001b[1m297/297\u001b[0m \u001b[32m━━━━━━━━━━━━━━━━━━━━\u001b[0m\u001b[37m\u001b[0m \u001b[1m7s\u001b[0m 22ms/step - age_out_loss: 4.9243 - age_out_mae: 4.9243 - loss: 5.4504 - sex_out_accuracy: 0.9010 - sex_out_loss: 0.2291 - val_age_out_loss: 8.5939 - val_age_out_mae: 8.6124 - val_loss: 9.1887 - val_sex_out_accuracy: 0.8783 - val_sex_out_loss: 0.2791\n",
            "Epoch 30/100\n",
            "\u001b[1m296/297\u001b[0m \u001b[32m━━━━━━━━━━━━━━━━━━━\u001b[0m\u001b[37m━\u001b[0m \u001b[1m0s\u001b[0m 21ms/step - age_out_loss: 4.9872 - age_out_mae: 4.9872 - loss: 5.5028 - sex_out_accuracy: 0.9076 - sex_out_loss: 0.2120\n",
            "Epoch 30: val_loss did not improve from 6.92013\n",
            "\u001b[1m297/297\u001b[0m \u001b[32m━━━━━━━━━━━━━━━━━━━━\u001b[0m\u001b[37m\u001b[0m \u001b[1m10s\u001b[0m 23ms/step - age_out_loss: 4.9876 - age_out_mae: 4.9875 - loss: 5.5032 - sex_out_accuracy: 0.9076 - sex_out_loss: 0.2121 - val_age_out_loss: 6.7411 - val_age_out_mae: 6.7584 - val_loss: 7.3692 - val_sex_out_accuracy: 0.8629 - val_sex_out_loss: 0.3081\n",
            "Epoch 31/100\n",
            "\u001b[1m295/297\u001b[0m \u001b[32m━━━━━━━━━━━━━━━━━━━\u001b[0m\u001b[37m━\u001b[0m \u001b[1m0s\u001b[0m 20ms/step - age_out_loss: 4.9059 - age_out_mae: 4.9059 - loss: 5.4333 - sex_out_accuracy: 0.9035 - sex_out_loss: 0.2169\n",
            "Epoch 31: val_loss did not improve from 6.92013\n",
            "\u001b[1m297/297\u001b[0m \u001b[32m━━━━━━━━━━━━━━━━━━━━\u001b[0m\u001b[37m\u001b[0m \u001b[1m7s\u001b[0m 22ms/step - age_out_loss: 4.9060 - age_out_mae: 4.9060 - loss: 5.4335 - sex_out_accuracy: 0.9035 - sex_out_loss: 0.2169 - val_age_out_loss: 7.2286 - val_age_out_mae: 7.2686 - val_loss: 7.8408 - val_sex_out_accuracy: 0.8802 - val_sex_out_loss: 0.2604\n",
            "Epoch 32/100\n",
            "\u001b[1m297/297\u001b[0m \u001b[32m━━━━━━━━━━━━━━━━━━━━\u001b[0m\u001b[37m\u001b[0m \u001b[1m0s\u001b[0m 21ms/step - age_out_loss: 4.7587 - age_out_mae: 4.7587 - loss: 5.2890 - sex_out_accuracy: 0.9036 - sex_out_loss: 0.2129\n",
            "Epoch 32: val_loss did not improve from 6.92013\n",
            "\u001b[1m297/297\u001b[0m \u001b[32m━━━━━━━━━━━━━━━━━━━━\u001b[0m\u001b[37m\u001b[0m \u001b[1m7s\u001b[0m 23ms/step - age_out_loss: 4.7590 - age_out_mae: 4.7590 - loss: 5.2893 - sex_out_accuracy: 0.9036 - sex_out_loss: 0.2129 - val_age_out_loss: 7.7470 - val_age_out_mae: 7.7687 - val_loss: 8.3706 - val_sex_out_accuracy: 0.8811 - val_sex_out_loss: 0.2852\n",
            "Epoch 33/100\n",
            "\u001b[1m296/297\u001b[0m \u001b[32m━━━━━━━━━━━━━━━━━━━\u001b[0m\u001b[37m━\u001b[0m \u001b[1m0s\u001b[0m 21ms/step - age_out_loss: 4.7870 - age_out_mae: 4.7870 - loss: 5.3188 - sex_out_accuracy: 0.9126 - sex_out_loss: 0.2076\n",
            "Epoch 33: val_loss did not improve from 6.92013\n",
            "\u001b[1m297/297\u001b[0m \u001b[32m━━━━━━━━━━━━━━━━━━━━\u001b[0m\u001b[37m\u001b[0m \u001b[1m10s\u001b[0m 23ms/step - age_out_loss: 4.7873 - age_out_mae: 4.7873 - loss: 5.3191 - sex_out_accuracy: 0.9126 - sex_out_loss: 0.2077 - val_age_out_loss: 7.5228 - val_age_out_mae: 7.5631 - val_loss: 8.1856 - val_sex_out_accuracy: 0.8669 - val_sex_out_loss: 0.2939\n",
            "Epoch 34/100\n",
            "\u001b[1m295/297\u001b[0m \u001b[32m━━━━━━━━━━━━━━━━━━━\u001b[0m\u001b[37m━\u001b[0m \u001b[1m0s\u001b[0m 20ms/step - age_out_loss: 4.7728 - age_out_mae: 4.7728 - loss: 5.3166 - sex_out_accuracy: 0.9121 - sex_out_loss: 0.2128\n",
            "Epoch 34: val_loss improved from 6.92013 to 6.77381, saving model to age_sex_detection_rmsprop.keras\n",
            "\u001b[1m297/297\u001b[0m \u001b[32m━━━━━━━━━━━━━━━━━━━━\u001b[0m\u001b[37m\u001b[0m \u001b[1m7s\u001b[0m 23ms/step - age_out_loss: 4.7732 - age_out_mae: 4.7732 - loss: 5.3171 - sex_out_accuracy: 0.9121 - sex_out_loss: 0.2128 - val_age_out_loss: 6.1495 - val_age_out_mae: 6.1760 - val_loss: 6.7738 - val_sex_out_accuracy: 0.8836 - val_sex_out_loss: 0.2667\n",
            "Epoch 35/100\n",
            "\u001b[1m295/297\u001b[0m \u001b[32m━━━━━━━━━━━━━━━━━━━\u001b[0m\u001b[37m━\u001b[0m \u001b[1m0s\u001b[0m 21ms/step - age_out_loss: 4.7137 - age_out_mae: 4.7137 - loss: 5.2588 - sex_out_accuracy: 0.9080 - sex_out_loss: 0.2069\n",
            "Epoch 35: val_loss did not improve from 6.77381\n",
            "\u001b[1m297/297\u001b[0m \u001b[32m━━━━━━━━━━━━━━━━━━━━\u001b[0m\u001b[37m\u001b[0m \u001b[1m10s\u001b[0m 22ms/step - age_out_loss: 4.7143 - age_out_mae: 4.7143 - loss: 5.2595 - sex_out_accuracy: 0.9080 - sex_out_loss: 0.2069 - val_age_out_loss: 6.4381 - val_age_out_mae: 6.4607 - val_loss: 7.0634 - val_sex_out_accuracy: 0.8830 - val_sex_out_loss: 0.2646\n",
            "Epoch 36/100\n",
            "\u001b[1m295/297\u001b[0m \u001b[32m━━━━━━━━━━━━━━━━━━━\u001b[0m\u001b[37m━\u001b[0m \u001b[1m0s\u001b[0m 20ms/step - age_out_loss: 4.7421 - age_out_mae: 4.7421 - loss: 5.3076 - sex_out_accuracy: 0.9043 - sex_out_loss: 0.2212\n",
            "Epoch 36: val_loss did not improve from 6.77381\n",
            "\u001b[1m297/297\u001b[0m \u001b[32m━━━━━━━━━━━━━━━━━━━━\u001b[0m\u001b[37m\u001b[0m \u001b[1m7s\u001b[0m 22ms/step - age_out_loss: 4.7420 - age_out_mae: 4.7419 - loss: 5.3074 - sex_out_accuracy: 0.9044 - sex_out_loss: 0.2211 - val_age_out_loss: 6.7255 - val_age_out_mae: 6.7377 - val_loss: 7.3518 - val_sex_out_accuracy: 0.8849 - val_sex_out_loss: 0.2668\n",
            "Epoch 37/100\n",
            "\u001b[1m297/297\u001b[0m \u001b[32m━━━━━━━━━━━━━━━━━━━━\u001b[0m\u001b[37m\u001b[0m \u001b[1m0s\u001b[0m 21ms/step - age_out_loss: 4.6855 - age_out_mae: 4.6855 - loss: 5.2438 - sex_out_accuracy: 0.9073 - sex_out_loss: 0.2075\n",
            "Epoch 37: val_loss did not improve from 6.77381\n",
            "\u001b[1m297/297\u001b[0m \u001b[32m━━━━━━━━━━━━━━━━━━━━\u001b[0m\u001b[37m\u001b[0m \u001b[1m10s\u001b[0m 23ms/step - age_out_loss: 4.6855 - age_out_mae: 4.6855 - loss: 5.2439 - sex_out_accuracy: 0.9073 - sex_out_loss: 0.2075 - val_age_out_loss: 6.1979 - val_age_out_mae: 6.2538 - val_loss: 6.8603 - val_sex_out_accuracy: 0.8865 - val_sex_out_loss: 0.2544\n",
            "Epoch 38/100\n",
            "\u001b[1m295/297\u001b[0m \u001b[32m━━━━━━━━━━━━━━━━━━━\u001b[0m\u001b[37m━\u001b[0m \u001b[1m0s\u001b[0m 21ms/step - age_out_loss: 4.6306 - age_out_mae: 4.6306 - loss: 5.1821 - sex_out_accuracy: 0.9164 - sex_out_loss: 0.1943\n",
            "Epoch 38: val_loss did not improve from 6.77381\n",
            "\u001b[1m297/297\u001b[0m \u001b[32m━━━━━━━━━━━━━━━━━━━━\u001b[0m\u001b[37m\u001b[0m \u001b[1m10s\u001b[0m 23ms/step - age_out_loss: 4.6313 - age_out_mae: 4.6313 - loss: 5.1829 - sex_out_accuracy: 0.9164 - sex_out_loss: 0.1943 - val_age_out_loss: 6.5879 - val_age_out_mae: 6.6314 - val_loss: 7.2662 - val_sex_out_accuracy: 0.8800 - val_sex_out_loss: 0.2755\n",
            "Epoch 39/100\n",
            "\u001b[1m296/297\u001b[0m \u001b[32m━━━━━━━━━━━━━━━━━━━\u001b[0m\u001b[37m━\u001b[0m \u001b[1m0s\u001b[0m 21ms/step - age_out_loss: 4.5688 - age_out_mae: 4.5688 - loss: 5.1344 - sex_out_accuracy: 0.9115 - sex_out_loss: 0.2027\n",
            "Epoch 39: val_loss did not improve from 6.77381\n",
            "\u001b[1m297/297\u001b[0m \u001b[32m━━━━━━━━━━━━━━━━━━━━\u001b[0m\u001b[37m\u001b[0m \u001b[1m10s\u001b[0m 23ms/step - age_out_loss: 4.5692 - age_out_mae: 4.5691 - loss: 5.1347 - sex_out_accuracy: 0.9115 - sex_out_loss: 0.2026 - val_age_out_loss: 6.1683 - val_age_out_mae: 6.1920 - val_loss: 6.8172 - val_sex_out_accuracy: 0.8882 - val_sex_out_loss: 0.2612\n",
            "Epoch 40/100\n",
            "\u001b[1m295/297\u001b[0m \u001b[32m━━━━━━━━━━━━━━━━━━━\u001b[0m\u001b[37m━\u001b[0m \u001b[1m0s\u001b[0m 20ms/step - age_out_loss: 4.5803 - age_out_mae: 4.5803 - loss: 5.1563 - sex_out_accuracy: 0.9146 - sex_out_loss: 0.2067\n",
            "Epoch 40: val_loss did not improve from 6.77381\n",
            "\u001b[1m297/297\u001b[0m \u001b[32m━━━━━━━━━━━━━━━━━━━━\u001b[0m\u001b[37m\u001b[0m \u001b[1m6s\u001b[0m 22ms/step - age_out_loss: 4.5803 - age_out_mae: 4.5802 - loss: 5.1562 - sex_out_accuracy: 0.9146 - sex_out_loss: 0.2066 - val_age_out_loss: 8.2682 - val_age_out_mae: 8.2920 - val_loss: 8.9312 - val_sex_out_accuracy: 0.8849 - val_sex_out_loss: 0.2754\n",
            "Epoch 41/100\n",
            "\u001b[1m297/297\u001b[0m \u001b[32m━━━━━━━━━━━━━━━━━━━━\u001b[0m\u001b[37m\u001b[0m \u001b[1m0s\u001b[0m 21ms/step - age_out_loss: 4.5665 - age_out_mae: 4.5665 - loss: 5.1306 - sex_out_accuracy: 0.9185 - sex_out_loss: 0.1881\n",
            "Epoch 41: val_loss did not improve from 6.77381\n",
            "\u001b[1m297/297\u001b[0m \u001b[32m━━━━━━━━━━━━━━━━━━━━\u001b[0m\u001b[37m\u001b[0m \u001b[1m11s\u001b[0m 23ms/step - age_out_loss: 4.5664 - age_out_mae: 4.5664 - loss: 5.1306 - sex_out_accuracy: 0.9185 - sex_out_loss: 0.1882 - val_age_out_loss: 6.9323 - val_age_out_mae: 6.9754 - val_loss: 7.6251 - val_sex_out_accuracy: 0.8773 - val_sex_out_loss: 0.2728\n",
            "Epoch 42/100\n",
            "\u001b[1m297/297\u001b[0m \u001b[32m━━━━━━━━━━━━━━━━━━━━\u001b[0m\u001b[37m\u001b[0m \u001b[1m0s\u001b[0m 26ms/step - age_out_loss: 4.5251 - age_out_mae: 4.5251 - loss: 5.0981 - sex_out_accuracy: 0.9187 - sex_out_loss: 0.1911\n",
            "Epoch 42: val_loss did not improve from 6.77381\n",
            "\u001b[1m297/297\u001b[0m \u001b[32m━━━━━━━━━━━━━━━━━━━━\u001b[0m\u001b[37m\u001b[0m \u001b[1m12s\u001b[0m 27ms/step - age_out_loss: 4.5251 - age_out_mae: 4.5252 - loss: 5.0982 - sex_out_accuracy: 0.9187 - sex_out_loss: 0.1911 - val_age_out_loss: 6.7000 - val_age_out_mae: 6.7315 - val_loss: 7.3856 - val_sex_out_accuracy: 0.8773 - val_sex_out_loss: 0.2708\n",
            "Epoch 43/100\n",
            "\u001b[1m297/297\u001b[0m \u001b[32m━━━━━━━━━━━━━━━━━━━━\u001b[0m\u001b[37m\u001b[0m \u001b[1m0s\u001b[0m 21ms/step - age_out_loss: 4.4152 - age_out_mae: 4.4152 - loss: 4.9928 - sex_out_accuracy: 0.9176 - sex_out_loss: 0.1906\n",
            "Epoch 43: val_loss did not improve from 6.77381\n",
            "\u001b[1m297/297\u001b[0m \u001b[32m━━━━━━━━━━━━━━━━━━━━\u001b[0m\u001b[37m\u001b[0m \u001b[1m9s\u001b[0m 24ms/step - age_out_loss: 4.4156 - age_out_mae: 4.4156 - loss: 4.9933 - sex_out_accuracy: 0.9176 - sex_out_loss: 0.1906 - val_age_out_loss: 7.9786 - val_age_out_mae: 8.0236 - val_loss: 8.6753 - val_sex_out_accuracy: 0.8821 - val_sex_out_loss: 0.2662\n",
            "Epoch 44/100\n",
            "\u001b[1m295/297\u001b[0m \u001b[32m━━━━━━━━━━━━━━━━━━━\u001b[0m\u001b[37m━\u001b[0m \u001b[1m0s\u001b[0m 20ms/step - age_out_loss: 4.5010 - age_out_mae: 4.5010 - loss: 5.0875 - sex_out_accuracy: 0.9205 - sex_out_loss: 0.1935\n",
            "Epoch 44: val_loss did not improve from 6.77381\n",
            "\u001b[1m297/297\u001b[0m \u001b[32m━━━━━━━━━━━━━━━━━━━━\u001b[0m\u001b[37m\u001b[0m \u001b[1m7s\u001b[0m 22ms/step - age_out_loss: 4.5010 - age_out_mae: 4.5010 - loss: 5.0875 - sex_out_accuracy: 0.9205 - sex_out_loss: 0.1935 - val_age_out_loss: 6.7927 - val_age_out_mae: 6.8236 - val_loss: 7.4855 - val_sex_out_accuracy: 0.8825 - val_sex_out_loss: 0.2673\n",
            "Epoch 45/100\n",
            "\u001b[1m296/297\u001b[0m \u001b[32m━━━━━━━━━━━━━━━━━━━\u001b[0m\u001b[37m━\u001b[0m \u001b[1m0s\u001b[0m 21ms/step - age_out_loss: 4.4209 - age_out_mae: 4.4209 - loss: 5.0160 - sex_out_accuracy: 0.9177 - sex_out_loss: 0.1957\n",
            "Epoch 45: val_loss did not improve from 6.77381\n",
            "\u001b[1m297/297\u001b[0m \u001b[32m━━━━━━━━━━━━━━━━━━━━\u001b[0m\u001b[37m\u001b[0m \u001b[1m11s\u001b[0m 24ms/step - age_out_loss: 4.4210 - age_out_mae: 4.4209 - loss: 5.0160 - sex_out_accuracy: 0.9177 - sex_out_loss: 0.1957 - val_age_out_loss: 7.8727 - val_age_out_mae: 7.8945 - val_loss: 8.5791 - val_sex_out_accuracy: 0.8758 - val_sex_out_loss: 0.2881\n",
            "Epoch 46/100\n",
            "\u001b[1m295/297\u001b[0m \u001b[32m━━━━━━━━━━━━━━━━━━━\u001b[0m\u001b[37m━\u001b[0m \u001b[1m0s\u001b[0m 20ms/step - age_out_loss: 4.4007 - age_out_mae: 4.4007 - loss: 4.9939 - sex_out_accuracy: 0.9201 - sex_out_loss: 0.1887\n",
            "Epoch 46: val_loss did not improve from 6.77381\n",
            "\u001b[1m297/297\u001b[0m \u001b[32m━━━━━━━━━━━━━━━━━━━━\u001b[0m\u001b[37m\u001b[0m \u001b[1m7s\u001b[0m 22ms/step - age_out_loss: 4.4016 - age_out_mae: 4.4016 - loss: 4.9947 - sex_out_accuracy: 0.9201 - sex_out_loss: 0.1887 - val_age_out_loss: 6.6622 - val_age_out_mae: 6.6813 - val_loss: 7.4085 - val_sex_out_accuracy: 0.8733 - val_sex_out_loss: 0.3318\n",
            "Epoch 47/100\n",
            "\u001b[1m297/297\u001b[0m \u001b[32m━━━━━━━━━━━━━━━━━━━━\u001b[0m\u001b[37m\u001b[0m \u001b[1m0s\u001b[0m 21ms/step - age_out_loss: 4.4551 - age_out_mae: 4.4551 - loss: 5.0452 - sex_out_accuracy: 0.9207 - sex_out_loss: 0.1797\n",
            "Epoch 47: val_loss did not improve from 6.77381\n",
            "\u001b[1m297/297\u001b[0m \u001b[32m━━━━━━━━━━━━━━━━━━━━\u001b[0m\u001b[37m\u001b[0m \u001b[1m7s\u001b[0m 22ms/step - age_out_loss: 4.4550 - age_out_mae: 4.4550 - loss: 5.0451 - sex_out_accuracy: 0.9207 - sex_out_loss: 0.1798 - val_age_out_loss: 6.7494 - val_age_out_mae: 6.7871 - val_loss: 7.4785 - val_sex_out_accuracy: 0.8745 - val_sex_out_loss: 0.2783\n",
            "Epoch 48/100\n",
            "\u001b[1m295/297\u001b[0m \u001b[32m━━━━━━━━━━━━━━━━━━━\u001b[0m\u001b[37m━\u001b[0m \u001b[1m0s\u001b[0m 20ms/step - age_out_loss: 4.4013 - age_out_mae: 4.4013 - loss: 5.0001 - sex_out_accuracy: 0.9236 - sex_out_loss: 0.1828\n",
            "Epoch 48: val_loss did not improve from 6.77381\n",
            "\u001b[1m297/297\u001b[0m \u001b[32m━━━━━━━━━━━━━━━━━━━━\u001b[0m\u001b[37m\u001b[0m \u001b[1m7s\u001b[0m 22ms/step - age_out_loss: 4.4012 - age_out_mae: 4.4012 - loss: 5.0000 - sex_out_accuracy: 0.9236 - sex_out_loss: 0.1828 - val_age_out_loss: 6.8924 - val_age_out_mae: 6.9141 - val_loss: 7.5957 - val_sex_out_accuracy: 0.8840 - val_sex_out_loss: 0.2676\n",
            "Epoch 49/100\n",
            "\u001b[1m296/297\u001b[0m \u001b[32m━━━━━━━━━━━━━━━━━━━\u001b[0m\u001b[37m━\u001b[0m \u001b[1m0s\u001b[0m 20ms/step - age_out_loss: 4.3594 - age_out_mae: 4.3594 - loss: 4.9645 - sex_out_accuracy: 0.9254 - sex_out_loss: 0.1831\n",
            "Epoch 49: val_loss did not improve from 6.77381\n",
            "\u001b[1m297/297\u001b[0m \u001b[32m━━━━━━━━━━━━━━━━━━━━\u001b[0m\u001b[37m\u001b[0m \u001b[1m10s\u001b[0m 23ms/step - age_out_loss: 4.3594 - age_out_mae: 4.3593 - loss: 4.9645 - sex_out_accuracy: 0.9254 - sex_out_loss: 0.1831 - val_age_out_loss: 6.7764 - val_age_out_mae: 6.8017 - val_loss: 7.4843 - val_sex_out_accuracy: 0.8853 - val_sex_out_loss: 0.2598\n",
            "Epoch 50/100\n",
            "\u001b[1m295/297\u001b[0m \u001b[32m━━━━━━━━━━━━━━━━━━━\u001b[0m\u001b[37m━\u001b[0m \u001b[1m0s\u001b[0m 20ms/step - age_out_loss: 4.3500 - age_out_mae: 4.3500 - loss: 4.9591 - sex_out_accuracy: 0.9236 - sex_out_loss: 0.1816\n",
            "Epoch 50: val_loss did not improve from 6.77381\n",
            "\u001b[1m297/297\u001b[0m \u001b[32m━━━━━━━━━━━━━━━━━━━━\u001b[0m\u001b[37m\u001b[0m \u001b[1m10s\u001b[0m 23ms/step - age_out_loss: 4.3502 - age_out_mae: 4.3502 - loss: 4.9594 - sex_out_accuracy: 0.9235 - sex_out_loss: 0.1816 - val_age_out_loss: 8.2197 - val_age_out_mae: 8.2411 - val_loss: 8.9418 - val_sex_out_accuracy: 0.8817 - val_sex_out_loss: 0.2724\n",
            "Epoch 51/100\n",
            "\u001b[1m297/297\u001b[0m \u001b[32m━━━━━━━━━━━━━━━━━━━━\u001b[0m\u001b[37m\u001b[0m \u001b[1m0s\u001b[0m 21ms/step - age_out_loss: 4.3153 - age_out_mae: 4.3153 - loss: 4.9327 - sex_out_accuracy: 0.9203 - sex_out_loss: 0.1852\n",
            "Epoch 51: val_loss did not improve from 6.77381\n",
            "\u001b[1m297/297\u001b[0m \u001b[32m━━━━━━━━━━━━━━━━━━━━\u001b[0m\u001b[37m\u001b[0m \u001b[1m10s\u001b[0m 23ms/step - age_out_loss: 4.3154 - age_out_mae: 4.3153 - loss: 4.9328 - sex_out_accuracy: 0.9203 - sex_out_loss: 0.1852 - val_age_out_loss: 7.4157 - val_age_out_mae: 7.4245 - val_loss: 8.1575 - val_sex_out_accuracy: 0.8747 - val_sex_out_loss: 0.3042\n",
            "Epoch 52/100\n",
            "\u001b[1m296/297\u001b[0m \u001b[32m━━━━━━━━━━━━━━━━━━━\u001b[0m\u001b[37m━\u001b[0m \u001b[1m0s\u001b[0m 21ms/step - age_out_loss: 4.3451 - age_out_mae: 4.3451 - loss: 4.9628 - sex_out_accuracy: 0.9253 - sex_out_loss: 0.1808\n",
            "Epoch 52: val_loss did not improve from 6.77381\n",
            "\u001b[1m297/297\u001b[0m \u001b[32m━━━━━━━━━━━━━━━━━━━━\u001b[0m\u001b[37m\u001b[0m \u001b[1m10s\u001b[0m 23ms/step - age_out_loss: 4.3451 - age_out_mae: 4.3451 - loss: 4.9628 - sex_out_accuracy: 0.9253 - sex_out_loss: 0.1807 - val_age_out_loss: 6.7465 - val_age_out_mae: 6.7416 - val_loss: 7.4370 - val_sex_out_accuracy: 0.8880 - val_sex_out_loss: 0.2633\n",
            "Epoch 53/100\n",
            "\u001b[1m295/297\u001b[0m \u001b[32m━━━━━━━━━━━━━━━━━━━\u001b[0m\u001b[37m━\u001b[0m \u001b[1m0s\u001b[0m 20ms/step - age_out_loss: 4.2689 - age_out_mae: 4.2689 - loss: 4.8845 - sex_out_accuracy: 0.9238 - sex_out_loss: 0.1736\n",
            "Epoch 53: val_loss did not improve from 6.77381\n",
            "\u001b[1m297/297\u001b[0m \u001b[32m━━━━━━━━━━━━━━━━━━━━\u001b[0m\u001b[37m\u001b[0m \u001b[1m6s\u001b[0m 22ms/step - age_out_loss: 4.2689 - age_out_mae: 4.2689 - loss: 4.8845 - sex_out_accuracy: 0.9238 - sex_out_loss: 0.1736 - val_age_out_loss: 6.6893 - val_age_out_mae: 6.7217 - val_loss: 7.4249 - val_sex_out_accuracy: 0.8840 - val_sex_out_loss: 0.2683\n",
            "Epoch 54/100\n",
            "\u001b[1m297/297\u001b[0m \u001b[32m━━━━━━━━━━━━━━━━━━━━\u001b[0m\u001b[37m\u001b[0m \u001b[1m0s\u001b[0m 21ms/step - age_out_loss: 4.2692 - age_out_mae: 4.2692 - loss: 4.8932 - sex_out_accuracy: 0.9262 - sex_out_loss: 0.1769\n",
            "Epoch 54: val_loss did not improve from 6.77381\n",
            "\u001b[1m297/297\u001b[0m \u001b[32m━━━━━━━━━━━━━━━━━━━━\u001b[0m\u001b[37m\u001b[0m \u001b[1m7s\u001b[0m 23ms/step - age_out_loss: 4.2693 - age_out_mae: 4.2694 - loss: 4.8934 - sex_out_accuracy: 0.9262 - sex_out_loss: 0.1769 - val_age_out_loss: 6.3915 - val_age_out_mae: 6.4059 - val_loss: 7.1498 - val_sex_out_accuracy: 0.8726 - val_sex_out_loss: 0.3093\n",
            "Epoch 55/100\n",
            "\u001b[1m295/297\u001b[0m \u001b[32m━━━━━━━━━━━━━━━━━━━\u001b[0m\u001b[37m━\u001b[0m \u001b[1m0s\u001b[0m 20ms/step - age_out_loss: 4.2079 - age_out_mae: 4.2079 - loss: 4.8405 - sex_out_accuracy: 0.9250 - sex_out_loss: 0.1806\n",
            "Epoch 55: val_loss improved from 6.77381 to 6.65495, saving model to age_sex_detection_rmsprop.keras\n",
            "\u001b[1m297/297\u001b[0m \u001b[32m━━━━━━━━━━━━━━━━━━━━\u001b[0m\u001b[37m\u001b[0m \u001b[1m7s\u001b[0m 23ms/step - age_out_loss: 4.2086 - age_out_mae: 4.2086 - loss: 4.8411 - sex_out_accuracy: 0.9250 - sex_out_loss: 0.1805 - val_age_out_loss: 5.9569 - val_age_out_mae: 5.9274 - val_loss: 6.6550 - val_sex_out_accuracy: 0.8855 - val_sex_out_loss: 0.2790\n",
            "Epoch 56/100\n",
            "\u001b[1m297/297\u001b[0m \u001b[32m━━━━━━━━━━━━━━━━━━━━\u001b[0m\u001b[37m\u001b[0m \u001b[1m0s\u001b[0m 21ms/step - age_out_loss: 4.2591 - age_out_mae: 4.2591 - loss: 4.8878 - sex_out_accuracy: 0.9281 - sex_out_loss: 0.1716\n",
            "Epoch 56: val_loss did not improve from 6.65495\n",
            "\u001b[1m297/297\u001b[0m \u001b[32m━━━━━━━━━━━━━━━━━━━━\u001b[0m\u001b[37m\u001b[0m \u001b[1m7s\u001b[0m 23ms/step - age_out_loss: 4.2590 - age_out_mae: 4.2590 - loss: 4.8878 - sex_out_accuracy: 0.9281 - sex_out_loss: 0.1716 - val_age_out_loss: 6.1656 - val_age_out_mae: 6.2004 - val_loss: 6.9345 - val_sex_out_accuracy: 0.8806 - val_sex_out_loss: 0.2817\n",
            "Epoch 57/100\n",
            "\u001b[1m295/297\u001b[0m \u001b[32m━━━━━━━━━━━━━━━━━━━\u001b[0m\u001b[37m━\u001b[0m \u001b[1m0s\u001b[0m 20ms/step - age_out_loss: 4.1945 - age_out_mae: 4.1945 - loss: 4.8268 - sex_out_accuracy: 0.9252 - sex_out_loss: 0.1708\n",
            "Epoch 57: val_loss did not improve from 6.65495\n",
            "\u001b[1m297/297\u001b[0m \u001b[32m━━━━━━━━━━━━━━━━━━━━\u001b[0m\u001b[37m\u001b[0m \u001b[1m7s\u001b[0m 22ms/step - age_out_loss: 4.1948 - age_out_mae: 4.1948 - loss: 4.8271 - sex_out_accuracy: 0.9252 - sex_out_loss: 0.1709 - val_age_out_loss: 8.7684 - val_age_out_mae: 8.7887 - val_loss: 9.5069 - val_sex_out_accuracy: 0.8908 - val_sex_out_loss: 0.2579\n",
            "Epoch 58/100\n",
            "\u001b[1m295/297\u001b[0m \u001b[32m━━━━━━━━━━━━━━━━━━━\u001b[0m\u001b[37m━\u001b[0m \u001b[1m0s\u001b[0m 21ms/step - age_out_loss: 4.1767 - age_out_mae: 4.1767 - loss: 4.8171 - sex_out_accuracy: 0.9279 - sex_out_loss: 0.1741\n",
            "Epoch 58: val_loss did not improve from 6.65495\n",
            "\u001b[1m297/297\u001b[0m \u001b[32m━━━━━━━━━━━━━━━━━━━━\u001b[0m\u001b[37m\u001b[0m \u001b[1m7s\u001b[0m 23ms/step - age_out_loss: 4.1772 - age_out_mae: 4.1772 - loss: 4.8176 - sex_out_accuracy: 0.9279 - sex_out_loss: 0.1740 - val_age_out_loss: 7.5194 - val_age_out_mae: 7.5580 - val_loss: 8.3146 - val_sex_out_accuracy: 0.8779 - val_sex_out_loss: 0.2965\n",
            "Epoch 59/100\n",
            "\u001b[1m297/297\u001b[0m \u001b[32m━━━━━━━━━━━━━━━━━━━━\u001b[0m\u001b[37m\u001b[0m \u001b[1m0s\u001b[0m 21ms/step - age_out_loss: 4.1950 - age_out_mae: 4.1950 - loss: 4.8386 - sex_out_accuracy: 0.9313 - sex_out_loss: 0.1727\n",
            "Epoch 59: val_loss did not improve from 6.65495\n",
            "\u001b[1m297/297\u001b[0m \u001b[32m━━━━━━━━━━━━━━━━━━━━\u001b[0m\u001b[37m\u001b[0m \u001b[1m10s\u001b[0m 23ms/step - age_out_loss: 4.1950 - age_out_mae: 4.1950 - loss: 4.8386 - sex_out_accuracy: 0.9313 - sex_out_loss: 0.1727 - val_age_out_loss: 7.0876 - val_age_out_mae: 7.1073 - val_loss: 7.8362 - val_sex_out_accuracy: 0.8868 - val_sex_out_loss: 0.2650\n",
            "Epoch 60/100\n",
            "\u001b[1m295/297\u001b[0m \u001b[32m━━━━━━━━━━━━━━━━━━━\u001b[0m\u001b[37m━\u001b[0m \u001b[1m0s\u001b[0m 20ms/step - age_out_loss: 4.1834 - age_out_mae: 4.1834 - loss: 4.8233 - sex_out_accuracy: 0.9322 - sex_out_loss: 0.1649\n",
            "Epoch 60: val_loss did not improve from 6.65495\n",
            "\u001b[1m297/297\u001b[0m \u001b[32m━━━━━━━━━━━━━━━━━━━━\u001b[0m\u001b[37m\u001b[0m \u001b[1m10s\u001b[0m 22ms/step - age_out_loss: 4.1835 - age_out_mae: 4.1835 - loss: 4.8234 - sex_out_accuracy: 0.9322 - sex_out_loss: 0.1649 - val_age_out_loss: 6.3450 - val_age_out_mae: 6.3672 - val_loss: 7.1255 - val_sex_out_accuracy: 0.8811 - val_sex_out_loss: 0.2890\n",
            "Epoch 61/100\n",
            "\u001b[1m297/297\u001b[0m \u001b[32m━━━━━━━━━━━━━━━━━━━━\u001b[0m\u001b[37m\u001b[0m \u001b[1m0s\u001b[0m 21ms/step - age_out_loss: 4.1793 - age_out_mae: 4.1793 - loss: 4.8225 - sex_out_accuracy: 0.9331 - sex_out_loss: 0.1637\n",
            "Epoch 61: val_loss did not improve from 6.65495\n",
            "\u001b[1m297/297\u001b[0m \u001b[32m━━━━━━━━━━━━━━━━━━━━\u001b[0m\u001b[37m\u001b[0m \u001b[1m7s\u001b[0m 22ms/step - age_out_loss: 4.1794 - age_out_mae: 4.1794 - loss: 4.8226 - sex_out_accuracy: 0.9331 - sex_out_loss: 0.1637 - val_age_out_loss: 6.6223 - val_age_out_mae: 6.6448 - val_loss: 7.4035 - val_sex_out_accuracy: 0.8870 - val_sex_out_loss: 0.2828\n",
            "Epoch 62/100\n",
            "\u001b[1m295/297\u001b[0m \u001b[32m━━━━━━━━━━━━━━━━━━━\u001b[0m\u001b[37m━\u001b[0m \u001b[1m0s\u001b[0m 21ms/step - age_out_loss: 4.1665 - age_out_mae: 4.1665 - loss: 4.8139 - sex_out_accuracy: 0.9346 - sex_out_loss: 0.1634\n",
            "Epoch 62: val_loss did not improve from 6.65495\n",
            "\u001b[1m297/297\u001b[0m \u001b[32m━━━━━━━━━━━━━━━━━━━━\u001b[0m\u001b[37m\u001b[0m \u001b[1m10s\u001b[0m 23ms/step - age_out_loss: 4.1664 - age_out_mae: 4.1664 - loss: 4.8139 - sex_out_accuracy: 0.9345 - sex_out_loss: 0.1634 - val_age_out_loss: 6.9612 - val_age_out_mae: 6.9684 - val_loss: 7.7157 - val_sex_out_accuracy: 0.8893 - val_sex_out_loss: 0.2676\n",
            "Epoch 63/100\n",
            "\u001b[1m297/297\u001b[0m \u001b[32m━━━━━━━━━━━━━━━━━━━━\u001b[0m\u001b[37m\u001b[0m \u001b[1m0s\u001b[0m 25ms/step - age_out_loss: 4.1370 - age_out_mae: 4.1370 - loss: 4.7864 - sex_out_accuracy: 0.9332 - sex_out_loss: 0.1604\n",
            "Epoch 63: val_loss did not improve from 6.65495\n",
            "\u001b[1m297/297\u001b[0m \u001b[32m━━━━━━━━━━━━━━━━━━━━\u001b[0m\u001b[37m\u001b[0m \u001b[1m12s\u001b[0m 29ms/step - age_out_loss: 4.1371 - age_out_mae: 4.1371 - loss: 4.7865 - sex_out_accuracy: 0.9332 - sex_out_loss: 0.1604 - val_age_out_loss: 7.4859 - val_age_out_mae: 7.5005 - val_loss: 8.2488 - val_sex_out_accuracy: 0.8857 - val_sex_out_loss: 0.2633\n",
            "Epoch 64/100\n",
            "\u001b[1m295/297\u001b[0m \u001b[32m━━━━━━━━━━━━━━━━━━━\u001b[0m\u001b[37m━\u001b[0m \u001b[1m0s\u001b[0m 23ms/step - age_out_loss: 4.1118 - age_out_mae: 4.1118 - loss: 4.7695 - sex_out_accuracy: 0.9331 - sex_out_loss: 0.1642\n",
            "Epoch 64: val_loss did not improve from 6.65495\n",
            "\u001b[1m297/297\u001b[0m \u001b[32m━━━━━━━━━━━━━━━━━━━━\u001b[0m\u001b[37m\u001b[0m \u001b[1m7s\u001b[0m 25ms/step - age_out_loss: 4.1117 - age_out_mae: 4.1117 - loss: 4.7695 - sex_out_accuracy: 0.9331 - sex_out_loss: 0.1642 - val_age_out_loss: 7.6956 - val_age_out_mae: 7.7139 - val_loss: 8.5109 - val_sex_out_accuracy: 0.8771 - val_sex_out_loss: 0.3178\n",
            "Epoch 65/100\n",
            "\u001b[1m297/297\u001b[0m \u001b[32m━━━━━━━━━━━━━━━━━━━━\u001b[0m\u001b[37m\u001b[0m \u001b[1m0s\u001b[0m 21ms/step - age_out_loss: 4.0926 - age_out_mae: 4.0926 - loss: 4.7454 - sex_out_accuracy: 0.9326 - sex_out_loss: 0.1553\n",
            "Epoch 65: val_loss did not improve from 6.65495\n",
            "\u001b[1m297/297\u001b[0m \u001b[32m━━━━━━━━━━━━━━━━━━━━\u001b[0m\u001b[37m\u001b[0m \u001b[1m7s\u001b[0m 24ms/step - age_out_loss: 4.0928 - age_out_mae: 4.0928 - loss: 4.7455 - sex_out_accuracy: 0.9326 - sex_out_loss: 0.1553 - val_age_out_loss: 7.7772 - val_age_out_mae: 7.8117 - val_loss: 8.6085 - val_sex_out_accuracy: 0.8777 - val_sex_out_loss: 0.3067\n",
            "Epoch 66/100\n",
            "\u001b[1m295/297\u001b[0m \u001b[32m━━━━━━━━━━━━━━━━━━━\u001b[0m\u001b[37m━\u001b[0m \u001b[1m0s\u001b[0m 22ms/step - age_out_loss: 4.0323 - age_out_mae: 4.0323 - loss: 4.6904 - sex_out_accuracy: 0.9366 - sex_out_loss: 0.1563\n",
            "Epoch 66: val_loss did not improve from 6.65495\n",
            "\u001b[1m297/297\u001b[0m \u001b[32m━━━━━━━━━━━━━━━━━━━━\u001b[0m\u001b[37m\u001b[0m \u001b[1m7s\u001b[0m 24ms/step - age_out_loss: 4.0327 - age_out_mae: 4.0327 - loss: 4.6909 - sex_out_accuracy: 0.9366 - sex_out_loss: 0.1563 - val_age_out_loss: 7.1658 - val_age_out_mae: 7.1772 - val_loss: 7.9865 - val_sex_out_accuracy: 0.8762 - val_sex_out_loss: 0.3142\n",
            "Epoch 67/100\n",
            "\u001b[1m297/297\u001b[0m \u001b[32m━━━━━━━━━━━━━━━━━━━━\u001b[0m\u001b[37m\u001b[0m \u001b[1m0s\u001b[0m 21ms/step - age_out_loss: 4.0482 - age_out_mae: 4.0482 - loss: 4.7138 - sex_out_accuracy: 0.9339 - sex_out_loss: 0.1594\n",
            "Epoch 67: val_loss did not improve from 6.65495\n",
            "\u001b[1m297/297\u001b[0m \u001b[32m━━━━━━━━━━━━━━━━━━━━\u001b[0m\u001b[37m\u001b[0m \u001b[1m10s\u001b[0m 24ms/step - age_out_loss: 4.0483 - age_out_mae: 4.0483 - loss: 4.7139 - sex_out_accuracy: 0.9339 - sex_out_loss: 0.1594 - val_age_out_loss: 6.6269 - val_age_out_mae: 6.6314 - val_loss: 7.3953 - val_sex_out_accuracy: 0.8939 - val_sex_out_loss: 0.2668\n",
            "Epoch 68/100\n",
            "\u001b[1m296/297\u001b[0m \u001b[32m━━━━━━━━━━━━━━━━━━━\u001b[0m\u001b[37m━\u001b[0m \u001b[1m0s\u001b[0m 21ms/step - age_out_loss: 4.0016 - age_out_mae: 4.0016 - loss: 4.6664 - sex_out_accuracy: 0.9369 - sex_out_loss: 0.1549\n",
            "Epoch 68: val_loss did not improve from 6.65495\n",
            "\u001b[1m297/297\u001b[0m \u001b[32m━━━━━━━━━━━━━━━━━━━━\u001b[0m\u001b[37m\u001b[0m \u001b[1m10s\u001b[0m 24ms/step - age_out_loss: 4.0016 - age_out_mae: 4.0016 - loss: 4.6665 - sex_out_accuracy: 0.9368 - sex_out_loss: 0.1549 - val_age_out_loss: 6.7649 - val_age_out_mae: 6.7898 - val_loss: 7.5725 - val_sex_out_accuracy: 0.8872 - val_sex_out_loss: 0.2745\n",
            "Epoch 69/100\n",
            "\u001b[1m296/297\u001b[0m \u001b[32m━━━━━━━━━━━━━━━━━━━\u001b[0m\u001b[37m━\u001b[0m \u001b[1m0s\u001b[0m 24ms/step - age_out_loss: 4.0625 - age_out_mae: 4.0625 - loss: 4.7320 - sex_out_accuracy: 0.9384 - sex_out_loss: 0.1553\n",
            "Epoch 69: val_loss did not improve from 6.65495\n",
            "\u001b[1m297/297\u001b[0m \u001b[32m━━━━━━━━━━━━━━━━━━━━\u001b[0m\u001b[37m\u001b[0m \u001b[1m8s\u001b[0m 26ms/step - age_out_loss: 4.0624 - age_out_mae: 4.0624 - loss: 4.7320 - sex_out_accuracy: 0.9383 - sex_out_loss: 0.1553 - val_age_out_loss: 8.2596 - val_age_out_mae: 8.2889 - val_loss: 9.1072 - val_sex_out_accuracy: 0.8827 - val_sex_out_loss: 0.3059\n",
            "Epoch 70/100\n",
            "\u001b[1m297/297\u001b[0m \u001b[32m━━━━━━━━━━━━━━━━━━━━\u001b[0m\u001b[37m\u001b[0m \u001b[1m0s\u001b[0m 21ms/step - age_out_loss: 4.0658 - age_out_mae: 4.0658 - loss: 4.7311 - sex_out_accuracy: 0.9373 - sex_out_loss: 0.1467\n",
            "Epoch 70: val_loss did not improve from 6.65495\n",
            "\u001b[1m297/297\u001b[0m \u001b[32m━━━━━━━━━━━━━━━━━━━━\u001b[0m\u001b[37m\u001b[0m \u001b[1m9s\u001b[0m 23ms/step - age_out_loss: 4.0658 - age_out_mae: 4.0658 - loss: 4.7311 - sex_out_accuracy: 0.9373 - sex_out_loss: 0.1468 - val_age_out_loss: 6.5226 - val_age_out_mae: 6.5540 - val_loss: 7.3298 - val_sex_out_accuracy: 0.8897 - val_sex_out_loss: 0.2598\n",
            "Epoch 71/100\n",
            "\u001b[1m297/297\u001b[0m \u001b[32m━━━━━━━━━━━━━━━━━━━━\u001b[0m\u001b[37m\u001b[0m \u001b[1m0s\u001b[0m 21ms/step - age_out_loss: 4.0476 - age_out_mae: 4.0476 - loss: 4.7224 - sex_out_accuracy: 0.9370 - sex_out_loss: 0.1523\n",
            "Epoch 71: val_loss did not improve from 6.65495\n",
            "\u001b[1m297/297\u001b[0m \u001b[32m━━━━━━━━━━━━━━━━━━━━\u001b[0m\u001b[37m\u001b[0m \u001b[1m10s\u001b[0m 22ms/step - age_out_loss: 4.0477 - age_out_mae: 4.0477 - loss: 4.7225 - sex_out_accuracy: 0.9370 - sex_out_loss: 0.1523 - val_age_out_loss: 7.0160 - val_age_out_mae: 7.0390 - val_loss: 7.8447 - val_sex_out_accuracy: 0.8927 - val_sex_out_loss: 0.2928\n",
            "Epoch 72/100\n",
            "\u001b[1m295/297\u001b[0m \u001b[32m━━━━━━━━━━━━━━━━━━━\u001b[0m\u001b[37m━\u001b[0m \u001b[1m0s\u001b[0m 22ms/step - age_out_loss: 4.0891 - age_out_mae: 4.0891 - loss: 4.7690 - sex_out_accuracy: 0.9353 - sex_out_loss: 0.1537\n",
            "Epoch 72: val_loss did not improve from 6.65495\n",
            "\u001b[1m297/297\u001b[0m \u001b[32m━━━━━━━━━━━━━━━━━━━━\u001b[0m\u001b[37m\u001b[0m \u001b[1m11s\u001b[0m 23ms/step - age_out_loss: 4.0889 - age_out_mae: 4.0889 - loss: 4.7688 - sex_out_accuracy: 0.9353 - sex_out_loss: 0.1537 - val_age_out_loss: 6.4247 - val_age_out_mae: 6.4465 - val_loss: 7.2576 - val_sex_out_accuracy: 0.8849 - val_sex_out_loss: 0.2873\n",
            "Epoch 73/100\n",
            "\u001b[1m295/297\u001b[0m \u001b[32m━━━━━━━━━━━━━━━━━━━\u001b[0m\u001b[37m━\u001b[0m \u001b[1m0s\u001b[0m 21ms/step - age_out_loss: 3.9997 - age_out_mae: 3.9997 - loss: 4.6812 - sex_out_accuracy: 0.9357 - sex_out_loss: 0.1522\n",
            "Epoch 73: val_loss did not improve from 6.65495\n",
            "\u001b[1m297/297\u001b[0m \u001b[32m━━━━━━━━━━━━━━━━━━━━\u001b[0m\u001b[37m\u001b[0m \u001b[1m10s\u001b[0m 23ms/step - age_out_loss: 3.9996 - age_out_mae: 3.9996 - loss: 4.6812 - sex_out_accuracy: 0.9357 - sex_out_loss: 0.1522 - val_age_out_loss: 7.2783 - val_age_out_mae: 7.2848 - val_loss: 8.0986 - val_sex_out_accuracy: 0.8806 - val_sex_out_loss: 0.2934\n",
            "Epoch 74/100\n",
            "\u001b[1m295/297\u001b[0m \u001b[32m━━━━━━━━━━━━━━━━━━━\u001b[0m\u001b[37m━\u001b[0m \u001b[1m0s\u001b[0m 20ms/step - age_out_loss: 3.9868 - age_out_mae: 3.9868 - loss: 4.6626 - sex_out_accuracy: 0.9371 - sex_out_loss: 0.1428\n",
            "Epoch 74: val_loss did not improve from 6.65495\n",
            "\u001b[1m297/297\u001b[0m \u001b[32m━━━━━━━━━━━━━━━━━━━━\u001b[0m\u001b[37m\u001b[0m \u001b[1m6s\u001b[0m 22ms/step - age_out_loss: 3.9874 - age_out_mae: 3.9874 - loss: 4.6633 - sex_out_accuracy: 0.9372 - sex_out_loss: 0.1428 - val_age_out_loss: 7.9887 - val_age_out_mae: 8.0339 - val_loss: 8.8412 - val_sex_out_accuracy: 0.8840 - val_sex_out_loss: 0.2787\n",
            "Epoch 75/100\n",
            "\u001b[1m297/297\u001b[0m \u001b[32m━━━━━━━━━━━━━━━━━━━━\u001b[0m\u001b[37m\u001b[0m \u001b[1m0s\u001b[0m 21ms/step - age_out_loss: 3.9864 - age_out_mae: 3.9864 - loss: 4.6781 - sex_out_accuracy: 0.9366 - sex_out_loss: 0.1547\n",
            "Epoch 75: val_loss did not improve from 6.65495\n",
            "\u001b[1m297/297\u001b[0m \u001b[32m━━━━━━━━━━━━━━━━━━━━\u001b[0m\u001b[37m\u001b[0m \u001b[1m7s\u001b[0m 24ms/step - age_out_loss: 3.9864 - age_out_mae: 3.9865 - loss: 4.6782 - sex_out_accuracy: 0.9366 - sex_out_loss: 0.1547 - val_age_out_loss: 7.8479 - val_age_out_mae: 7.8538 - val_loss: 8.6789 - val_sex_out_accuracy: 0.8874 - val_sex_out_loss: 0.3012\n",
            "Epoch 76/100\n",
            "\u001b[1m295/297\u001b[0m \u001b[32m━━━━━━━━━━━━━━━━━━━\u001b[0m\u001b[37m━\u001b[0m \u001b[1m0s\u001b[0m 21ms/step - age_out_loss: 3.9790 - age_out_mae: 3.9790 - loss: 4.6752 - sex_out_accuracy: 0.9354 - sex_out_loss: 0.1552\n",
            "Epoch 76: val_loss did not improve from 6.65495\n",
            "\u001b[1m297/297\u001b[0m \u001b[32m━━━━━━━━━━━━━━━━━━━━\u001b[0m\u001b[37m\u001b[0m \u001b[1m7s\u001b[0m 23ms/step - age_out_loss: 3.9792 - age_out_mae: 3.9792 - loss: 4.6754 - sex_out_accuracy: 0.9354 - sex_out_loss: 0.1552 - val_age_out_loss: 6.5199 - val_age_out_mae: 6.5548 - val_loss: 7.3891 - val_sex_out_accuracy: 0.8842 - val_sex_out_loss: 0.2983\n",
            "Epoch 77/100\n",
            "\u001b[1m295/297\u001b[0m \u001b[32m━━━━━━━━━━━━━━━━━━━\u001b[0m\u001b[37m━\u001b[0m \u001b[1m0s\u001b[0m 21ms/step - age_out_loss: 3.9526 - age_out_mae: 3.9526 - loss: 4.6416 - sex_out_accuracy: 0.9424 - sex_out_loss: 0.1442\n",
            "Epoch 77: val_loss did not improve from 6.65495\n",
            "\u001b[1m297/297\u001b[0m \u001b[32m━━━━━━━━━━━━━━━━━━━━\u001b[0m\u001b[37m\u001b[0m \u001b[1m7s\u001b[0m 24ms/step - age_out_loss: 3.9525 - age_out_mae: 3.9526 - loss: 4.6416 - sex_out_accuracy: 0.9424 - sex_out_loss: 0.1443 - val_age_out_loss: 6.3265 - val_age_out_mae: 6.3219 - val_loss: 7.1531 - val_sex_out_accuracy: 0.8855 - val_sex_out_loss: 0.2929\n",
            "Epoch 78/100\n",
            "\u001b[1m297/297\u001b[0m \u001b[32m━━━━━━━━━━━━━━━━━━━━\u001b[0m\u001b[37m\u001b[0m \u001b[1m0s\u001b[0m 21ms/step - age_out_loss: 3.9224 - age_out_mae: 3.9224 - loss: 4.6164 - sex_out_accuracy: 0.9427 - sex_out_loss: 0.1454\n",
            "Epoch 78: val_loss did not improve from 6.65495\n",
            "\u001b[1m297/297\u001b[0m \u001b[32m━━━━━━━━━━━━━━━━━━━━\u001b[0m\u001b[37m\u001b[0m \u001b[1m7s\u001b[0m 23ms/step - age_out_loss: 3.9226 - age_out_mae: 3.9225 - loss: 4.6166 - sex_out_accuracy: 0.9427 - sex_out_loss: 0.1454 - val_age_out_loss: 6.4344 - val_age_out_mae: 6.4561 - val_loss: 7.2769 - val_sex_out_accuracy: 0.8899 - val_sex_out_loss: 0.2830\n",
            "Epoch 79/100\n",
            "\u001b[1m296/297\u001b[0m \u001b[32m━━━━━━━━━━━━━━━━━━━\u001b[0m\u001b[37m━\u001b[0m \u001b[1m0s\u001b[0m 21ms/step - age_out_loss: 3.9322 - age_out_mae: 3.9322 - loss: 4.6320 - sex_out_accuracy: 0.9402 - sex_out_loss: 0.1485\n",
            "Epoch 79: val_loss did not improve from 6.65495\n",
            "\u001b[1m297/297\u001b[0m \u001b[32m━━━━━━━━━━━━━━━━━━━━\u001b[0m\u001b[37m\u001b[0m \u001b[1m10s\u001b[0m 23ms/step - age_out_loss: 3.9323 - age_out_mae: 3.9323 - loss: 4.6322 - sex_out_accuracy: 0.9402 - sex_out_loss: 0.1485 - val_age_out_loss: 7.8589 - val_age_out_mae: 7.8897 - val_loss: 8.7325 - val_sex_out_accuracy: 0.8851 - val_sex_out_loss: 0.2995\n",
            "Epoch 80/100\n",
            "\u001b[1m297/297\u001b[0m \u001b[32m━━━━━━━━━━━━━━━━━━━━\u001b[0m\u001b[37m\u001b[0m \u001b[1m0s\u001b[0m 21ms/step - age_out_loss: 3.9501 - age_out_mae: 3.9501 - loss: 4.6497 - sex_out_accuracy: 0.9406 - sex_out_loss: 0.1450\n",
            "Epoch 80: val_loss did not improve from 6.65495\n",
            "\u001b[1m297/297\u001b[0m \u001b[32m━━━━━━━━━━━━━━━━━━━━\u001b[0m\u001b[37m\u001b[0m \u001b[1m10s\u001b[0m 23ms/step - age_out_loss: 3.9501 - age_out_mae: 3.9501 - loss: 4.6496 - sex_out_accuracy: 0.9406 - sex_out_loss: 0.1450 - val_age_out_loss: 7.0679 - val_age_out_mae: 7.1112 - val_loss: 7.9423 - val_sex_out_accuracy: 0.8927 - val_sex_out_loss: 0.2838\n",
            "Epoch 81/100\n",
            "\u001b[1m295/297\u001b[0m \u001b[32m━━━━━━━━━━━━━━━━━━━\u001b[0m\u001b[37m━\u001b[0m \u001b[1m0s\u001b[0m 21ms/step - age_out_loss: 3.8997 - age_out_mae: 3.8997 - loss: 4.5978 - sex_out_accuracy: 0.9448 - sex_out_loss: 0.1398\n",
            "Epoch 81: val_loss did not improve from 6.65495\n",
            "\u001b[1m297/297\u001b[0m \u001b[32m━━━━━━━━━━━━━━━━━━━━\u001b[0m\u001b[37m\u001b[0m \u001b[1m7s\u001b[0m 23ms/step - age_out_loss: 3.9001 - age_out_mae: 3.9001 - loss: 4.5981 - sex_out_accuracy: 0.9448 - sex_out_loss: 0.1399 - val_age_out_loss: 5.9744 - val_age_out_mae: 5.9908 - val_loss: 6.8299 - val_sex_out_accuracy: 0.8870 - val_sex_out_loss: 0.2861\n",
            "Epoch 82/100\n",
            "\u001b[1m295/297\u001b[0m \u001b[32m━━━━━━━━━━━━━━━━━━━\u001b[0m\u001b[37m━\u001b[0m \u001b[1m0s\u001b[0m 21ms/step - age_out_loss: 3.8438 - age_out_mae: 3.8438 - loss: 4.5635 - sex_out_accuracy: 0.9372 - sex_out_loss: 0.1583\n",
            "Epoch 82: val_loss did not improve from 6.65495\n",
            "\u001b[1m297/297\u001b[0m \u001b[32m━━━━━━━━━━━━━━━━━━━━\u001b[0m\u001b[37m\u001b[0m \u001b[1m7s\u001b[0m 23ms/step - age_out_loss: 3.8443 - age_out_mae: 3.8443 - loss: 4.5640 - sex_out_accuracy: 0.9372 - sex_out_loss: 0.1582 - val_age_out_loss: 6.7582 - val_age_out_mae: 6.7969 - val_loss: 7.6652 - val_sex_out_accuracy: 0.8790 - val_sex_out_loss: 0.3111\n",
            "Epoch 83/100\n",
            "\u001b[1m297/297\u001b[0m \u001b[32m━━━━━━━━━━━━━━━━━━━━\u001b[0m\u001b[37m\u001b[0m \u001b[1m0s\u001b[0m 22ms/step - age_out_loss: 3.9654 - age_out_mae: 3.9654 - loss: 4.6822 - sex_out_accuracy: 0.9404 - sex_out_loss: 0.1518\n",
            "Epoch 83: val_loss did not improve from 6.65495\n",
            "\u001b[1m297/297\u001b[0m \u001b[32m━━━━━━━━━━━━━━━━━━━━\u001b[0m\u001b[37m\u001b[0m \u001b[1m7s\u001b[0m 23ms/step - age_out_loss: 3.9653 - age_out_mae: 3.9653 - loss: 4.6822 - sex_out_accuracy: 0.9404 - sex_out_loss: 0.1518 - val_age_out_loss: 7.0393 - val_age_out_mae: 7.0732 - val_loss: 7.9100 - val_sex_out_accuracy: 0.8941 - val_sex_out_loss: 0.2707\n",
            "Epoch 84/100\n",
            "\u001b[1m295/297\u001b[0m \u001b[32m━━━━━━━━━━━━━━━━━━━\u001b[0m\u001b[37m━\u001b[0m \u001b[1m0s\u001b[0m 21ms/step - age_out_loss: 3.8665 - age_out_mae: 3.8665 - loss: 4.5781 - sex_out_accuracy: 0.9407 - sex_out_loss: 0.1434\n",
            "Epoch 84: val_loss did not improve from 6.65495\n",
            "\u001b[1m297/297\u001b[0m \u001b[32m━━━━━━━━━━━━━━━━━━━━\u001b[0m\u001b[37m\u001b[0m \u001b[1m7s\u001b[0m 23ms/step - age_out_loss: 3.8670 - age_out_mae: 3.8670 - loss: 4.5786 - sex_out_accuracy: 0.9408 - sex_out_loss: 0.1433 - val_age_out_loss: 7.4668 - val_age_out_mae: 7.4737 - val_loss: 8.3278 - val_sex_out_accuracy: 0.8914 - val_sex_out_loss: 0.2897\n",
            "Epoch 85/100\n",
            "\u001b[1m297/297\u001b[0m \u001b[32m━━━━━━━━━━━━━━━━━━━━\u001b[0m\u001b[37m\u001b[0m \u001b[1m0s\u001b[0m 20ms/step - age_out_loss: 3.9385 - age_out_mae: 3.9385 - loss: 4.6485 - sex_out_accuracy: 0.9426 - sex_out_loss: 0.1390\n",
            "Epoch 85: val_loss did not improve from 6.65495\n",
            "\u001b[1m297/297\u001b[0m \u001b[32m━━━━━━━━━━━━━━━━━━━━\u001b[0m\u001b[37m\u001b[0m \u001b[1m10s\u001b[0m 23ms/step - age_out_loss: 3.9384 - age_out_mae: 3.9384 - loss: 4.6484 - sex_out_accuracy: 0.9426 - sex_out_loss: 0.1390 - val_age_out_loss: 6.6447 - val_age_out_mae: 6.6709 - val_loss: 7.5272 - val_sex_out_accuracy: 0.8906 - val_sex_out_loss: 0.2875\n",
            "Epoch 86/100\n",
            "\u001b[1m295/297\u001b[0m \u001b[32m━━━━━━━━━━━━━━━━━━━\u001b[0m\u001b[37m━\u001b[0m \u001b[1m0s\u001b[0m 21ms/step - age_out_loss: 3.8487 - age_out_mae: 3.8487 - loss: 4.5612 - sex_out_accuracy: 0.9441 - sex_out_loss: 0.1384\n",
            "Epoch 86: val_loss did not improve from 6.65495\n",
            "\u001b[1m297/297\u001b[0m \u001b[32m━━━━━━━━━━━━━━━━━━━━\u001b[0m\u001b[37m\u001b[0m \u001b[1m10s\u001b[0m 24ms/step - age_out_loss: 3.8487 - age_out_mae: 3.8486 - loss: 4.5611 - sex_out_accuracy: 0.9441 - sex_out_loss: 0.1385 - val_age_out_loss: 7.8706 - val_age_out_mae: 7.8916 - val_loss: 8.7804 - val_sex_out_accuracy: 0.8735 - val_sex_out_loss: 0.3254\n",
            "Epoch 87/100\n",
            "\u001b[1m297/297\u001b[0m \u001b[32m━━━━━━━━━━━━━━━━━━━━\u001b[0m\u001b[37m\u001b[0m \u001b[1m0s\u001b[0m 21ms/step - age_out_loss: 3.7992 - age_out_mae: 3.7992 - loss: 4.5066 - sex_out_accuracy: 0.9463 - sex_out_loss: 0.1302\n",
            "Epoch 87: val_loss did not improve from 6.65495\n",
            "\u001b[1m297/297\u001b[0m \u001b[32m━━━━━━━━━━━━━━━━━━━━\u001b[0m\u001b[37m\u001b[0m \u001b[1m10s\u001b[0m 24ms/step - age_out_loss: 3.7993 - age_out_mae: 3.7993 - loss: 4.5066 - sex_out_accuracy: 0.9463 - sex_out_loss: 0.1302 - val_age_out_loss: 6.6017 - val_age_out_mae: 6.6292 - val_loss: 7.5632 - val_sex_out_accuracy: 0.8726 - val_sex_out_loss: 0.3650\n",
            "Epoch 88/100\n",
            "\u001b[1m296/297\u001b[0m \u001b[32m━━━━━━━━━━━━━━━━━━━\u001b[0m\u001b[37m━\u001b[0m \u001b[1m0s\u001b[0m 21ms/step - age_out_loss: 3.8063 - age_out_mae: 3.8063 - loss: 4.5277 - sex_out_accuracy: 0.9426 - sex_out_loss: 0.1408\n",
            "Epoch 88: val_loss did not improve from 6.65495\n",
            "\u001b[1m297/297\u001b[0m \u001b[32m━━━━━━━━━━━━━━━━━━━━\u001b[0m\u001b[37m\u001b[0m \u001b[1m7s\u001b[0m 22ms/step - age_out_loss: 3.8064 - age_out_mae: 3.8064 - loss: 4.5277 - sex_out_accuracy: 0.9426 - sex_out_loss: 0.1408 - val_age_out_loss: 6.3316 - val_age_out_mae: 6.3193 - val_loss: 7.1757 - val_sex_out_accuracy: 0.8887 - val_sex_out_loss: 0.2790\n",
            "Epoch 89/100\n",
            "\u001b[1m297/297\u001b[0m \u001b[32m━━━━━━━━━━━━━━━━━━━━\u001b[0m\u001b[37m\u001b[0m \u001b[1m0s\u001b[0m 20ms/step - age_out_loss: 3.8426 - age_out_mae: 3.8426 - loss: 4.5559 - sex_out_accuracy: 0.9454 - sex_out_loss: 0.1306\n",
            "Epoch 89: val_loss did not improve from 6.65495\n",
            "\u001b[1m297/297\u001b[0m \u001b[32m━━━━━━━━━━━━━━━━━━━━\u001b[0m\u001b[37m\u001b[0m \u001b[1m10s\u001b[0m 22ms/step - age_out_loss: 3.8426 - age_out_mae: 3.8426 - loss: 4.5559 - sex_out_accuracy: 0.9454 - sex_out_loss: 0.1306 - val_age_out_loss: 8.3246 - val_age_out_mae: 8.3613 - val_loss: 9.2246 - val_sex_out_accuracy: 0.8899 - val_sex_out_loss: 0.2883\n",
            "Epoch 90/100\n",
            "\u001b[1m297/297\u001b[0m \u001b[32m━━━━━━━━━━━━━━━━━━━━\u001b[0m\u001b[37m\u001b[0m \u001b[1m0s\u001b[0m 21ms/step - age_out_loss: 3.8484 - age_out_mae: 3.8485 - loss: 4.5697 - sex_out_accuracy: 0.9461 - sex_out_loss: 0.1364\n",
            "Epoch 90: val_loss did not improve from 6.65495\n",
            "\u001b[1m297/297\u001b[0m \u001b[32m━━━━━━━━━━━━━━━━━━━━\u001b[0m\u001b[37m\u001b[0m \u001b[1m7s\u001b[0m 23ms/step - age_out_loss: 3.8485 - age_out_mae: 3.8485 - loss: 4.5697 - sex_out_accuracy: 0.9461 - sex_out_loss: 0.1364 - val_age_out_loss: 7.6399 - val_age_out_mae: 7.6853 - val_loss: 8.5522 - val_sex_out_accuracy: 0.8946 - val_sex_out_loss: 0.2820\n",
            "Epoch 91/100\n",
            "\u001b[1m296/297\u001b[0m \u001b[32m━━━━━━━━━━━━━━━━━━━\u001b[0m\u001b[37m━\u001b[0m \u001b[1m0s\u001b[0m 21ms/step - age_out_loss: 3.7643 - age_out_mae: 3.7643 - loss: 4.4892 - sex_out_accuracy: 0.9441 - sex_out_loss: 0.1368\n",
            "Epoch 91: val_loss did not improve from 6.65495\n",
            "\u001b[1m297/297\u001b[0m \u001b[32m━━━━━━━━━━━━━━━━━━━━\u001b[0m\u001b[37m\u001b[0m \u001b[1m7s\u001b[0m 22ms/step - age_out_loss: 3.7646 - age_out_mae: 3.7646 - loss: 4.4895 - sex_out_accuracy: 0.9441 - sex_out_loss: 0.1369 - val_age_out_loss: 7.8681 - val_age_out_mae: 7.9060 - val_loss: 8.7948 - val_sex_out_accuracy: 0.8846 - val_sex_out_loss: 0.3010\n",
            "Epoch 92/100\n",
            "\u001b[1m294/297\u001b[0m \u001b[32m━━━━━━━━━━━━━━━━━━━\u001b[0m\u001b[37m━\u001b[0m \u001b[1m0s\u001b[0m 21ms/step - age_out_loss: 3.7753 - age_out_mae: 3.7753 - loss: 4.5041 - sex_out_accuracy: 0.9441 - sex_out_loss: 0.1380\n",
            "Epoch 92: val_loss did not improve from 6.65495\n",
            "\u001b[1m297/297\u001b[0m \u001b[32m━━━━━━━━━━━━━━━━━━━━\u001b[0m\u001b[37m\u001b[0m \u001b[1m11s\u001b[0m 24ms/step - age_out_loss: 3.7756 - age_out_mae: 3.7756 - loss: 4.5044 - sex_out_accuracy: 0.9441 - sex_out_loss: 0.1379 - val_age_out_loss: 7.8712 - val_age_out_mae: 7.8837 - val_loss: 8.8041 - val_sex_out_accuracy: 0.8889 - val_sex_out_loss: 0.3375\n",
            "Epoch 93/100\n",
            "\u001b[1m297/297\u001b[0m \u001b[32m━━━━━━━━━━━━━━━━━━━━\u001b[0m\u001b[37m\u001b[0m \u001b[1m0s\u001b[0m 20ms/step - age_out_loss: 3.7895 - age_out_mae: 3.7895 - loss: 4.5217 - sex_out_accuracy: 0.9467 - sex_out_loss: 0.1383\n",
            "Epoch 93: val_loss did not improve from 6.65495\n",
            "\u001b[1m297/297\u001b[0m \u001b[32m━━━━━━━━━━━━━━━━━━━━\u001b[0m\u001b[37m\u001b[0m \u001b[1m7s\u001b[0m 22ms/step - age_out_loss: 3.7895 - age_out_mae: 3.7895 - loss: 4.5217 - sex_out_accuracy: 0.9467 - sex_out_loss: 0.1383 - val_age_out_loss: 7.0247 - val_age_out_mae: 7.0773 - val_loss: 7.9712 - val_sex_out_accuracy: 0.8876 - val_sex_out_loss: 0.3087\n",
            "Epoch 94/100\n",
            "\u001b[1m295/297\u001b[0m \u001b[32m━━━━━━━━━━━━━━━━━━━\u001b[0m\u001b[37m━\u001b[0m \u001b[1m0s\u001b[0m 20ms/step - age_out_loss: 3.7997 - age_out_mae: 3.7997 - loss: 4.5277 - sex_out_accuracy: 0.9456 - sex_out_loss: 0.1311\n",
            "Epoch 94: val_loss did not improve from 6.65495\n",
            "\u001b[1m297/297\u001b[0m \u001b[32m━━━━━━━━━━━━━━━━━━━━\u001b[0m\u001b[37m\u001b[0m \u001b[1m10s\u001b[0m 23ms/step - age_out_loss: 3.7997 - age_out_mae: 3.7996 - loss: 4.5276 - sex_out_accuracy: 0.9456 - sex_out_loss: 0.1311 - val_age_out_loss: 6.3285 - val_age_out_mae: 6.3432 - val_loss: 7.2104 - val_sex_out_accuracy: 0.8931 - val_sex_out_loss: 0.2738\n",
            "Epoch 95/100\n",
            "\u001b[1m295/297\u001b[0m \u001b[32m━━━━━━━━━━━━━━━━━━━\u001b[0m\u001b[37m━\u001b[0m \u001b[1m0s\u001b[0m 21ms/step - age_out_loss: 3.7305 - age_out_mae: 3.7305 - loss: 4.4616 - sex_out_accuracy: 0.9458 - sex_out_loss: 0.1316\n",
            "Epoch 95: val_loss did not improve from 6.65495\n",
            "\u001b[1m297/297\u001b[0m \u001b[32m━━━━━━━━━━━━━━━━━━━━\u001b[0m\u001b[37m\u001b[0m \u001b[1m7s\u001b[0m 23ms/step - age_out_loss: 3.7311 - age_out_mae: 3.7311 - loss: 4.4622 - sex_out_accuracy: 0.9458 - sex_out_loss: 0.1316 - val_age_out_loss: 6.6541 - val_age_out_mae: 6.6732 - val_loss: 7.5563 - val_sex_out_accuracy: 0.8887 - val_sex_out_loss: 0.2874\n",
            "Epoch 96/100\n",
            "\u001b[1m295/297\u001b[0m \u001b[32m━━━━━━━━━━━━━━━━━━━\u001b[0m\u001b[37m━\u001b[0m \u001b[1m0s\u001b[0m 20ms/step - age_out_loss: 3.7858 - age_out_mae: 3.7858 - loss: 4.5127 - sex_out_accuracy: 0.9501 - sex_out_loss: 0.1245\n",
            "Epoch 96: val_loss did not improve from 6.65495\n",
            "\u001b[1m297/297\u001b[0m \u001b[32m━━━━━━━━━━━━━━━━━━━━\u001b[0m\u001b[37m\u001b[0m \u001b[1m10s\u001b[0m 23ms/step - age_out_loss: 3.7857 - age_out_mae: 3.7857 - loss: 4.5126 - sex_out_accuracy: 0.9501 - sex_out_loss: 0.1246 - val_age_out_loss: 6.5327 - val_age_out_mae: 6.5403 - val_loss: 7.4324 - val_sex_out_accuracy: 0.8874 - val_sex_out_loss: 0.2927\n",
            "Epoch 97/100\n",
            "\u001b[1m297/297\u001b[0m \u001b[32m━━━━━━━━━━━━━━━━━━━━\u001b[0m\u001b[37m\u001b[0m \u001b[1m0s\u001b[0m 20ms/step - age_out_loss: 3.7547 - age_out_mae: 3.7547 - loss: 4.4880 - sex_out_accuracy: 0.9493 - sex_out_loss: 0.1280\n",
            "Epoch 97: val_loss did not improve from 6.65495\n",
            "\u001b[1m297/297\u001b[0m \u001b[32m━━━━━━━━━━━━━━━━━━━━\u001b[0m\u001b[37m\u001b[0m \u001b[1m10s\u001b[0m 22ms/step - age_out_loss: 3.7547 - age_out_mae: 3.7547 - loss: 4.4880 - sex_out_accuracy: 0.9493 - sex_out_loss: 0.1280 - val_age_out_loss: 6.1372 - val_age_out_mae: 6.1622 - val_loss: 7.0440 - val_sex_out_accuracy: 0.8878 - val_sex_out_loss: 0.2809\n",
            "Epoch 98/100\n",
            "\u001b[1m295/297\u001b[0m \u001b[32m━━━━━━━━━━━━━━━━━━━\u001b[0m\u001b[37m━\u001b[0m \u001b[1m0s\u001b[0m 21ms/step - age_out_loss: 3.7645 - age_out_mae: 3.7645 - loss: 4.5021 - sex_out_accuracy: 0.9502 - sex_out_loss: 0.1299\n",
            "Epoch 98: val_loss did not improve from 6.65495\n",
            "\u001b[1m297/297\u001b[0m \u001b[32m━━━━━━━━━━━━━━━━━━━━\u001b[0m\u001b[37m\u001b[0m \u001b[1m7s\u001b[0m 22ms/step - age_out_loss: 3.7647 - age_out_mae: 3.7647 - loss: 4.5023 - sex_out_accuracy: 0.9501 - sex_out_loss: 0.1299 - val_age_out_loss: 6.9149 - val_age_out_mae: 6.9504 - val_loss: 7.8439 - val_sex_out_accuracy: 0.8861 - val_sex_out_loss: 0.2860\n",
            "Epoch 99/100\n",
            "\u001b[1m295/297\u001b[0m \u001b[32m━━━━━━━━━━━━━━━━━━━\u001b[0m\u001b[37m━\u001b[0m \u001b[1m0s\u001b[0m 20ms/step - age_out_loss: 3.7253 - age_out_mae: 3.7253 - loss: 4.4656 - sex_out_accuracy: 0.9495 - sex_out_loss: 0.1298\n",
            "Epoch 99: val_loss did not improve from 6.65495\n",
            "\u001b[1m297/297\u001b[0m \u001b[32m━━━━━━━━━━━━━━━━━━━━\u001b[0m\u001b[37m\u001b[0m \u001b[1m6s\u001b[0m 22ms/step - age_out_loss: 3.7256 - age_out_mae: 3.7256 - loss: 4.4660 - sex_out_accuracy: 0.9495 - sex_out_loss: 0.1298 - val_age_out_loss: 7.3382 - val_age_out_mae: 7.3749 - val_loss: 8.2662 - val_sex_out_accuracy: 0.8956 - val_sex_out_loss: 0.2854\n",
            "Epoch 100/100\n",
            "\u001b[1m296/297\u001b[0m \u001b[32m━━━━━━━━━━━━━━━━━━━\u001b[0m\u001b[37m━\u001b[0m \u001b[1m0s\u001b[0m 21ms/step - age_out_loss: 3.7519 - age_out_mae: 3.7519 - loss: 4.4920 - sex_out_accuracy: 0.9470 - sex_out_loss: 0.1274\n",
            "Epoch 100: val_loss did not improve from 6.65495\n",
            "\u001b[1m297/297\u001b[0m \u001b[32m━━━━━━━━━━━━━━━━━━━━\u001b[0m\u001b[37m\u001b[0m \u001b[1m11s\u001b[0m 23ms/step - age_out_loss: 3.7519 - age_out_mae: 3.7519 - loss: 4.4921 - sex_out_accuracy: 0.9470 - sex_out_loss: 0.1274 - val_age_out_loss: 7.6006 - val_age_out_mae: 7.6424 - val_loss: 8.6132 - val_sex_out_accuracy: 0.8716 - val_sex_out_loss: 0.3564\n"
          ]
        }
      ]
    },
    {
      "cell_type": "code",
      "source": [
        "m.evaluate(x_test,y_test_2)"
      ],
      "metadata": {
        "id": "bl7kgn6etbJS",
        "outputId": "7fc83211-7e94-47a0-bad0-1d8d9fd11240",
        "colab": {
          "base_uri": "https://localhost:8080/"
        }
      },
      "execution_count": 34,
      "outputs": [
        {
          "output_type": "stream",
          "name": "stdout",
          "text": [
            "\u001b[1m149/149\u001b[0m \u001b[32m━━━━━━━━━━━━━━━━━━━━\u001b[0m\u001b[37m\u001b[0m \u001b[1m2s\u001b[0m 4ms/step - age_out_loss: 5.8860 - age_out_mae: 5.8858 - loss: 6.6264 - sex_out_accuracy: 0.8841 - sex_out_loss: 0.2846\n"
          ]
        },
        {
          "output_type": "execute_result",
          "data": {
            "text/plain": [
              "[6.654955863952637,\n",
              " 0.27485164999961853,\n",
              " 5.940728187561035,\n",
              " 5.92744255065918,\n",
              " 0.8854913711547852]"
            ]
          },
          "metadata": {},
          "execution_count": 34
        }
      ]
    },
    {
      "cell_type": "code",
      "source": [
        "plt.subplot(1,2,1)\n",
        "plt.plot(history.history['loss'],label='loss')\n",
        "plt.plot(history.history['val_loss'],label='val_loss')\n",
        "plt.title('loss and val_loss')\n",
        "plt.legend()\n",
        "\n",
        "plt.subplot(1,2,2)\n",
        "plt.plot(history.history['age_out_loss'], label='age_out_loss')\n",
        "plt.plot(history.history['sex_out_loss'],label='sex_out_loss')\n",
        "plt.legend()\n",
        "plt.show()"
      ],
      "metadata": {
        "id": "GVDuUc-ZtrSq",
        "outputId": "31ac550c-0b85-41bd-a8b2-afe8b7d2c706",
        "colab": {
          "base_uri": "https://localhost:8080/",
          "height": 452
        }
      },
      "execution_count": 35,
      "outputs": [
        {
          "output_type": "display_data",
          "data": {
            "text/plain": [
              "<Figure size 640x480 with 2 Axes>"
            ],
            "image/png": "[encoded data removed]"
          },
          "metadata": {}
        }
      ]
    },
    {
      "cell_type": "code",
      "source": [
        "pred = m.predict(x_test)"
      ],
      "metadata": {
        "id": "-3Zq-ooy-UDr",
        "outputId": "462f1607-22a0-4c36-853b-db7364b08c37",
        "colab": {
          "base_uri": "https://localhost:8080/"
        }
      },
      "execution_count": 36,
      "outputs": [
        {
          "output_type": "stream",
          "name": "stderr",
          "text": [
            "/usr/local/lib/python3.11/dist-packages/keras/src/models/functional.py:237: UserWarning: The structure of `inputs` doesn't match the expected structure.\n",
            "Expected: ['keras_tensor_32']\n",
            "Received: inputs=Tensor(shape=(32, 70, 70))\n",
            "  warnings.warn(msg)\n"
          ]
        },
        {
          "output_type": "stream",
          "name": "stdout",
          "text": [
            "\u001b[1m149/149\u001b[0m \u001b[32m━━━━━━━━━━━━━━━━━━━━\u001b[0m\u001b[37m\u001b[0m \u001b[1m1s\u001b[0m 6ms/step\n"
          ]
        }
      ]
    },
    {
      "cell_type": "code",
      "source": [
        "pred[1]"
      ],
      "metadata": {
        "id": "6vRc-8LF-1C-",
        "outputId": "ac685465-f428-4559-d5a9-8194b9967084",
        "colab": {
          "base_uri": "https://localhost:8080/"
        }
      },
      "execution_count": 37,
      "outputs": [
        {
          "output_type": "execute_result",
          "data": {
            "text/plain": [
              "array([[26.525377],\n",
              "       [31.438116],\n",
              "       [44.897514],\n",
              "       ...,\n",
              "       [67.09911 ],\n",
              "       [17.094133],\n",
              "       [ 1.219018]], dtype=float32)"
            ]
          },
          "metadata": {},
          "execution_count": 37
        }
      ]
    },
    {
      "cell_type": "code",
      "source": [
        "y_test_2[1]"
      ],
      "metadata": {
        "id": "bAdVL5tq-8sw",
        "outputId": "826beec5-162c-4378-edcd-6e1c78072d16",
        "colab": {
          "base_uri": "https://localhost:8080/"
        }
      },
      "execution_count": 38,
      "outputs": [
        {
          "output_type": "execute_result",
          "data": {
            "text/plain": [
              "array([25, 34, 52, ..., 56,  5,  1])"
            ]
          },
          "metadata": {},
          "execution_count": 38
        }
      ]
    },
    {
      "cell_type": "code",
      "source": [
        "plt.imshow(x_test[0])"
      ],
      "metadata": {
        "id": "qCLUndka_Awo",
        "outputId": "11ecb00b-052f-4aec-f229-22d372120065",
        "colab": {
          "base_uri": "https://localhost:8080/",
          "height": 450
        }
      },
      "execution_count": 39,
      "outputs": [
        {
          "output_type": "execute_result",
          "data": {
            "text/plain": [
              "<matplotlib.image.AxesImage at 0x783c299942d0>"
            ]
          },
          "metadata": {},
          "execution_count": 39
        },
        {
          "output_type": "display_data",
          "data": {
            "text/plain": [
              "<Figure size 640x480 with 1 Axes>"
            ],
            "image/png": "[encoded data removed]"
          },
          "metadata": {}
        }
      ]
    },
    {
      "cell_type": "code",
      "source": [
        "y_test[:,0]\n",
        "\n"
      ],
      "metadata": {
        "colab": {
          "base_uri": "https://localhost:8080/"
        },
        "id": "AdQdWUeHbFco",
        "outputId": "42c94d2a-d9ed-434a-fc63-66fa25a3be95"
      },
      "execution_count": 40,
      "outputs": [
        {
          "output_type": "execute_result",
          "data": {
            "text/plain": [
              "array([25, 34, 52, ..., 56,  5,  1])"
            ]
          },
          "metadata": {},
          "execution_count": 40
        }
      ]
    },
    {
      "cell_type": "code",
      "source": [
        "type(y_test_2[1])"
      ],
      "metadata": {
        "colab": {
          "base_uri": "https://localhost:8080/"
        },
        "id": "jo57NEoKbUPO",
        "outputId": "88393be5-332d-4472-d06f-8c55126dbc82"
      },
      "execution_count": 41,
      "outputs": [
        {
          "output_type": "execute_result",
          "data": {
            "text/plain": [
              "numpy.ndarray"
            ]
          },
          "metadata": {},
          "execution_count": 41
        }
      ]
    },
    {
      "cell_type": "code",
      "source": [
        "fig,ax = plt.subplots()\n",
        "ax.scatter(y_test_2[1], pred[1])\n",
        "plt.plot([np.min(y_test_2[1]),np.max(y_test_2[1]) ],[np.min(y_test_2[1]), np.max(y_test_2[1])], 'go--',color = 'red', linewidth = 3)"
      ],
      "metadata": {
        "id": "TCqDkdGE8zee",
        "colab": {
          "base_uri": "https://localhost:8080/",
          "height": 502
        },
        "outputId": "9e0aa828-a58e-4e6f-d654-5217e48b9fbd"
      },
      "execution_count": 42,
      "outputs": [
        {
          "output_type": "stream",
          "name": "stderr",
          "text": [
            "<ipython-input-42-1817afb5d68b>:3: UserWarning: color is redundantly defined by the 'color' keyword argument and the fmt string \"go--\" (-> color='g'). The keyword argument will take precedence.\n",
            "  plt.plot([np.min(y_test_2[1]),np.max(y_test_2[1]) ],[np.min(y_test_2[1]), np.max(y_test_2[1])], 'go--',color = 'red', linewidth = 3)\n"
          ]
        },
        {
          "output_type": "execute_result",
          "data": {
            "text/plain": [
              "[<matplotlib.lines.Line2D at 0x783c40191250>]"
            ]
          },
          "metadata": {},
          "execution_count": 42
        },
        {
          "output_type": "display_data",
          "data": {
            "text/plain": [
              "<Figure size 640x480 with 1 Axes>"
            ],
            "image/png": "[encoded data removed]"
          },
          "metadata": {}
        }
      ]
    },
    {
      "cell_type": "code",
      "source": [
        "print(y_test_2[0])"
      ],
      "metadata": {
        "colab": {
          "base_uri": "https://localhost:8080/"
        },
        "id": "aWeIXj5DdBDE",
        "outputId": "c5657a8b-0256-4fe4-b0ac-991c20fc1cf3"
      },
      "execution_count": 43,
      "outputs": [
        {
          "output_type": "stream",
          "name": "stdout",
          "text": [
            "[1 0 0 ... 0 0 1]\n"
          ]
        }
      ]
    },
    {
      "cell_type": "code",
      "source": [
        "pred_gender = np.where(pred[0]>=0.5,1,0)\n",
        "print(pred_gender)                          ###preparing the confusion matrix for the gender prediction"
      ],
      "metadata": {
        "colab": {
          "base_uri": "https://localhost:8080/"
        },
        "id": "H1gBi18gcG2v",
        "outputId": "c03a64ea-e55f-4c41-971a-4166f8e93a81"
      },
      "execution_count": 44,
      "outputs": [
        {
          "output_type": "stream",
          "name": "stdout",
          "text": [
            "[[1]\n",
            " [0]\n",
            " [0]\n",
            " ...\n",
            " [0]\n",
            " [1]\n",
            " [0]]\n"
          ]
        }
      ]
    },
    {
      "cell_type": "code",
      "source": [
        "from sklearn.metrics import confusion_matrix,classification_report\n",
        "result =  confusion_matrix(y_test_2[0],pred_gender)\n",
        "print(result)\n",
        "print(classification_report(y_test_2[0],pred_gender))"
      ],
      "metadata": {
        "colab": {
          "base_uri": "https://localhost:8080/"
        },
        "id": "97nBH-bWdKbd",
        "outputId": "458a7468-47c6-4712-b06c-71faae51d91f"
      },
      "execution_count": 45,
      "outputs": [
        {
          "output_type": "stream",
          "name": "stdout",
          "text": [
            "[[2121  295]\n",
            " [ 248 2078]]\n",
            "              precision    recall  f1-score   support\n",
            "\n",
            "           0       0.90      0.88      0.89      2416\n",
            "           1       0.88      0.89      0.88      2326\n",
            "\n",
            "    accuracy                           0.89      4742\n",
            "   macro avg       0.89      0.89      0.89      4742\n",
            "weighted avg       0.89      0.89      0.89      4742\n",
            "\n"
          ]
        }
      ]
    },
    {
      "cell_type": "code",
      "source": [
        "import seaborn as sns\n",
        "sns.heatmap(result,annot=True)"
      ],
      "metadata": {
        "colab": {
          "base_uri": "https://localhost:8080/",
          "height": 447
        },
        "id": "C4zt8rT1d8AS",
        "outputId": "5dbeb8da-dfd2-4596-e87c-dec925f671f1"
      },
      "execution_count": 46,
      "outputs": [
        {
          "output_type": "execute_result",
          "data": {
            "text/plain": [
              "<Axes: >"
            ]
          },
          "metadata": {},
          "execution_count": 46
        },
        {
          "output_type": "display_data",
          "data": {
            "text/plain": [
              "<Figure size 640x480 with 2 Axes>"
            ],
            "image/png": "[encoded data removed]"
          },
          "metadata": {}
        }
      ]
    },
    {
      "cell_type": "code",
      "source": [
        "def test_image(ind,images_f,images_f_2,Model):\n",
        "    plt.imshow(images_f[ind])\n",
        "    image_test=images_f_2[ind]\n",
        "    pred_l=Model.predict(np.array([image_test]))\n",
        "    sex_f=['Male','Female']\n",
        "    age=int(np.round(pred_l[1][0]))\n",
        "    sex=int(np.round(pred_l[0][0]))\n",
        "    print(\"Predicted Age is \"+ str(age))\n",
        "    print(\"Predicted Gender is \"+ sex_f[sex])"
      ],
      "metadata": {
        "id": "QopG3bRxeU_i"
      },
      "execution_count": 47,
      "outputs": []
    },
    {
      "cell_type": "code",
      "source": [
        "test_image(1,images_f,images_f_2,m)"
      ],
      "metadata": {
        "colab": {
          "base_uri": "https://localhost:8080/",
          "height": 574
        },
        "id": "4wRgpk6iegeQ",
        "outputId": "c636590a-9400-48a3-ffdd-bc6783a44196"
      },
      "execution_count": 48,
      "outputs": [
        {
          "output_type": "stream",
          "name": "stdout",
          "text": [
            "\u001b[1m1/1\u001b[0m \u001b[32m━━━━━━━━━━━━━━━━━━━━\u001b[0m\u001b[37m\u001b[0m \u001b[1m1s\u001b[0m 921ms/step\n"
          ]
        },
        {
          "output_type": "stream",
          "name": "stderr",
          "text": [
            "<ipython-input-47-f6b4345c0bcd>:6: DeprecationWarning: Conversion of an array with ndim > 0 to a scalar is deprecated, and will error in future. Ensure you extract a single element from your array before performing this operation. (Deprecated NumPy 1.25.)\n",
            "  age=int(np.round(pred_l[1][0]))\n",
            "<ipython-input-47-f6b4345c0bcd>:7: DeprecationWarning: Conversion of an array with ndim > 0 to a scalar is deprecated, and will error in future. Ensure you extract a single element from your array before performing this operation. (Deprecated NumPy 1.25.)\n",
            "  sex=int(np.round(pred_l[0][0]))\n"
          ]
        },
        {
          "output_type": "stream",
          "name": "stdout",
          "text": [
            "Predicted Age is 31\n",
            "Predicted Gender is Male\n"
          ]
        },
        {
          "output_type": "display_data",
          "data": {
            "text/plain": [
              "<Figure size 640x480 with 1 Axes>"
            ],
            "image/png": "[encoded data removed]"
          },
          "metadata": {}
        }
      ]
    },
    {
      "cell_type": "code",
      "source": [],
      "metadata": {
        "id": "zgtjhXvAexPE"
      },
      "execution_count": null,
      "outputs": []
    }
  ]
}